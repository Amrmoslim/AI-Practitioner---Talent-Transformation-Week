{
 "cells": [
  {
   "cell_type": "markdown",
   "metadata": {},
   "source": [
    "# Visulaization in Python using Matplotlib "
   ]
  },
  {
   "cell_type": "code",
   "execution_count": 20,
   "metadata": {
    "id": "Xyai0cUQTZgF"
   },
   "outputs": [],
   "source": [
    "# Importing Libraries \n",
    "import pandas as pd\n",
    "import numpy as np\n",
    "import matplotlib.pyplot as plt\n",
    "\n",
    "from IPython.display import display"
   ]
  },
  {
   "cell_type": "code",
   "execution_count": 21,
   "metadata": {
    "colab": {
     "base_uri": "https://localhost:8080/",
     "height": 419
    },
    "id": "QtI_TcR_TmFa",
    "outputId": "f4815081-9a43-4ea6-d1a1-141990e2cd66"
   },
   "outputs": [
    {
     "data": {
      "text/html": [
       "<div>\n",
       "<style scoped>\n",
       "    .dataframe tbody tr th:only-of-type {\n",
       "        vertical-align: middle;\n",
       "    }\n",
       "\n",
       "    .dataframe tbody tr th {\n",
       "        vertical-align: top;\n",
       "    }\n",
       "\n",
       "    .dataframe thead th {\n",
       "        text-align: right;\n",
       "    }\n",
       "</style>\n",
       "<table border=\"1\" class=\"dataframe\">\n",
       "  <thead>\n",
       "    <tr style=\"text-align: right;\">\n",
       "      <th></th>\n",
       "      <th>DEPTH</th>\n",
       "      <th>RHOB</th>\n",
       "      <th>DT</th>\n",
       "      <th>GR</th>\n",
       "      <th>FACIES</th>\n",
       "    </tr>\n",
       "  </thead>\n",
       "  <tbody>\n",
       "    <tr>\n",
       "      <th>0</th>\n",
       "      <td>48.0000</td>\n",
       "      <td>NaN</td>\n",
       "      <td>524.0485</td>\n",
       "      <td>NaN</td>\n",
       "      <td>1</td>\n",
       "    </tr>\n",
       "    <tr>\n",
       "      <th>1</th>\n",
       "      <td>48.1500</td>\n",
       "      <td>NaN</td>\n",
       "      <td>524.0410</td>\n",
       "      <td>NaN</td>\n",
       "      <td>1</td>\n",
       "    </tr>\n",
       "    <tr>\n",
       "      <th>2</th>\n",
       "      <td>48.3000</td>\n",
       "      <td>NaN</td>\n",
       "      <td>524.0336</td>\n",
       "      <td>NaN</td>\n",
       "      <td>1</td>\n",
       "    </tr>\n",
       "    <tr>\n",
       "      <th>3</th>\n",
       "      <td>48.4500</td>\n",
       "      <td>NaN</td>\n",
       "      <td>524.0262</td>\n",
       "      <td>NaN</td>\n",
       "      <td>1</td>\n",
       "    </tr>\n",
       "    <tr>\n",
       "      <th>4</th>\n",
       "      <td>48.6000</td>\n",
       "      <td>NaN</td>\n",
       "      <td>524.0190</td>\n",
       "      <td>NaN</td>\n",
       "      <td>1</td>\n",
       "    </tr>\n",
       "    <tr>\n",
       "      <th>...</th>\n",
       "      <td>...</td>\n",
       "      <td>...</td>\n",
       "      <td>...</td>\n",
       "      <td>...</td>\n",
       "      <td>...</td>\n",
       "    </tr>\n",
       "    <tr>\n",
       "      <th>9675</th>\n",
       "      <td>1499.2500</td>\n",
       "      <td>1787.5444</td>\n",
       "      <td>532.1727</td>\n",
       "      <td>27.6273</td>\n",
       "      <td>1</td>\n",
       "    </tr>\n",
       "    <tr>\n",
       "      <th>9676</th>\n",
       "      <td>1499.4000</td>\n",
       "      <td>1814.1691</td>\n",
       "      <td>534.8610</td>\n",
       "      <td>28.5281</td>\n",
       "      <td>1</td>\n",
       "    </tr>\n",
       "    <tr>\n",
       "      <th>9677</th>\n",
       "      <td>1499.5500</td>\n",
       "      <td>1861.6497</td>\n",
       "      <td>537.1902</td>\n",
       "      <td>28.5813</td>\n",
       "      <td>1</td>\n",
       "    </tr>\n",
       "    <tr>\n",
       "      <th>9678</th>\n",
       "      <td>1499.7001</td>\n",
       "      <td>1880.3978</td>\n",
       "      <td>537.2630</td>\n",
       "      <td>28.5813</td>\n",
       "      <td>1</td>\n",
       "    </tr>\n",
       "    <tr>\n",
       "      <th>9679</th>\n",
       "      <td>1499.8501</td>\n",
       "      <td>1856.3350</td>\n",
       "      <td>537.3831</td>\n",
       "      <td>27.9759</td>\n",
       "      <td>1</td>\n",
       "    </tr>\n",
       "  </tbody>\n",
       "</table>\n",
       "<p>9680 rows × 5 columns</p>\n",
       "</div>"
      ],
      "text/plain": [
       "          DEPTH       RHOB        DT       GR  FACIES\n",
       "0       48.0000        NaN  524.0485      NaN       1\n",
       "1       48.1500        NaN  524.0410      NaN       1\n",
       "2       48.3000        NaN  524.0336      NaN       1\n",
       "3       48.4500        NaN  524.0262      NaN       1\n",
       "4       48.6000        NaN  524.0190      NaN       1\n",
       "...         ...        ...       ...      ...     ...\n",
       "9675  1499.2500  1787.5444  532.1727  27.6273       1\n",
       "9676  1499.4000  1814.1691  534.8610  28.5281       1\n",
       "9677  1499.5500  1861.6497  537.1902  28.5813       1\n",
       "9678  1499.7001  1880.3978  537.2630  28.5813       1\n",
       "9679  1499.8501  1856.3350  537.3831  27.9759       1\n",
       "\n",
       "[9680 rows x 5 columns]"
      ]
     },
     "metadata": {},
     "output_type": "display_data"
    }
   ],
   "source": [
    "# Importing dataset to play with \n",
    "\n",
    "df=pd.read_csv(r'C:\\Users\\amrmoslim928\\MoslimSon Google Drive\\GeoML-2.0\\Day5\\well1.csv')\n",
    "display(df)"
   ]
  },
  {
   "cell_type": "markdown",
   "metadata": {
    "id": "z-J3sU1KXRxh"
   },
   "source": [
    "# The Anatomy of a plot"
   ]
  },
  {
   "cell_type": "markdown",
   "metadata": {
    "id": "4sXelD6jWk7d"
   },
   "source": [
    "![](https://matplotlib.org/stable/_images/sphx_glr_anatomy_001.png)"
   ]
  },
  {
   "cell_type": "markdown",
   "metadata": {
    "id": "aqDe0F75YCi1"
   },
   "source": [
    "#Types of Visualization analysis:\n",
    "* Univariate\n",
    "* Bivariate\n",
    "* Multivariate"
   ]
  },
  {
   "cell_type": "markdown",
   "metadata": {
    "id": "WuOp_xbwUWqo"
   },
   "source": [
    "# UniVariate Plots"
   ]
  },
  {
   "cell_type": "markdown",
   "metadata": {
    "id": "KSGwsZnjUa5k"
   },
   "source": [
    "## Histograms"
   ]
  },
  {
   "cell_type": "code",
   "execution_count": 22,
   "metadata": {
    "colab": {
     "base_uri": "https://localhost:8080/",
     "height": 607
    },
    "id": "fPysQnmXUSl4",
    "outputId": "0fa6d0cf-de9f-408c-a32c-e1903f12c957"
   },
   "outputs": [
    {
     "data": {
      "image/png": "[encoded data removed]",
      "text/plain": [
       "<Figure size 720x720 with 6 Axes>"
      ]
     },
     "metadata": {
      "needs_background": "light"
     },
     "output_type": "display_data"
    }
   ],
   "source": [
    "df.hist(figsize=(10,10)); # Using pandas builtin functions to plot"
   ]
  },
  {
   "cell_type": "code",
   "execution_count": 23,
   "metadata": {
    "colab": {
     "base_uri": "https://localhost:8080/",
     "height": 592
    },
    "id": "kLuKHjhfU7aa",
    "outputId": "cbca2798-179c-4726-cd79-bccf85054e15"
   },
   "outputs": [
    {
     "data": {
      "image/png": "[encoded data removed]",
      "text/plain": [
       "<Figure size 720x720 with 1 Axes>"
      ]
     },
     "metadata": {
      "needs_background": "light"
     },
     "output_type": "display_data"
    }
   ],
   "source": [
    "df.plot(kind = 'hist', figsize=(10,10), alpha = 0.7); # Using pandas builtin functions to plot"
   ]
  },
  {
   "cell_type": "code",
   "execution_count": 24,
   "metadata": {
    "colab": {
     "base_uri": "https://localhost:8080/",
     "height": 350
    },
    "id": "8lPSKwKsUT7w",
    "outputId": "f775429d-4102-43c8-917e-398d018b5b77"
   },
   "outputs": [
    {
     "name": "stderr",
     "output_type": "stream",
     "text": [
      "c:\\users\\amrmoslim928\\appdata\\local\\programs\\python\\python36\\lib\\site-packages\\numpy\\lib\\histograms.py:839: RuntimeWarning: invalid value encountered in greater_equal\n",
      "  keep = (tmp_a >= first_edge)\n",
      "c:\\users\\amrmoslim928\\appdata\\local\\programs\\python\\python36\\lib\\site-packages\\numpy\\lib\\histograms.py:840: RuntimeWarning: invalid value encountered in less_equal\n",
      "  keep &= (tmp_a <= last_edge)\n"
     ]
    },
    {
     "data": {
      "image/png": "[encoded data removed]",
      "text/plain": [
       "<Figure size 720x360 with 1 Axes>"
      ]
     },
     "metadata": {
      "needs_background": "light"
     },
     "output_type": "display_data"
    }
   ],
   "source": [
    "# Structure of the Plot\n",
    "plt.figure(figsize=(10,5))\n",
    "plt.hist(df.RHOB, bins = 50)\n",
    "plt.title('RHOB Histogram ')\n",
    "plt.xlabel('RHOB Values')\n",
    "plt.ylabel('frequency')\n",
    "plt.grid()\n",
    "plt.show();"
   ]
  },
  {
   "cell_type": "code",
   "execution_count": 25,
   "metadata": {
    "colab": {
     "base_uri": "https://localhost:8080/",
     "height": 350
    },
    "id": "grRKvJqiVwVf",
    "outputId": "0c1dab96-4c78-437d-c3af-705b438bee5d"
   },
   "outputs": [
    {
     "data": {
      "image/png": "[encoded data removed]",
      "text/plain": [
       "<Figure size 720x360 with 1 Axes>"
      ]
     },
     "metadata": {
      "needs_background": "light"
     },
     "output_type": "display_data"
    }
   ],
   "source": [
    "# Structure of the Plot\n",
    "plt.figure(figsize=(10,5))\n",
    "plt.boxplot(df.DEPTH)\n",
    "plt.title('Depth Boxplot ')\n",
    "plt.xlabel('Depth')\n",
    "plt.ylabel('frequency')\n",
    "plt.grid()\n",
    "plt.show();"
   ]
  },
  {
   "cell_type": "code",
   "execution_count": 26,
   "metadata": {
    "colab": {
     "base_uri": "https://localhost:8080/",
     "height": 334
    },
    "id": "6H9nuUhESQwm",
    "outputId": "8e0f60a6-daf1-490a-a6a5-64662baea427"
   },
   "outputs": [
    {
     "data": {
      "image/png": "[encoded data removed]",
      "text/plain": [
       "<Figure size 720x360 with 1 Axes>"
      ]
     },
     "metadata": {
      "needs_background": "light"
     },
     "output_type": "display_data"
    }
   ],
   "source": [
    "import seaborn as sb\n",
    "plt.figure(figsize=(10,5))\n",
    "sb.boxplot( x=\"DEPTH\", palette=[\"m\", \"g\"],data=df);"
   ]
  },
  {
   "cell_type": "code",
   "execution_count": 27,
   "metadata": {
    "colab": {
     "base_uri": "https://localhost:8080/",
     "height": 388
    },
    "id": "dS8o5UdfYmrs",
    "outputId": "4ce55d22-6926-4527-f4eb-503a4d1eccf9"
   },
   "outputs": [
    {
     "ename": "ValueError",
     "evalue": "cannot convert float NaN to integer",
     "output_type": "error",
     "traceback": [
      "\u001b[1;31m---------------------------------------------------------------------------\u001b[0m",
      "\u001b[1;31mValueError\u001b[0m                                Traceback (most recent call last)",
      "\u001b[1;32m<ipython-input-27-e8bb2e98d55a>\u001b[0m in \u001b[0;36m<module>\u001b[1;34m\u001b[0m\n\u001b[0;32m      2\u001b[0m \u001b[1;33m\u001b[0m\u001b[0m\n\u001b[0;32m      3\u001b[0m \u001b[0mplt\u001b[0m\u001b[1;33m.\u001b[0m\u001b[0mfigure\u001b[0m\u001b[1;33m(\u001b[0m\u001b[0mfigsize\u001b[0m\u001b[1;33m=\u001b[0m\u001b[1;33m(\u001b[0m\u001b[1;36m10\u001b[0m\u001b[1;33m,\u001b[0m\u001b[1;36m5\u001b[0m\u001b[1;33m)\u001b[0m\u001b[1;33m)\u001b[0m\u001b[1;33m\u001b[0m\u001b[1;33m\u001b[0m\u001b[0m\n\u001b[1;32m----> 4\u001b[1;33m \u001b[0msb\u001b[0m\u001b[1;33m.\u001b[0m\u001b[0mdistplot\u001b[0m\u001b[1;33m(\u001b[0m\u001b[0mdf\u001b[0m\u001b[1;33m[\u001b[0m\u001b[1;34m'RHOB'\u001b[0m\u001b[1;33m]\u001b[0m\u001b[1;33m)\u001b[0m\u001b[1;33m;\u001b[0m\u001b[1;33m\u001b[0m\u001b[1;33m\u001b[0m\u001b[0m\n\u001b[0m\u001b[0;32m      5\u001b[0m \u001b[1;31m# take care of warnings, they might have a future instruction **warnings.warn(msg, FutureWarning)**\u001b[0m\u001b[1;33m\u001b[0m\u001b[1;33m\u001b[0m\u001b[1;33m\u001b[0m\u001b[0m\n",
      "\u001b[1;32mc:\\users\\amrmoslim928\\appdata\\local\\programs\\python\\python36\\lib\\site-packages\\seaborn\\distributions.py\u001b[0m in \u001b[0;36mdistplot\u001b[1;34m(a, bins, hist, kde, rug, fit, hist_kws, kde_kws, rug_kws, fit_kws, color, vertical, norm_hist, axlabel, label, ax)\u001b[0m\n\u001b[0;32m    213\u001b[0m     \u001b[1;32mif\u001b[0m \u001b[0mhist\u001b[0m\u001b[1;33m:\u001b[0m\u001b[1;33m\u001b[0m\u001b[1;33m\u001b[0m\u001b[0m\n\u001b[0;32m    214\u001b[0m         \u001b[1;32mif\u001b[0m \u001b[0mbins\u001b[0m \u001b[1;32mis\u001b[0m \u001b[1;32mNone\u001b[0m\u001b[1;33m:\u001b[0m\u001b[1;33m\u001b[0m\u001b[1;33m\u001b[0m\u001b[0m\n\u001b[1;32m--> 215\u001b[1;33m             \u001b[0mbins\u001b[0m \u001b[1;33m=\u001b[0m \u001b[0mmin\u001b[0m\u001b[1;33m(\u001b[0m\u001b[0m_freedman_diaconis_bins\u001b[0m\u001b[1;33m(\u001b[0m\u001b[0ma\u001b[0m\u001b[1;33m)\u001b[0m\u001b[1;33m,\u001b[0m \u001b[1;36m50\u001b[0m\u001b[1;33m)\u001b[0m\u001b[1;33m\u001b[0m\u001b[1;33m\u001b[0m\u001b[0m\n\u001b[0m\u001b[0;32m    216\u001b[0m         \u001b[0mhist_kws\u001b[0m\u001b[1;33m.\u001b[0m\u001b[0msetdefault\u001b[0m\u001b[1;33m(\u001b[0m\u001b[1;34m\"alpha\"\u001b[0m\u001b[1;33m,\u001b[0m \u001b[1;36m0.4\u001b[0m\u001b[1;33m)\u001b[0m\u001b[1;33m\u001b[0m\u001b[1;33m\u001b[0m\u001b[0m\n\u001b[0;32m    217\u001b[0m         \u001b[1;32mif\u001b[0m \u001b[0mLooseVersion\u001b[0m\u001b[1;33m(\u001b[0m\u001b[0mmpl\u001b[0m\u001b[1;33m.\u001b[0m\u001b[0m__version__\u001b[0m\u001b[1;33m)\u001b[0m \u001b[1;33m<\u001b[0m \u001b[0mLooseVersion\u001b[0m\u001b[1;33m(\u001b[0m\u001b[1;34m\"2.2\"\u001b[0m\u001b[1;33m)\u001b[0m\u001b[1;33m:\u001b[0m\u001b[1;33m\u001b[0m\u001b[1;33m\u001b[0m\u001b[0m\n",
      "\u001b[1;32mc:\\users\\amrmoslim928\\appdata\\local\\programs\\python\\python36\\lib\\site-packages\\seaborn\\distributions.py\u001b[0m in \u001b[0;36m_freedman_diaconis_bins\u001b[1;34m(a)\u001b[0m\n\u001b[0;32m     37\u001b[0m         \u001b[1;32mreturn\u001b[0m \u001b[0mint\u001b[0m\u001b[1;33m(\u001b[0m\u001b[0mnp\u001b[0m\u001b[1;33m.\u001b[0m\u001b[0msqrt\u001b[0m\u001b[1;33m(\u001b[0m\u001b[0ma\u001b[0m\u001b[1;33m.\u001b[0m\u001b[0msize\u001b[0m\u001b[1;33m)\u001b[0m\u001b[1;33m)\u001b[0m\u001b[1;33m\u001b[0m\u001b[1;33m\u001b[0m\u001b[0m\n\u001b[0;32m     38\u001b[0m     \u001b[1;32melse\u001b[0m\u001b[1;33m:\u001b[0m\u001b[1;33m\u001b[0m\u001b[1;33m\u001b[0m\u001b[0m\n\u001b[1;32m---> 39\u001b[1;33m         \u001b[1;32mreturn\u001b[0m \u001b[0mint\u001b[0m\u001b[1;33m(\u001b[0m\u001b[0mnp\u001b[0m\u001b[1;33m.\u001b[0m\u001b[0mceil\u001b[0m\u001b[1;33m(\u001b[0m\u001b[1;33m(\u001b[0m\u001b[0ma\u001b[0m\u001b[1;33m.\u001b[0m\u001b[0mmax\u001b[0m\u001b[1;33m(\u001b[0m\u001b[1;33m)\u001b[0m \u001b[1;33m-\u001b[0m \u001b[0ma\u001b[0m\u001b[1;33m.\u001b[0m\u001b[0mmin\u001b[0m\u001b[1;33m(\u001b[0m\u001b[1;33m)\u001b[0m\u001b[1;33m)\u001b[0m \u001b[1;33m/\u001b[0m \u001b[0mh\u001b[0m\u001b[1;33m)\u001b[0m\u001b[1;33m)\u001b[0m\u001b[1;33m\u001b[0m\u001b[1;33m\u001b[0m\u001b[0m\n\u001b[0m\u001b[0;32m     40\u001b[0m \u001b[1;33m\u001b[0m\u001b[0m\n\u001b[0;32m     41\u001b[0m \u001b[1;33m\u001b[0m\u001b[0m\n",
      "\u001b[1;31mValueError\u001b[0m: cannot convert float NaN to integer"
     ]
    },
    {
     "data": {
      "image/png": "[encoded data removed]",
      "text/plain": [
       "<Figure size 720x360 with 1 Axes>"
      ]
     },
     "metadata": {
      "needs_background": "light"
     },
     "output_type": "display_data"
    }
   ],
   "source": [
    "import seaborn as sb\n",
    "\n",
    "plt.figure(figsize=(10,5))\n",
    "sb.distplot(df['RHOB']);\n",
    "# take care of warnings, they might have a future instruction **warnings.warn(msg, FutureWarning)**"
   ]
  },
  {
   "cell_type": "markdown",
   "metadata": {
    "id": "tJqUzv9iiNOf"
   },
   "source": [
    "## Violin Plot"
   ]
  },
  {
   "cell_type": "code",
   "execution_count": null,
   "metadata": {
    "colab": {
     "base_uri": "https://localhost:8080/",
     "height": 320
    },
    "id": "3dOK_1BYh1go",
    "outputId": "d0203000-9bd9-42b9-fc86-dc9941c09e94"
   },
   "outputs": [],
   "source": [
    "# Violin Plot \n",
    "plt.figure(figsize=(5,5))\n",
    "sb.violinplot(data=df.RHOB);"
   ]
  },
  {
   "cell_type": "markdown",
   "metadata": {
    "id": "-kPB-ehIftuO"
   },
   "source": [
    "# Bivariate Plots:"
   ]
  },
  {
   "cell_type": "markdown",
   "metadata": {
    "id": "pb5wTHYOgq4R"
   },
   "source": [
    "##Scatter Plot"
   ]
  },
  {
   "cell_type": "code",
   "execution_count": null,
   "metadata": {
    "colab": {
     "base_uri": "https://localhost:8080/",
     "height": 350
    },
    "id": "qjOxWrJtamGy",
    "outputId": "430b66cc-8dcf-4573-a29c-96a1945f253f"
   },
   "outputs": [],
   "source": [
    "#Scatter Plot\n",
    "plt.figure(figsize=(10,5))\n",
    "plt.scatter(df.DT, df.RHOB)\n",
    "plt.title('RHOB vs DT plot ')\n",
    "plt.xlabel('DT')\n",
    "plt.ylabel('RHOB')\n",
    "plt.grid()\n",
    "plt.show();"
   ]
  },
  {
   "cell_type": "markdown",
   "metadata": {
    "id": "s_x8Nslagzq1"
   },
   "source": [
    "##Line Plot"
   ]
  },
  {
   "cell_type": "code",
   "execution_count": null,
   "metadata": {
    "colab": {
     "base_uri": "https://localhost:8080/",
     "height": 350
    },
    "id": "iZ3Sfk5Xf5Pz",
    "outputId": "92f2e924-68cc-497a-8202-232df004c461"
   },
   "outputs": [],
   "source": [
    "# Line Plot\n",
    "plt.figure(figsize=(20,5))\n",
    "plt.plot(df.DEPTH, df.RHOB)\n",
    "plt.title('RHOB vs DEpth plot ')\n",
    "plt.xlabel('DEPTH')\n",
    "plt.ylabel('RHOB')\n",
    "plt.grid()\n",
    "plt.show();\n",
    "\n",
    "# Change the Columns and Rows to make well-log style plotting "
   ]
  },
  {
   "cell_type": "markdown",
   "metadata": {
    "id": "DLsHRR07jq1H"
   },
   "source": [
    "## Subplots"
   ]
  },
  {
   "cell_type": "code",
   "execution_count": null,
   "metadata": {
    "colab": {
     "base_uri": "https://localhost:8080/",
     "height": 365
    },
    "id": "yMnPI6z2g_Bn",
    "outputId": "7bddb9ed-1ad5-4cb6-e67a-9667a6f5ddb1"
   },
   "outputs": [],
   "source": [
    "plt.figure(figsize=(20,5))\n",
    "# LEFT plot:\n",
    "plt.subplot(1, 2, 1)\n",
    "plt.plot(df.DEPTH, df.DT)\n",
    "plt.title('DT vs DEPTH plot ')\n",
    "plt.xlabel('DEPTH')\n",
    "plt.ylabel('DT')\n",
    "\n",
    "# RIGHT plot:\n",
    "plt.subplot(1, 2, 2)\n",
    "plt.plot(df.DEPTH, df.GR)\n",
    "plt.title('GR vs DEPTH plot ')\n",
    "plt.xlabel('DEPTH')\n",
    "plt.ylabel('GR')\n",
    "plt.xticks(rotation=45);\n"
   ]
  },
  {
   "cell_type": "code",
   "execution_count": null,
   "metadata": {
    "colab": {
     "base_uri": "https://localhost:8080/",
     "height": 538
    },
    "id": "IhR4kaVonCLB",
    "outputId": "67ae6a69-ea56-44e0-acd5-e78662029c23"
   },
   "outputs": [],
   "source": [
    "# to Understand Subplots\n",
    "fig = plt.figure()  # an empty figure \n",
    "fig = plt.subplots()  # a figure with single subplot\n",
    "fig = plt.subplots(2, 4)  # a figure with 8 subplots "
   ]
  },
  {
   "cell_type": "markdown",
   "metadata": {
    "id": "oIuQk1LXlBtU"
   },
   "source": [
    "### Overlapped Features on the same plot"
   ]
  },
  {
   "cell_type": "code",
   "execution_count": null,
   "metadata": {
    "colab": {
     "base_uri": "https://localhost:8080/",
     "height": 365
    },
    "id": "6hj-giQ6jxVp",
    "outputId": "53da7fb1-5c27-4c04-f23a-185f9619c693"
   },
   "outputs": [],
   "source": [
    "plt.figure(figsize=(20,5))\n",
    "\n",
    "plt.plot(df.DEPTH, df.DT, label = 'DT', c= 'r')\n",
    "plt.plot(df.DEPTH, df.GR, label = 'GR', c = 'b')\n",
    "plt.title('DT and GR with DEPTH plot ')\n",
    "plt.xlabel('DEPTH')\n",
    "plt.ylabel('DT and GR')\n",
    "plt.legend(loc = 'upper left')\n",
    "plt.xticks(rotation=45)\n",
    "plt.text(400, 400, s='DT and GR')\n",
    "plt.show();\n"
   ]
  },
  {
   "cell_type": "markdown",
   "metadata": {
    "id": "G8WGceRnpy4_"
   },
   "source": [
    "# MultiVariat"
   ]
  },
  {
   "cell_type": "markdown",
   "metadata": {
    "id": "gstx2BY7rHjp"
   },
   "source": [
    "## By using color and transperancy"
   ]
  },
  {
   "cell_type": "code",
   "execution_count": null,
   "metadata": {
    "colab": {
     "base_uri": "https://localhost:8080/",
     "height": 350
    },
    "id": "ovuaE6I1pyGp",
    "outputId": "0820ab31-c623-4bcb-bdb1-5d841d3e9935"
   },
   "outputs": [],
   "source": [
    "# ultivariate Scatter Plot using color and transperancy\n",
    "plt.figure(figsize=(10,5))\n",
    "plt.scatter(df.DT, df.RHOB, c = df.GR, cmap = 'rainbow_r', alpha = 0.5) \n",
    "plt.colorbar()\n",
    "plt.title('RHOB vs DT plot ')\n",
    "plt.xlabel('DT')\n",
    "plt.ylabel('RHOB')\n",
    "plt.grid()\n",
    "plt.show();"
   ]
  },
  {
   "cell_type": "markdown",
   "metadata": {
    "id": "Ylyq7FnJrNR3"
   },
   "source": [
    "## by using Marker Size"
   ]
  },
  {
   "cell_type": "code",
   "execution_count": null,
   "metadata": {
    "colab": {
     "base_uri": "https://localhost:8080/",
     "height": 350
    },
    "id": "NLXHedf_rGWi",
    "outputId": "1a1fcc9e-af4e-4d43-9ee4-6ccf04ff5b96"
   },
   "outputs": [],
   "source": [
    "# ultivariate Scatter Plot using color and marker size\n",
    "plt.figure(figsize=(10,5))\n",
    "plt.scatter(df.DT, df.RHOB,c = df.GR, s = df.FACIES*20 ) \n",
    "plt.colorbar()\n",
    "plt.title('RHOB vs DT plot ')\n",
    "plt.xlabel('DT')\n",
    "plt.ylabel('RHOB')\n",
    "plt.grid()\n",
    "plt.show();"
   ]
  },
  {
   "cell_type": "code",
   "execution_count": null,
   "metadata": {
    "colab": {
     "base_uri": "https://localhost:8080/",
     "height": 513
    },
    "id": "L2ddjuOVCQlu",
    "outputId": "fa608b1a-46fa-4f81-ebef-233bc6af98ac"
   },
   "outputs": [],
   "source": [
    "# Using ax and fig \n",
    "fig, ax = plt.subplots(figsize=(11,8))\n",
    "ax.scatter(df.DT, df.RHOB, c = df.FACIES)\n",
    "ax.set_title(' DT vs RHOB')\n",
    "ax.grid(which='major', linestyle='-', linewidth='1.5', color='green')\n",
    "ax.set_xlabel('\"df.DT\" Sonic log',)\n",
    "ax.set_ylabel('\"df.RHOB\" Density log')\n",
    "fig.show();\n"
   ]
  },
  {
   "cell_type": "code",
   "execution_count": null,
   "metadata": {
    "colab": {
     "base_uri": "https://localhost:8080/",
     "height": 306
    },
    "id": "fLYXkW6stYi2",
    "outputId": "6eee1b9c-0367-4fa4-e46a-d0677fa12579"
   },
   "outputs": [],
   "source": [
    "# Markers\n",
    "plt.figure(figsize = [5,5])\n",
    "\n",
    "common_size = 2500\n",
    "plt.scatter([0],[1], marker = 's', s = common_size)\n",
    "plt.scatter([1],[1], marker = '^', s = common_size)\n",
    "plt.scatter([0],[0], marker = 'o', s = common_size)\n",
    "plt.scatter([1],[0], marker = 'X', s = common_size)\n",
    "\n",
    "# a little bit of aesthetic cleaning\n",
    "plt.xlim(-0.5,1.5)\n",
    "plt.xticks([])\n",
    "plt.ylim(-0.5,1.5)\n",
    "plt.yticks([]);"
   ]
  },
  {
   "cell_type": "markdown",
   "metadata": {
    "id": "vQANgIwAHGxW"
   },
   "source": [
    "# Using HEATMAP"
   ]
  },
  {
   "cell_type": "code",
   "execution_count": null,
   "metadata": {
    "colab": {
     "base_uri": "https://localhost:8080/",
     "height": 432
    },
    "id": "KzkGk6jHHKea",
    "outputId": "3c308a03-b0ec-4d6c-b630-368feb33f60c"
   },
   "outputs": [],
   "source": [
    "fig, ax = plt.subplots(figsize=(14,7))\n",
    "sb.heatmap(df.corr(), annot= True,linewidths=0.1);"
   ]
  },
  {
   "cell_type": "markdown",
   "metadata": {
    "id": "HH7o7jWRIrut"
   },
   "source": [
    "### More correlation plots"
   ]
  },
  {
   "cell_type": "code",
   "execution_count": null,
   "metadata": {
    "colab": {
     "base_uri": "https://localhost:8080/",
     "height": 725
    },
    "id": "n4J1FuCTI2cb",
    "outputId": "1f10b9d5-96e8-4720-9bc2-e01889cc6196"
   },
   "outputs": [],
   "source": [
    "# more correlation plots\n",
    "from pandas.plotting import scatter_matrix\n",
    "scatter_matrix(df, figsize=(15, 12), diagonal= 'hist')\n",
    "plt.show()"
   ]
  },
  {
   "cell_type": "code",
   "execution_count": null,
   "metadata": {
    "colab": {
     "base_uri": "https://localhost:8080/",
     "height": 743
    },
    "id": "Lh0LuA-IKBX2",
    "outputId": "867d894b-f608-41a5-e0dd-2b42d93de5e9"
   },
   "outputs": [],
   "source": [
    "# Using seaborn \n",
    "sb.pairplot(df,diag_kind='kde',dropna= True, hue = 'FACIES', palette= 'rainbow')"
   ]
  },
  {
   "cell_type": "code",
   "execution_count": null,
   "metadata": {
    "colab": {
     "base_uri": "https://localhost:8080/",
     "height": 743
    },
    "id": "QuH9F3fjOAE3",
    "outputId": "8084bfe4-655e-4041-d2ce-048b9b5b8dd9"
   },
   "outputs": [],
   "source": [
    "sb.pairplot(df,diag_kind='kde',dropna= True, hue = 'FACIES', palette= 'rainbow', corner= True, markers=[\"o\", \"s\", \"D\"])"
   ]
  },
  {
   "cell_type": "code",
   "execution_count": null,
   "metadata": {
    "colab": {
     "base_uri": "https://localhost:8080/",
     "height": 743
    },
    "id": "Shru9wfzOr0z",
    "outputId": "a41f60ac-e2b7-4b6c-b6d2-9d6caba03e40"
   },
   "outputs": [],
   "source": [
    "sb.pairplot(df,diag_kind='kde',dropna= True, hue = 'FACIES', palette= 'rainbow', corner= True, markers=[\"o\", \"s\", \"D\", \"X\"])"
   ]
  },
  {
   "cell_type": "code",
   "execution_count": null,
   "metadata": {
    "colab": {
     "base_uri": "https://localhost:8080/",
     "height": 350
    },
    "id": "jE7zOAWOPpfU",
    "outputId": "825d31b1-4226-408f-a6dd-5aa0fa7a743c"
   },
   "outputs": [],
   "source": [
    "plt.figure(figsize=(10,5))\n",
    "sb.regplot(data = df, x = 'DT', y = 'RHOB',color='b', fit_reg = True, line_kws={'color':'red'}, marker='o', logx=True)\n",
    "plt.title('RHOB vs DT plot ')\n",
    "plt.xlabel('DT')\n",
    "plt.ylabel('RHOB')\n",
    "plt.grid();"
   ]
  },
  {
   "cell_type": "markdown",
   "metadata": {
    "id": "85xvET5sIYYN"
   },
   "source": [
    "# Histogram of all dataframe "
   ]
  },
  {
   "cell_type": "code",
   "execution_count": null,
   "metadata": {
    "colab": {
     "base_uri": "https://localhost:8080/",
     "height": 879
    },
    "id": "IZsjRM6MIelF",
    "outputId": "2c193795-89b4-4bc3-93e7-5233246bef67"
   },
   "outputs": [],
   "source": [
    "df.hist(figsize=(20,15));"
   ]
  },
  {
   "cell_type": "code",
   "execution_count": null,
   "metadata": {
    "colab": {
     "base_uri": "https://localhost:8080/",
     "height": 452
    },
    "id": "cfE3Y0WvJd0b",
    "outputId": "10a57e94-5194-4ab8-d7c5-a5ddb6fb0149"
   },
   "outputs": [],
   "source": [
    "## showing plots \n",
    "sb.distplot(df['RHOB'])\n",
    "sb.distplot(df['DT'])\n",
    "sb.distplot(df['DEPTH'])"
   ]
  },
  {
   "cell_type": "code",
   "execution_count": null,
   "metadata": {
    "id": "g9QCqFXJJ_o_"
   },
   "outputs": [],
   "source": []
  },
  {
   "cell_type": "markdown",
   "metadata": {
    "id": "v_ZKtpy3HC5V"
   },
   "source": [
    "# The big Picture"
   ]
  },
  {
   "cell_type": "code",
   "execution_count": null,
   "metadata": {
    "colab": {
     "base_uri": "https://localhost:8080/",
     "height": 607
    },
    "id": "tRr_lxUYB6pF",
    "outputId": "e04d4da7-310f-4b12-e100-73d7f1b929fe"
   },
   "outputs": [],
   "source": [
    "file = '/content/drive/My Drive/Earthid/PythonBatch/WELLS/F02-1_logs.las'\n",
    "\n",
    "# to skip the header \n",
    "data = np.loadtxt(file,skiprows=35)\n",
    "\n",
    "# to create null values in python\n",
    "data[data==-999.2500]=np.nan\n",
    "\n",
    "# to use names of the curves\n",
    "heads = ['DEPTH', 'RHOB', 'DT', 'GR', 'AI', 'AI_rel', 'PHIE']\n",
    "\n",
    "# convert it to dataframe\n",
    "data = pd.DataFrame(data,columns=heads)\n",
    "data = data[['DEPTH', 'RHOB', 'DT', 'GR','PHIE']]\n",
    "data = data.values\n",
    "\n",
    "\n",
    "rows, cols = 1,3\n",
    "fig,ax = plt.subplots(nrows=rows, ncols=cols, figsize=(12,10), sharey=True)\n",
    "heads = ['RHOB', 'DT', 'GR','PHIE']\n",
    "for i in range(cols):\n",
    "    ax[i].plot(data[:,i+1], data[:,0],linewidth='0.5')\n",
    "    ax[i].set_ylim(max(data[:, 0]), min(data[:, 0]))\n",
    "    ax[i].minorticks_on()\n",
    "    ax[i].grid(which='major', linestyle='-', linewidth='0.5', color='green')\n",
    "    ax[i].grid(which='minor', linestyle=':', linewidth='0.5', color='black') #this is a comment\n",
    "    ax[i].set_title('%s' %heads[i])\n",
    "\n",
    "y2 = data[:, 3]\n",
    "y1 = y2*0+50\n",
    "ax[2].fill_betweenx(data[:, 0], y1,y2, where=(y1>=y2), color='gold', linewidth=0)\n",
    "ax[2].fill_betweenx(data[:, 0], y1,y2, where=(y1< y2), color='lime', linewidth=0)\n",
    "plt.subplots_adjust(wspace=0)\n",
    "plt.show()"
   ]
  }
 ],
 "metadata": {
  "colab": {
   "collapsed_sections": [],
   "name": "4.0 Matplotlib_New.ipynb",
   "provenance": []
  },
  "kernelspec": {
   "display_name": "Python 3",
   "language": "python",
   "name": "python3"
  },
  "language_info": {
   "codemirror_mode": {
    "name": "ipython",
    "version": 3
   },
   "file_extension": ".py",
   "mimetype": "text/x-python",
   "name": "python",
   "nbconvert_exporter": "python",
   "pygments_lexer": "ipython3",
   "version": "3.6.8"
  },
  "toc": {
   "base_numbering": 1,
   "nav_menu": {},
   "number_sections": true,
   "sideBar": true,
   "skip_h1_title": false,
   "title_cell": "Table of Contents",
   "title_sidebar": "Contents",
   "toc_cell": false,
   "toc_position": {},
   "toc_section_display": true,
   "toc_window_display": false
  },
  "varInspector": {
   "cols": {
    "lenName": 16,
    "lenType": 16,
    "lenVar": 40
   },
   "kernels_config": {
    "python": {
     "delete_cmd_postfix": "",
     "delete_cmd_prefix": "del ",
     "library": "var_list.py",
     "varRefreshCmd": "print(var_dic_list())"
    },
    "r": {
     "delete_cmd_postfix": ") ",
     "delete_cmd_prefix": "rm(",
     "library": "var_list.r",
     "varRefreshCmd": "cat(var_dic_list()) "
    }
   },
   "types_to_exclude": [
    "module",
    "function",
    "builtin_function_or_method",
    "instance",
    "_Feature"
   ],
   "window_display": false
  }
 },
 "nbformat": 4,
 "nbformat_minor": 1
}
