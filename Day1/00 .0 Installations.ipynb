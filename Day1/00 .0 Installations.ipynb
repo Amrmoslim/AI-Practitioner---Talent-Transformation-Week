{
 "cells": [
  {
   "cell_type": "markdown",
   "metadata": {
    "id": "8KzSsq3TAUBQ"
   },
   "source": [
    "# Download python for windows \n",
    "\n",
    "[Download python for windows ](https://www.python.org/downloads/windows/)\n"
   ]
  },
  {
   "cell_type": "markdown",
   "metadata": {
    "id": "CXgZWDhH_ZG_"
   },
   "source": [
    "# Download Git Bash for windows \n",
    "\n",
    "[Download Git Bash for windows ](https://gitforwindows.org/)\n"
   ]
  },
  {
   "cell_type": "markdown",
   "metadata": {
    "id": "xKQ41KSFAUSJ"
   },
   "source": [
    "# Jupyter Notebook \n",
    "1 - Using windows CMD and pip command\n",
    "* Open CMD as administratior \n",
    "* write \"pip install jupyterlab\" or \"pip install notebook\"\n",
    "* to start jupyter notebook type \"Jupyter notebook\" in the CMD shell\n",
    "\n",
    "for more information on jupyter notebook or jupyter lab click [JupyterLab /  Jupyter Notebook](https://jupyter.org/install)"
   ]
  },
  {
   "cell_type": "markdown",
   "metadata": {
    "id": "ES_wqnHtAUJo"
   },
   "source": [
    "2 - using Conda commands on windows \n",
    "\n",
    "* Open CMD as administratior \n",
    "* write \"conda install -c conda-forge jupyterlab\"\n",
    "* to start jupyter notebook type \"Jupyter notebook\" in the CMD shell\n",
    "\n",
    "for more information on jupyter notebook or jupyter lab click [JupyterLab /  Jupyter Notebook](https://jupyter.org/install)\n"
   ]
  },
  {
   "cell_type": "markdown",
   "metadata": {
    "id": "IPZZcxjAD9Jb"
   },
   "source": [
    "# Using Jupyter Notebook online with Google Colab & Google Drive\n",
    "\n",
    "[https://colab.research.google.com/](https://colab.research.google.com/)\n",
    "\n",
    "**WHY Google Colab:**\n",
    "* Your codes are stored in your google drive.\n",
    "* Easy to start with as all the requirements already installed.\n",
    "* No need for special requirements in hardware or software.\n",
    "* You can use it wherever you are with just internet connection.\n",
    "* You can access / store the dataset in your google drive.\n",
    "* Easy to share with other mates or colleagues.\n",
    "* Forget about software or packages conflict.\n",
    "* You can save your models in google drive and apply it to the new dataset.\n",
    "* Using of code snippet pane makes it easy to code faster.\n",
    "* Add comments that works like commits in github for revisions and version control.\n",
    "* Automatic save your work.\n",
    "\n",
    "\n",
    "\n"
   ]
  },
  {
   "cell_type": "markdown",
   "metadata": {
    "id": "RdCj4TlmOmBO"
   },
   "source": [
    "## Installation of a new package from Jupyter notebook"
   ]
  },
  {
   "cell_type": "code",
   "execution_count": null,
   "metadata": {
    "id": "6xVV-t2KONRh"
   },
   "outputs": [],
   "source": [
    "!pip install numpy\n",
    "!pip install pandas\n",
    "!pip install matplotlib\n",
    "!pip install seaborn"
   ]
  },
  {
   "cell_type": "code",
   "execution_count": 6,
   "metadata": {},
   "outputs": [],
   "source": [
    "def velocity (distance=50, time=10):\n",
    "    velocity = distance / time\n",
    "    return(velocity)\n"
   ]
  },
  {
   "cell_type": "code",
   "execution_count": 9,
   "metadata": {},
   "outputs": [
    {
     "data": {
      "text/plain": [
       "5.0"
      ]
     },
     "execution_count": 9,
     "metadata": {},
     "output_type": "execute_result"
    }
   ],
   "source": [
    "velocity(100,20)"
   ]
  },
  {
   "cell_type": "code",
   "execution_count": null,
   "metadata": {},
   "outputs": [],
   "source": [
    "velocity(50000,200)"
   ]
  },
  {
   "cell_type": "code",
   "execution_count": 1,
   "metadata": {},
   "outputs": [
    {
     "data": {
      "text/plain": [
       "[10, 20, 10, 20]"
      ]
     },
     "execution_count": 1,
     "metadata": {},
     "output_type": "execute_result"
    }
   ],
   "source": [
    "distance = [10,20]\n",
    "time = [5,20]\n",
    "distance*2\n"
   ]
  },
  {
   "cell_type": "markdown",
   "metadata": {
    "id": "YU5sSH9RB7Zz"
   },
   "source": [
    "from windows CMD shell type the same command line without exclamation mark (!)\n"
   ]
  },
  {
   "cell_type": "markdown",
   "metadata": {
    "id": "5jx2DVa6OwUO"
   },
   "source": [
    "## Installation of geoscience packages"
   ]
  },
  {
   "cell_type": "code",
   "execution_count": 1,
   "metadata": {
    "id": "QhbD3BlweH7I"
   },
   "outputs": [
    {
     "name": "stdout",
     "output_type": "stream",
     "text": [
      "Collecting welly\n",
      "  Downloading welly-0.4.10.tar.gz (52 kB)\n",
      "Requirement already satisfied: numpy in c:\\users\\amrmoslim928\\appdata\\local\\programs\\python\\python36\\lib\\site-packages (from welly) (1.18.0)\n",
      "Requirement already satisfied: scipy in c:\\users\\amrmoslim928\\appdata\\local\\programs\\python\\python36\\lib\\site-packages (from welly) (1.4.1)\n",
      "Requirement already satisfied: matplotlib in c:\\users\\amrmoslim928\\appdata\\local\\programs\\python\\python36\\lib\\site-packages (from welly) (3.1.2)\n",
      "Collecting lasio\n",
      "  Downloading lasio-0.29-py2.py3-none-any.whl (38 kB)\n",
      "Collecting striplog\n",
      "  Downloading striplog-0.8.8.tar.gz (77 kB)\n",
      "Requirement already satisfied: tqdm in c:\\users\\amrmoslim928\\appdata\\local\\programs\\python\\python36\\lib\\site-packages (from welly) (4.46.0)\n",
      "Requirement already satisfied: pyparsing!=2.0.4,!=2.1.2,!=2.1.6,>=2.0.1 in c:\\users\\amrmoslim928\\appdata\\local\\programs\\python\\python36\\lib\\site-packages (from matplotlib->welly) (2.4.6)\n",
      "Requirement already satisfied: cycler>=0.10 in c:\\users\\amrmoslim928\\appdata\\local\\programs\\python\\python36\\lib\\site-packages (from matplotlib->welly) (0.10.0)\n",
      "Requirement already satisfied: kiwisolver>=1.0.1 in c:\\users\\amrmoslim928\\appdata\\local\\programs\\python\\python36\\lib\\site-packages (from matplotlib->welly) (1.1.0)\n",
      "Requirement already satisfied: python-dateutil>=2.1 in c:\\users\\amrmoslim928\\appdata\\local\\programs\\python\\python36\\lib\\site-packages (from matplotlib->welly) (2.8.1)\n",
      "Requirement already satisfied: six in c:\\users\\amrmoslim928\\appdata\\local\\programs\\python\\python36\\lib\\site-packages (from cycler>=0.10->matplotlib->welly) (1.13.0)\n",
      "Requirement already satisfied: setuptools in c:\\users\\amrmoslim928\\appdata\\local\\programs\\python\\python36\\lib\\site-packages (from kiwisolver>=1.0.1->matplotlib->welly) (51.1.2)\n",
      "Building wheels for collected packages: welly, striplog\n",
      "  Building wheel for welly (setup.py): started\n",
      "  Building wheel for welly (setup.py): finished with status 'done'\n",
      "  Created wheel for welly: filename=welly-0.4.10-py3-none-any.whl size=56039 sha256=fdbc7baa3f04aa85d2ac9d0f1f39884c7eebbbb9dce2cfd81082029030a54806\n",
      "  Stored in directory: c:\\users\\amrmoslim928\\appdata\\local\\pip\\cache\\wheels\\41\\27\\0a\\8fad0f8c401e7e7695562d6f8e4c6c66e443474cec92e35d2b\n",
      "  Building wheel for striplog (setup.py): started\n",
      "  Building wheel for striplog (setup.py): finished with status 'done'\n",
      "  Created wheel for striplog: filename=striplog-0.8.8-py3-none-any.whl size=83654 sha256=31be9d9b34531046585e3a8b8e5b687cc8acd83b9d02838d7a730b1c47e20f14\n",
      "  Stored in directory: c:\\users\\amrmoslim928\\appdata\\local\\pip\\cache\\wheels\\a6\\11\\c2\\67bddfd977ba09e376b6b0d0b23908ec8eeabad6b647e8fb21\n",
      "Successfully built welly striplog\n",
      "Installing collected packages: striplog, lasio, welly\n",
      "Successfully installed lasio-0.29 striplog-0.8.8 welly-0.4.10\n"
     ]
    },
    {
     "name": "stderr",
     "output_type": "stream",
     "text": [
      "WARNING: You are using pip version 21.0.1; however, version 21.1.3 is available.\n",
      "You should consider upgrading via the 'c:\\users\\amrmoslim928\\appdata\\local\\programs\\python\\python36\\python.exe -m pip install --upgrade pip' command.\n"
     ]
    }
   ],
   "source": [
    "!pip install welly"
   ]
  },
  {
   "cell_type": "code",
   "execution_count": null,
   "metadata": {
    "id": "OS0LeFgdelCI"
   },
   "outputs": [],
   "source": [
    "!pip install petropy"
   ]
  },
  {
   "cell_type": "code",
   "execution_count": null,
   "metadata": {
    "id": "lLUEI_sSeK9i"
   },
   "outputs": [],
   "source": [
    "!pip install segyio"
   ]
  },
  {
   "cell_type": "markdown",
   "metadata": {
    "id": "3NnQneycO4F7"
   },
   "source": [
    "## Import the required packages to code"
   ]
  },
  {
   "cell_type": "code",
   "execution_count": null,
   "metadata": {
    "id": "tXQNkCA7Im4s"
   },
   "outputs": [],
   "source": [
    "#importing Pandas and Numpy and datasets \n",
    "import numpy as np\n",
    "import pandas as pd\n",
    "import matplotlib.pyplot as plt\n",
    "import sklearn \n",
    "import seaborn as sns\n",
    "from sklearn.ensemble import RandomForestRegressor, RandomForestClassifier\n",
    "from sklearn.model_selection import cross_val_score\n",
    "from sklearn.model_selection import train_test_split\n",
    "from sklearn.linear_model import LogisticRegression\n",
    "from sklearn.metrics import confusion_matrix\n",
    "from sklearn import datasets\n",
    "\n",
    "\n",
    "# The following lines adjust the granularity of reporting\n",
    "pd.options.display.float_format = \"{:.1f}\".format"
   ]
  },
  {
   "cell_type": "markdown",
   "metadata": {
    "id": "HZ70Bo1vPBDA"
   },
   "source": [
    "## To upload a dataset "
   ]
  },
  {
   "cell_type": "code",
   "execution_count": null,
   "metadata": {
    "id": "HBDXhNKRfilK"
   },
   "outputs": [],
   "source": [
    "from google.colab import files\n",
    "\n",
    "uploaded = files.upload()"
   ]
  },
  {
   "cell_type": "code",
   "execution_count": null,
   "metadata": {
    "id": "zsJb5SrffshC"
   },
   "outputs": [],
   "source": [
    "import pandas as pd\n",
    "\n",
    "uploaded = pd.DataFrame(uploaded, index=[0])"
   ]
  },
  {
   "cell_type": "markdown",
   "metadata": {
    "id": "SrlS2VkpPIvY"
   },
   "source": [
    "## Mount and import data from a google drive \n",
    "\n",
    "1.   enter the authorization code using your gmail address\n",
    "2.   copy the path of the dataset/ file to use it in the import codes\n",
    "3.   access data set using google drive path\n",
    "\n"
   ]
  },
  {
   "cell_type": "code",
   "execution_count": null,
   "metadata": {
    "id": "vFL9McMZgkGv"
   },
   "outputs": [],
   "source": [
    "from google.colab import drive\n",
    "drive.mount('/content/drive')\n",
    "# enter authorization code by your gmail login address\n",
    "# Drive already mounted at /content/drive;\n",
    "# to attempt to forcibly remount, call drive.mount(\"/content/drive\", force_remount=True)."
   ]
  },
  {
   "cell_type": "code",
   "execution_count": null,
   "metadata": {
    "id": "jsqaSm6dPvs7"
   },
   "outputs": [],
   "source": [
    "# access data set using google drive path\n",
    "filename_pp = \"/content/drive/My Drive/Equinor Synthetic model/issap20_Pp.sgy\"\n",
    "filename_ai = \"/content/drive/My Drive/Equinor Synthetic model/issap20_AI.sgy\"\n",
    "filename_fault = \"/content/drive/My Drive/Equinor Synthetic model/issap20_Fault.sgy\""
   ]
  },
  {
   "cell_type": "markdown",
   "metadata": {
    "id": "ZTSzrGnzQOpY"
   },
   "source": [
    "## NOW you are ready to go to Notebook No# 01"
   ]
  },
  {
   "cell_type": "markdown",
   "metadata": {
    "id": "Qz0aUt3cELfw"
   },
   "source": [
    "# bash commands \n",
    "* ls ('list')\n",
    "* Dir ('Directory')\n",
    "* cd ('Change Directory')\n",
    "* pwd ('present working directory')\n",
    "* "
   ]
  }
 ],
 "metadata": {
  "colab": {
   "authorship_tag": "ABX9TyOLfX6VHnzSLgZuXBwdoanL",
   "collapsed_sections": [
    "8KzSsq3TAUBQ"
   ],
   "name": "00 .0 Installations.ipynb",
   "provenance": []
  },
  "kernelspec": {
   "display_name": "Python 3 (ipykernel)",
   "language": "python",
   "name": "python3"
  },
  "language_info": {
   "codemirror_mode": {
    "name": "ipython",
    "version": 3
   },
   "file_extension": ".py",
   "mimetype": "text/x-python",
   "name": "python",
   "nbconvert_exporter": "python",
   "pygments_lexer": "ipython3",
   "version": "3.11.4"
  },
  "toc": {
   "base_numbering": 1,
   "nav_menu": {},
   "number_sections": true,
   "sideBar": true,
   "skip_h1_title": false,
   "title_cell": "Table of Contents",
   "title_sidebar": "Contents",
   "toc_cell": false,
   "toc_position": {
    "height": "calc(100% - 180px)",
    "left": "10px",
    "top": "150px",
    "width": "165px"
   },
   "toc_section_display": true,
   "toc_window_display": true
  },
  "varInspector": {
   "cols": {
    "lenName": 16,
    "lenType": 16,
    "lenVar": 40
   },
   "kernels_config": {
    "python": {
     "delete_cmd_postfix": "",
     "delete_cmd_prefix": "del ",
     "library": "var_list.py",
     "varRefreshCmd": "print(var_dic_list())"
    },
    "r": {
     "delete_cmd_postfix": ") ",
     "delete_cmd_prefix": "rm(",
     "library": "var_list.r",
     "varRefreshCmd": "cat(var_dic_list()) "
    }
   },
   "types_to_exclude": [
    "module",
    "function",
    "builtin_function_or_method",
    "instance",
    "_Feature"
   ],
   "window_display": false
  }
 },
 "nbformat": 4,
 "nbformat_minor": 4
}
