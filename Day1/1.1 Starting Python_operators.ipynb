{
 "cells": [
  {
   "cell_type": "markdown",
   "metadata": {
    "id": "c60lSUUkY8JS"
   },
   "source": [
    "#  Arithmetic operators"
   ]
  },
  {
   "cell_type": "code",
   "execution_count": 1,
   "metadata": {
    "colab": {
     "base_uri": "https://localhost:8080/"
    },
    "executionInfo": {
     "elapsed": 840,
     "status": "ok",
     "timestamp": 1613473343127,
     "user": {
      "displayName": "Amr Abdelfattah",
      "photoUrl": "https://lh3.googleusercontent.com/a-/AOh14GjOdkA_-6wQg-AlynfpgYm3Mlzes0n0S0yLhFFC=s64",
      "userId": "06550318102566356250"
     },
     "user_tz": -120
    },
    "id": "Z6EDa6GZY8JU",
    "outputId": "6eae45f2-ef57-4725-d1ca-eca0e421b312",
    "scrolled": true
   },
   "outputs": [
    {
     "name": "stdout",
     "output_type": "stream",
     "text": [
      "15\n",
      "11\n",
      "26\n",
      "6.5\n",
      "6\n",
      "1\n"
     ]
    }
   ],
   "source": [
    "# Examples of Arithmetic Operator \n",
    "a = 13\n",
    "b = 2\n",
    "\n",
    "# Addition of numbers \n",
    "add = a + b \n",
    "# Subtraction of numbers \n",
    "sub = a - b \n",
    "# Multiplication of number \n",
    "mul = a * b \n",
    "# Division(float) of number \n",
    "div1 = a / b \n",
    "# Division(floor) of number \n",
    "div2 = a // b \n",
    "# Modulo of both number \n",
    "mod = a % b \n",
    "\n",
    "# print results \n",
    "print(add) \n",
    "print(sub) \n",
    "print(mul) \n",
    "print(div1) \n",
    "print(div2) \n",
    "print(mod)"
   ]
  },
  {
   "cell_type": "markdown",
   "metadata": {
    "id": "_1dk-V5UY8Jb"
   },
   "source": [
    "# Relational Operators"
   ]
  },
  {
   "cell_type": "code",
   "execution_count": null,
   "metadata": {
    "colab": {
     "base_uri": "https://localhost:8080/"
    },
    "executionInfo": {
     "elapsed": 1009,
     "status": "ok",
     "timestamp": 1610978058917,
     "user": {
      "displayName": "Amr Abdelfattah",
      "photoUrl": "https://lh3.googleusercontent.com/a-/AOh14GjOdkA_-6wQg-AlynfpgYm3Mlzes0n0S0yLhFFC=s64",
      "userId": "06550318102566356250"
     },
     "user_tz": -120
    },
    "id": "jU8RRU0-Y8Jc",
    "outputId": "a4977a10-2c68-4a4f-cc34-68139f39b2f5"
   },
   "outputs": [
    {
     "name": "stdout",
     "output_type": "stream",
     "text": [
      "False\n",
      "True\n",
      "False\n",
      "True\n",
      "False\n",
      "True\n"
     ]
    }
   ],
   "source": [
    "# Examples of Relational Operators \n",
    "a = 13\n",
    "b = 33\n",
    "\n",
    "# a > b is False \n",
    "print(a > b) \n",
    "\n",
    "# a < b is True \n",
    "print(a < b) \n",
    "\n",
    "# a == b is False \n",
    "print(a == b) \n",
    "\n",
    "# a != b is True \n",
    "print(a != b) \n",
    "\n",
    "# a >= b is False \n",
    "print(a >= b) \n",
    "\n",
    "# a <= b is True \n",
    "print(a <= b) "
   ]
  },
  {
   "cell_type": "markdown",
   "metadata": {
    "id": "cMZMx7BvZbPV"
   },
   "source": [
    "# Logical operators"
   ]
  },
  {
   "cell_type": "code",
   "execution_count": 5,
   "metadata": {
    "colab": {
     "base_uri": "https://localhost:8080/"
    },
    "executionInfo": {
     "elapsed": 634,
     "status": "ok",
     "timestamp": 1611600155883,
     "user": {
      "displayName": "Amr Abdelfattah",
      "photoUrl": "https://lh3.googleusercontent.com/a-/AOh14GjOdkA_-6wQg-AlynfpgYm3Mlzes0n0S0yLhFFC=s64",
      "userId": "06550318102566356250"
     },
     "user_tz": -120
    },
    "id": "dBz6lZ3JY8Ji",
    "outputId": "9e7d7cdf-17f5-40a7-bb34-07852e96489d"
   },
   "outputs": [
    {
     "name": "stdout",
     "output_type": "stream",
     "text": [
      "The numbers are greater than 0\n",
      "The numbers are greater than 0\n"
     ]
    }
   ],
   "source": [
    "# Examples of Logical Operator \n",
    "a = 9\n",
    "b = 10\n",
    "c = -10\n",
    "   \n",
    "if a > 0 and b > 0: \n",
    "    print(\"The numbers are greater than 0\") \n",
    "\n",
    "if a > 0 and b > 0 or c > 0: \n",
    "    print(\"The numbers are greater than 0\") \n",
    "else: \n",
    "    print(\"Atleast one number is not greater than 0\")"
   ]
  },
  {
   "cell_type": "markdown",
   "metadata": {
    "id": "y19FKjywY8Jq"
   },
   "source": [
    "# Special operators"
   ]
  },
  {
   "cell_type": "markdown",
   "metadata": {
    "id": "foF_47kKY8Jr"
   },
   "source": [
    "* Membership operators"
   ]
  },
  {
   "cell_type": "code",
   "execution_count": null,
   "metadata": {
    "colab": {
     "base_uri": "https://localhost:8080/"
    },
    "executionInfo": {
     "elapsed": 1005,
     "status": "ok",
     "timestamp": 1610978058921,
     "user": {
      "displayName": "Amr Abdelfattah",
      "photoUrl": "https://lh3.googleusercontent.com/a-/AOh14GjOdkA_-6wQg-AlynfpgYm3Mlzes0n0S0yLhFFC=s64",
      "userId": "06550318102566356250"
     },
     "user_tz": -120
    },
    "id": "L527_xR8Y8Jt",
    "outputId": "6998e4f5-6e1f-48d3-cfac-9443ce7ece23"
   },
   "outputs": [
    {
     "name": "stdout",
     "output_type": "stream",
     "text": [
      "True\n",
      "True\n",
      "False\n",
      "True\n",
      "False\n"
     ]
    }
   ],
   "source": [
    "# Examples of Membership operator \n",
    "x = 'hello world'\n",
    "y = [1,2,3,4]\n",
    "\n",
    "print('w' in x) \n",
    "\n",
    "print('ee' not in x) \n",
    "\n",
    "print('ll' not in x) \n",
    "\n",
    "print(3 in y) \n",
    "\n",
    "print('b' in y) "
   ]
  },
  {
   "cell_type": "markdown",
   "metadata": {
    "id": "GwKdVjP1Y8J0"
   },
   "source": [
    "# Any & All in Python"
   ]
  },
  {
   "cell_type": "code",
   "execution_count": null,
   "metadata": {
    "colab": {
     "base_uri": "https://localhost:8080/"
    },
    "executionInfo": {
     "elapsed": 1003,
     "status": "ok",
     "timestamp": 1610978058922,
     "user": {
      "displayName": "Amr Abdelfattah",
      "photoUrl": "https://lh3.googleusercontent.com/a-/AOh14GjOdkA_-6wQg-AlynfpgYm3Mlzes0n0S0yLhFFC=s64",
      "userId": "06550318102566356250"
     },
     "user_tz": -120
    },
    "id": "LpYV1mYEY8J2",
    "outputId": "5b8d5439-950b-490f-fc0e-290f9d86a66e"
   },
   "outputs": [
    {
     "name": "stdout",
     "output_type": "stream",
     "text": [
      "False\n",
      "True\n"
     ]
    }
   ],
   "source": [
    "# Any : Returns true if any of the items is True \n",
    "\n",
    "# Since all are false, false is returned \n",
    "print (any([not True, False, 7>10]))\n",
    "\n",
    "# Here the method will short-circuit at the \n",
    "# second item (True) and will return True. \n",
    "print (any([False, True, 8<2])) "
   ]
  },
  {
   "cell_type": "code",
   "execution_count": null,
   "metadata": {
    "colab": {
     "base_uri": "https://localhost:8080/"
    },
    "executionInfo": {
     "elapsed": 1001,
     "status": "ok",
     "timestamp": 1610978058924,
     "user": {
      "displayName": "Amr Abdelfattah",
      "photoUrl": "https://lh3.googleusercontent.com/a-/AOh14GjOdkA_-6wQg-AlynfpgYm3Mlzes0n0S0yLhFFC=s64",
      "userId": "06550318102566356250"
     },
     "user_tz": -120
    },
    "id": "MuozxgX_Y8J6",
    "outputId": "8d6c632b-bea5-4bf7-9798-f9b8b5f801d3"
   },
   "outputs": [
    {
     "name": "stdout",
     "output_type": "stream",
     "text": [
      "False\n",
      "True\n"
     ]
    }
   ],
   "source": [
    "# All : Returns true if all of the items are True\n",
    "print (all([not True, False, 7>10]))\n",
    "print (all([not False, True, 8>=2]))"
   ]
  },
  {
   "cell_type": "code",
   "execution_count": null,
   "metadata": {
    "id": "3qAdZfWbLUOC"
   },
   "outputs": [],
   "source": []
  }
 ],
 "metadata": {
  "colab": {
   "collapsed_sections": [],
   "name": "1.1 Starting Python_operators.ipynb",
   "provenance": [],
   "toc_visible": true
  },
  "kernelspec": {
   "display_name": "Python 3 (ipykernel)",
   "language": "python",
   "name": "python3"
  },
  "language_info": {
   "codemirror_mode": {
    "name": "ipython",
    "version": 3
   },
   "file_extension": ".py",
   "mimetype": "text/x-python",
   "name": "python",
   "nbconvert_exporter": "python",
   "pygments_lexer": "ipython3",
   "version": "3.11.4"
  },
  "toc": {
   "base_numbering": 1,
   "nav_menu": {},
   "number_sections": true,
   "sideBar": true,
   "skip_h1_title": false,
   "title_cell": "Table of Contents",
   "title_sidebar": "Contents",
   "toc_cell": false,
   "toc_position": {},
   "toc_section_display": true,
   "toc_window_display": true
  },
  "varInspector": {
   "cols": {
    "lenName": 16,
    "lenType": 16,
    "lenVar": 40
   },
   "kernels_config": {
    "python": {
     "delete_cmd_postfix": "",
     "delete_cmd_prefix": "del ",
     "library": "var_list.py",
     "varRefreshCmd": "print(var_dic_list())"
    },
    "r": {
     "delete_cmd_postfix": ") ",
     "delete_cmd_prefix": "rm(",
     "library": "var_list.r",
     "varRefreshCmd": "cat(var_dic_list()) "
    }
   },
   "types_to_exclude": [
    "module",
    "function",
    "builtin_function_or_method",
    "instance",
    "_Feature"
   ],
   "window_display": false
  }
 },
 "nbformat": 4,
 "nbformat_minor": 4
}
