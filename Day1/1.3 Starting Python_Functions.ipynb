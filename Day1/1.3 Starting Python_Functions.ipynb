{
 "cells": [
  {
   "cell_type": "markdown",
   "metadata": {
    "id": "BbP55O3lcgcG"
   },
   "source": [
    "# function strucure in python"
   ]
  },
  {
   "cell_type": "code",
   "execution_count": 2,
   "metadata": {
    "colab": {
     "base_uri": "https://localhost:8080/"
    },
    "executionInfo": {
     "elapsed": 886,
     "status": "ok",
     "timestamp": 1613292735102,
     "user": {
      "displayName": "Amr Abdelfattah",
      "photoUrl": "https://lh3.googleusercontent.com/a-/AOh14GjOdkA_-6wQg-AlynfpgYm3Mlzes0n0S0yLhFFC=s64",
      "userId": "06550318102566356250"
     },
     "user_tz": -120
    },
    "id": "T3qdzTNccl8X",
    "outputId": "4d4f468b-ec03-4a5b-a2c5-3dd3464bbea4"
   },
   "outputs": [
    {
     "name": "stdout",
     "output_type": "stream",
     "text": [
      "even\n",
      "odd\n"
     ]
    }
   ],
   "source": [
    "# A simple Python function to check \n",
    "# whether x is even or odd \n",
    "def evenOdd( x ): \n",
    "    if (x % 2 == 0): \n",
    "        print (\"even\")\n",
    "    else: \n",
    "        print (\"odd\")\n",
    "\n",
    "# Driver code\n",
    "# in function call , you type function name and send parameters to it inside () \n",
    "evenOdd(2)\n",
    "evenOdd(3)"
   ]
  },
  {
   "cell_type": "code",
   "execution_count": 11,
   "metadata": {
    "id": "PQ9U0Fstco73"
   },
   "outputs": [],
   "source": [
    "# another example to demonestrate functions usage in python\n",
    "# function to receive a list of integers and cube every item of it and return new list with cubes\n",
    "# for example [2,3,4] >>> out : [8,27,64]\n",
    "\n",
    "# first thing we define cube function\n",
    "\n",
    "def cube(n):\n",
    "    '''\n",
    "    return cube of x\n",
    "    for example input x >>> out x^3\n",
    "    '''\n",
    "    return n**3\n",
    "\n",
    "def cubelist(items):\n",
    "    '''\n",
    "    cube every item in list items and return new list\n",
    "    '''\n",
    "    if not isinstance(items, list): # note isinstance(objecct,type) is used to check if object is of specefic type or not\n",
    "        return 'only list is supported'\n",
    "    cube_new_list=[] # empty list\n",
    "    for item in items:\n",
    "        cube_new_list.append(cube(item))\n",
    "    return cube_new_list"
   ]
  },
  {
   "cell_type": "code",
   "execution_count": 6,
   "metadata": {
    "colab": {
     "base_uri": "https://localhost:8080/"
    },
    "executionInfo": {
     "elapsed": 868,
     "status": "ok",
     "timestamp": 1613292735105,
     "user": {
      "displayName": "Amr Abdelfattah",
      "photoUrl": "https://lh3.googleusercontent.com/a-/AOh14GjOdkA_-6wQg-AlynfpgYm3Mlzes0n0S0yLhFFC=s64",
      "userId": "06550318102566356250"
     },
     "user_tz": -120
    },
    "id": "qvqSUoiGcr7E",
    "outputId": "889104dc-d7aa-44da-d69f-1b0994819fa4"
   },
   "outputs": [
    {
     "name": "stdout",
     "output_type": "stream",
     "text": [
      "only list is supported\n",
      "[8, 27, 64, 125]\n"
     ]
    }
   ],
   "source": [
    "mylist=[2,3,4,5]\n",
    "print(cubelist(100))\n",
    "print(cubelist(mylist))"
   ]
  },
  {
   "cell_type": "markdown",
   "metadata": {
    "id": "W3r07ddvcvWY"
   },
   "source": [
    "`Default arguments:\n",
    "A default argument is a parameter that assumes a default value if a value is not provided in the function call for that argument.The following example illustrates Default arguments`"
   ]
  },
  {
   "cell_type": "code",
   "execution_count": 10,
   "metadata": {
    "colab": {
     "base_uri": "https://localhost:8080/"
    },
    "executionInfo": {
     "elapsed": 857,
     "status": "ok",
     "timestamp": 1613292735106,
     "user": {
      "displayName": "Amr Abdelfattah",
      "photoUrl": "https://lh3.googleusercontent.com/a-/AOh14GjOdkA_-6wQg-AlynfpgYm3Mlzes0n0S0yLhFFC=s64",
      "userId": "06550318102566356250"
     },
     "user_tz": -120
    },
    "id": "XvN5xxHJcw9z",
    "outputId": "357b3e67-e6b1-4e63-83f4-4b48aad78e66"
   },
   "outputs": [
    {
     "name": "stdout",
     "output_type": "stream",
     "text": [
      "x:  10\n",
      "y:  50\n"
     ]
    }
   ],
   "source": [
    "# Python program to demonstrate \n",
    "# default arguments \n",
    "def myFun(x, y=50): \n",
    "    print(\"x: \", x) \n",
    "    print(\"y: \", y) \n",
    "\n",
    "# Driver code (We call myFun() with only \n",
    "# argument) \n",
    "myFun(15)"
   ]
  },
  {
   "cell_type": "markdown",
   "metadata": {
    "id": "Uy_-3MZac1At"
   },
   "source": [
    "Anonymous functions: In Python, anonymous function means that a function is without a name. As we already know that def keyword is used to define the normal functions and the lambda keyword is used to create anonymous functions\n",
    "\n",
    "Lambda definition does not include a “return” statement, it always contains an expression which is returned. We can also put a lambda definition anywhere a function is expected, and we don’t have to assign it to a variable at all. This is the simplicity of lambda functions\n"
   ]
  },
  {
   "cell_type": "code",
   "execution_count": 14,
   "metadata": {
    "colab": {
     "base_uri": "https://localhost:8080/"
    },
    "executionInfo": {
     "elapsed": 847,
     "status": "ok",
     "timestamp": 1613292735107,
     "user": {
      "displayName": "Amr Abdelfattah",
      "photoUrl": "https://lh3.googleusercontent.com/a-/AOh14GjOdkA_-6wQg-AlynfpgYm3Mlzes0n0S0yLhFFC=s64",
      "userId": "06550318102566356250"
     },
     "user_tz": -120
    },
    "id": "1JVwlO4DczBL",
    "outputId": "2b538fda-3a53-4574-d380-e18ad3c34638"
   },
   "outputs": [],
   "source": [
    "# Python code to illustrate cube of a number \n",
    "# using labmda function \n",
    "\n",
    "cube1 = lambda x: x*x*x \n"
   ]
  },
  {
   "cell_type": "code",
   "execution_count": 15,
   "metadata": {},
   "outputs": [
    {
     "name": "stdout",
     "output_type": "stream",
     "text": [
      "8\n"
     ]
    }
   ],
   "source": [
    "print(cube1(2))"
   ]
  },
  {
   "cell_type": "markdown",
   "metadata": {
    "id": "ZSh5_cKec5WB"
   },
   "source": [
    "Lambda functions can be used along with built-in functions like filter(), map() and reduce()."
   ]
  },
  {
   "cell_type": "code",
   "execution_count": null,
   "metadata": {
    "colab": {
     "base_uri": "https://localhost:8080/"
    },
    "executionInfo": {
     "elapsed": 837,
     "status": "ok",
     "timestamp": 1613292735108,
     "user": {
      "displayName": "Amr Abdelfattah",
      "photoUrl": "https://lh3.googleusercontent.com/a-/AOh14GjOdkA_-6wQg-AlynfpgYm3Mlzes0n0S0yLhFFC=s64",
      "userId": "06550318102566356250"
     },
     "user_tz": -120
    },
    "id": "LWaAdB5Wc6V4",
    "outputId": "1b98b2aa-da1f-4783-99f9-d62bf2a41e39"
   },
   "outputs": [
    {
     "name": "stdout",
     "output_type": "stream",
     "text": [
      "[5, 7, 97, 77, 23, 73, 61]\n"
     ]
    }
   ],
   "source": [
    "# Python code to illustrate \n",
    "# filter() with lambda() \n",
    "li = [5, 7, 22, 97, 54, 62, 77, 23, 73, 61] \n",
    "final_list = list(filter(lambda x: (x%2 != 0) , li)) # filter numbers from li if it is only even\n",
    "print(final_list)"
   ]
  },
  {
   "cell_type": "code",
   "execution_count": null,
   "metadata": {
    "colab": {
     "base_uri": "https://localhost:8080/"
    },
    "executionInfo": {
     "elapsed": 825,
     "status": "ok",
     "timestamp": 1613292735109,
     "user": {
      "displayName": "Amr Abdelfattah",
      "photoUrl": "https://lh3.googleusercontent.com/a-/AOh14GjOdkA_-6wQg-AlynfpgYm3Mlzes0n0S0yLhFFC=s64",
      "userId": "06550318102566356250"
     },
     "user_tz": -120
    },
    "id": "eO9mxScCc8cp",
    "outputId": "4b49a29f-6cac-4649-cf78-15d8fbe5bb50"
   },
   "outputs": [
    {
     "name": "stdout",
     "output_type": "stream",
     "text": [
      "[10, 14, 44, 194, 108, 124, 154, 46, 146, 122]\n"
     ]
    }
   ],
   "source": [
    "# Python code to illustrate\n",
    "# map() with lambda() \n",
    "# to get double of a list. \n",
    "li = [5, 7, 22, 97, 54, 62, 77, 23, 73, 61] \n",
    "final_list = list(map(lambda x: x*2 , li)) \n",
    "print(final_list) "
   ]
  }
 ],
 "metadata": {
  "colab": {
   "authorship_tag": "ABX9TyMKG5TBIxNspbjWDhtuBLRh",
   "collapsed_sections": [],
   "name": "1.3 Starting Python_Functions.ipynb",
   "provenance": [],
   "toc_visible": true
  },
  "kernelspec": {
   "display_name": "Python 3 (ipykernel)",
   "language": "python",
   "name": "python3"
  },
  "language_info": {
   "codemirror_mode": {
    "name": "ipython",
    "version": 3
   },
   "file_extension": ".py",
   "mimetype": "text/x-python",
   "name": "python",
   "nbconvert_exporter": "python",
   "pygments_lexer": "ipython3",
   "version": "3.11.4"
  },
  "toc": {
   "base_numbering": 1,
   "nav_menu": {},
   "number_sections": true,
   "sideBar": true,
   "skip_h1_title": false,
   "title_cell": "Table of Contents",
   "title_sidebar": "Contents",
   "toc_cell": false,
   "toc_position": {
    "height": "calc(100% - 180px)",
    "left": "10px",
    "top": "150px",
    "width": "165px"
   },
   "toc_section_display": true,
   "toc_window_display": true
  },
  "varInspector": {
   "cols": {
    "lenName": 16,
    "lenType": 16,
    "lenVar": 40
   },
   "kernels_config": {
    "python": {
     "delete_cmd_postfix": "",
     "delete_cmd_prefix": "del ",
     "library": "var_list.py",
     "varRefreshCmd": "print(var_dic_list())"
    },
    "r": {
     "delete_cmd_postfix": ") ",
     "delete_cmd_prefix": "rm(",
     "library": "var_list.r",
     "varRefreshCmd": "cat(var_dic_list()) "
    }
   },
   "types_to_exclude": [
    "module",
    "function",
    "builtin_function_or_method",
    "instance",
    "_Feature"
   ],
   "window_display": false
  }
 },
 "nbformat": 4,
 "nbformat_minor": 4
}
