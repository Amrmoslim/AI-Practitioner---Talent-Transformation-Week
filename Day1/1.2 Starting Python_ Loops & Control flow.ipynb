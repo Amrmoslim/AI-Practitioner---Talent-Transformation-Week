{
 "cells": [
  {
   "cell_type": "markdown",
   "metadata": {
    "id": "4EeoNMLJa2KN"
   },
   "source": [
    "# conditions"
   ]
  },
  {
   "cell_type": "code",
   "execution_count": 19,
   "metadata": {
    "id": "ruBvvDccaxIq"
   },
   "outputs": [
    {
     "name": "stdout",
     "output_type": "stream",
     "text": [
      "x is greater than y\n"
     ]
    }
   ],
   "source": [
    "# example condition in python\n",
    "x,y =8,8\n",
    "\n",
    "if(x < y):\n",
    "    st= \"x is less than y\"\n",
    "\n",
    "elif (x == y):\n",
    "    st= \"x is same as y\"\n",
    "\n",
    "else:\n",
    "    st=\"x is greater than y\"\n",
    "print(st)"
   ]
  },
  {
   "cell_type": "markdown",
   "metadata": {
    "id": "fS9SbqKRa0wK"
   },
   "source": [
    "# loops"
   ]
  },
  {
   "cell_type": "markdown",
   "metadata": {
    "id": "dyQvWTlXa7S-"
   },
   "source": [
    "# while loop"
   ]
  },
  {
   "cell_type": "code",
   "execution_count": 20,
   "metadata": {
    "colab": {
     "base_uri": "https://localhost:8080/"
    },
    "executionInfo": {
     "elapsed": 874,
     "status": "ok",
     "timestamp": 1612206085294,
     "user": {
      "displayName": "Amr Abdelfattah",
      "photoUrl": "https://lh3.googleusercontent.com/a-/AOh14GjOdkA_-6wQg-AlynfpgYm3Mlzes0n0S0yLhFFC=s64",
      "userId": "06550318102566356250"
     },
     "user_tz": -120
    },
    "id": "aaQuR0R2a6Lt",
    "outputId": "5ba270a6-c81f-494e-a5b2-4a73bc30d833"
   },
   "outputs": [
    {
     "name": "stdout",
     "output_type": "stream",
     "text": [
      "Hello 1A\n",
      "Hello 2A\n",
      "Hello 3A\n"
     ]
    }
   ],
   "source": [
    "# Python program to illustrate \n",
    "# while loop \n",
    "count = 0\n",
    "while (count < 3):\n",
    "    count = count + 1\n",
    "    print(\"Hello \"+str(count)+'A')"
   ]
  },
  {
   "cell_type": "code",
   "execution_count": 13,
   "metadata": {},
   "outputs": [
    {
     "name": "stdout",
     "output_type": "stream",
     "text": [
      "Gr\n",
      "Sp\n",
      "Vsp\n",
      "Nphi\n"
     ]
    }
   ],
   "source": [
    "welllogs = [\"GR\", \"SP\",\"VSP\", \"NPHI\"]\n",
    "\n",
    "for log in welllogs:\n",
    "    print(log.capitalize())"
   ]
  },
  {
   "cell_type": "markdown",
   "metadata": {
    "id": "NZLa5q7GbATR"
   },
   "source": [
    "# For loop\n"
   ]
  },
  {
   "cell_type": "code",
   "execution_count": 22,
   "metadata": {
    "colab": {
     "base_uri": "https://localhost:8080/"
    },
    "executionInfo": {
     "elapsed": 862,
     "status": "ok",
     "timestamp": 1612206085299,
     "user": {
      "displayName": "Amr Abdelfattah",
      "photoUrl": "https://lh3.googleusercontent.com/a-/AOh14GjOdkA_-6wQg-AlynfpgYm3Mlzes0n0S0yLhFFC=s64",
      "userId": "06550318102566356250"
     },
     "user_tz": -120
    },
    "id": "WcD7zBcwbB_O",
    "outputId": "8749d4aa-1012-40ce-cdf1-ff2b99c56cbb"
   },
   "outputs": [
    {
     "name": "stdout",
     "output_type": "stream",
     "text": [
      "List Iteration\n",
      "hello\n",
      "hello\n",
      "found java\n",
      "====================================================================================================\n",
      "\n",
      "Tuple Iteration\n",
      "python\n",
      "c++\n",
      "java\n",
      "====================================================================================================\n",
      "\n",
      "String Iteration\n",
      "p\n",
      "y\n",
      "t\n",
      "h\n",
      "o\n",
      "n\n",
      "====================================================================================================\n",
      "\n",
      "Dictionary Iteration\n",
      "xyz 123\n",
      "abc 345\n"
     ]
    },
    {
     "data": {
      "text/plain": [
       "{'xyz': 123, 'abc': 345}"
      ]
     },
     "execution_count": 22,
     "metadata": {},
     "output_type": "execute_result"
    }
   ],
   "source": [
    "# Python program to illustrate \n",
    "# Iterating over a list \n",
    "print(\"List Iteration\") \n",
    "l = [\"python\", \"c++\", \"java\"] \n",
    "for i in l:\n",
    "    if i=='c':\n",
    "        print('found c')\n",
    "    elif i=='java':\n",
    "        print('found java')\n",
    "    else:\n",
    "        print('hello')\n",
    "        \n",
    "print(\"=\"*100)\n",
    "# Iterating over a tuple (immutable) \n",
    "print(\"\\nTuple Iteration\") \n",
    "t = (\"python\", \"c++\", \"java\") \n",
    "for i in t: \n",
    "    print(i) \n",
    "\n",
    "print(\"=\"*100)\n",
    "# Iterating over a String \n",
    "print(\"\\nString Iteration\")\t \n",
    "s = \"python\"\n",
    "for i in s : \n",
    "    print(i)\n",
    "    \n",
    "print(\"=\"*100)\n",
    "# Iterating over dictionary \n",
    "print(\"\\nDictionary Iteration\") \n",
    "d = dict() \n",
    "d['xyz'] = 123\n",
    "d['abc'] = 345\n",
    "for i in d : \n",
    "    print(\"%s %d\" %(i, d[i]))\n",
    "d"
   ]
  },
  {
   "cell_type": "markdown",
   "metadata": {
    "id": "Np2tsWpmbFtW"
   },
   "source": [
    "# Nested loops"
   ]
  },
  {
   "cell_type": "code",
   "execution_count": 27,
   "metadata": {
    "colab": {
     "base_uri": "https://localhost:8080/"
    },
    "executionInfo": {
     "elapsed": 857,
     "status": "ok",
     "timestamp": 1612206085302,
     "user": {
      "displayName": "Amr Abdelfattah",
      "photoUrl": "https://lh3.googleusercontent.com/a-/AOh14GjOdkA_-6wQg-AlynfpgYm3Mlzes0n0S0yLhFFC=s64",
      "userId": "06550318102566356250"
     },
     "user_tz": -120
    },
    "id": "nhqUr5r4bIcN",
    "outputId": "3a8e5f2b-ff3d-4d9e-eab1-5a2e7149b634"
   },
   "outputs": [
    {
     "name": "stdout",
     "output_type": "stream",
     "text": [
      "0\n",
      "\n",
      "01\n",
      "\n",
      "012\n",
      "\n",
      "0123\n",
      "\n",
      "01234\n",
      "\n",
      "012345\n",
      "\n",
      "0123456\n",
      "\n",
      "01234567\n",
      "\n",
      "012345678\n",
      "\n"
     ]
    }
   ],
   "source": [
    "# Python program to illustrate \n",
    "# nested for loops in Python \n",
    "for i in range(1, 10): # range (firstnum >> start, second num >> end)\n",
    "    for j in range(i): \n",
    "        print(j,end='')\n",
    "    print('\\n')"
   ]
  },
  {
   "cell_type": "code",
   "execution_count": 41,
   "metadata": {},
   "outputs": [
    {
     "name": "stdout",
     "output_type": "stream",
     "text": [
      "0\n",
      "1\n",
      "2\n",
      "3\n",
      "4\n",
      "5\n",
      "0\n",
      "1\n",
      "2\n",
      "3\n",
      "4\n",
      "5\n",
      "6\n"
     ]
    }
   ],
   "source": [
    "for i in range(5,7):\n",
    "    for j in range(i):\n",
    "        print(j)\n",
    "    print(i)"
   ]
  },
  {
   "cell_type": "markdown",
   "metadata": {
    "id": "brZr7H9BbLdB"
   },
   "source": [
    "## Break Statement"
   ]
  },
  {
   "cell_type": "code",
   "execution_count": null,
   "metadata": {
    "colab": {
     "base_uri": "https://localhost:8080/"
    },
    "executionInfo": {
     "elapsed": 852,
     "status": "ok",
     "timestamp": 1612206085304,
     "user": {
      "displayName": "Amr Abdelfattah",
      "photoUrl": "https://lh3.googleusercontent.com/a-/AOh14GjOdkA_-6wQg-AlynfpgYm3Mlzes0n0S0yLhFFC=s64",
      "userId": "06550318102566356250"
     },
     "user_tz": -120
    },
    "id": "rIUyeZEAbPYx",
    "outputId": "6b924ec2-f26c-45fa-ad0c-22647f1e2fc9"
   },
   "outputs": [
    {
     "name": "stdout",
     "output_type": "stream",
     "text": [
      "p\n",
      "y\n",
      "t\n",
      "h\n",
      "Current Letter : h\n"
     ]
    }
   ],
   "source": [
    "# It brings control out of the loop\n",
    "for letter in 'python programming language': \n",
    "# break the loop as soon it sees 'e' \n",
    "    # or 's' \n",
    "    print(letter)\n",
    "    if letter == 'h' or letter == 'z': \n",
    "        break\n",
    "print ('Current Letter :', letter)"
   ]
  },
  {
   "cell_type": "markdown",
   "metadata": {
    "id": "TsOlfXTubSSG"
   },
   "source": [
    "## Pass Statement\n",
    "\n",
    "use pass statement to write empty loops. Pass is also used for empty control statement"
   ]
  },
  {
   "cell_type": "code",
   "execution_count": 46,
   "metadata": {
    "colab": {
     "base_uri": "https://localhost:8080/"
    },
    "executionInfo": {
     "elapsed": 847,
     "status": "ok",
     "timestamp": 1612206085306,
     "user": {
      "displayName": "Amr Abdelfattah",
      "photoUrl": "https://lh3.googleusercontent.com/a-/AOh14GjOdkA_-6wQg-AlynfpgYm3Mlzes0n0S0yLhFFC=s64",
      "userId": "06550318102566356250"
     },
     "user_tz": -120
    },
    "id": "gzStn5NebWIW",
    "outputId": "b4aabdfb-26b4-41b8-ef70-88df2a81a1c3"
   },
   "outputs": [
    {
     "name": "stdout",
     "output_type": "stream",
     "text": [
      "found z or g\n",
      "found z or g\n"
     ]
    }
   ],
   "source": [
    "# An empty loop \n",
    "for letter in 'python programming': \n",
    "    if letter =='z' or letter=='g':\n",
    "        print('found z or g')\n",
    "    else:\n",
    "        pass"
   ]
  },
  {
   "cell_type": "markdown",
   "metadata": {
    "id": "QIFKiFz4bcpT"
   },
   "source": [
    "### enumerate keyword\n",
    "\n",
    "enumerate() is used to loop through the containers printing the index number along with the value present in that particular index."
   ]
  },
  {
   "cell_type": "code",
   "execution_count": 1,
   "metadata": {
    "colab": {
     "base_uri": "https://localhost:8080/"
    },
    "executionInfo": {
     "elapsed": 840,
     "status": "ok",
     "timestamp": 1612206085307,
     "user": {
      "displayName": "Amr Abdelfattah",
      "photoUrl": "https://lh3.googleusercontent.com/a-/AOh14GjOdkA_-6wQg-AlynfpgYm3Mlzes0n0S0yLhFFC=s64",
      "userId": "06550318102566356250"
     },
     "user_tz": -120
    },
    "id": "aJ-RNF91bYfY",
    "outputId": "acf3c3d9-2743-4ba2-e83a-3d8e9ea92ea1"
   },
   "outputs": [
    {
     "name": "stdout",
     "output_type": "stream",
     "text": [
      "0 The\n",
      "1 Big\n",
      "2 Bang\n",
      "3 Theory\n"
     ]
    }
   ],
   "source": [
    "# python code to demonstrate working of enumerate() \n",
    "\n",
    "for index, value in enumerate(['The', 'Big', 'Bang', 'Theory']):\n",
    "    print(index, value) "
   ]
  },
  {
   "cell_type": "markdown",
   "metadata": {
    "id": "1JPY-byHbfws"
   },
   "source": [
    "### zip keyword\n",
    "\n",
    "zip() is used to combine 2 similar containers(list-list or dict-dict) printing the values sequentially. The loop exists only till the smaller container ends"
   ]
  },
  {
   "cell_type": "code",
   "execution_count": null,
   "metadata": {
    "colab": {
     "base_uri": "https://localhost:8080/"
    },
    "executionInfo": {
     "elapsed": 835,
     "status": "ok",
     "timestamp": 1612206085309,
     "user": {
      "displayName": "Amr Abdelfattah",
      "photoUrl": "https://lh3.googleusercontent.com/a-/AOh14GjOdkA_-6wQg-AlynfpgYm3Mlzes0n0S0yLhFFC=s64",
      "userId": "06550318102566356250"
     },
     "user_tz": -120
    },
    "id": "gAFGOZ5dbh2n",
    "outputId": "97042255-3f0f-4f81-a7a6-49e7fa551cb3"
   },
   "outputs": [
    {
     "name": "stdout",
     "output_type": "stream",
     "text": [
      "What is your name? I am apple.\n",
      "What is your colour? I am red.\n",
      "What is your shape? I am a circle.\n"
     ]
    }
   ],
   "source": [
    "# python code to demonstrate working of zip() \n",
    "# initializing list \n",
    "questions = ['name', 'colour', 'shape'] \n",
    "answers = ['apple', 'red', 'a circle'] \n",
    "\n",
    "# using zip() to combine two containers \n",
    "# and print values \n",
    "for question, answer in zip(questions, answers):\n",
    "    print('What is your {0}? I am {1}.'.format(question, answer))"
   ]
  }
 ],
 "metadata": {
  "colab": {
   "authorship_tag": "ABX9TyPvhPuikzJ8YxTQ4mHTVxTY",
   "collapsed_sections": [],
   "name": "1.2 Starting Python_ Loops & Control flow.ipynb",
   "provenance": []
  },
  "kernelspec": {
   "display_name": "Python 3 (ipykernel)",
   "language": "python",
   "name": "python3"
  },
  "language_info": {
   "codemirror_mode": {
    "name": "ipython",
    "version": 3
   },
   "file_extension": ".py",
   "mimetype": "text/x-python",
   "name": "python",
   "nbconvert_exporter": "python",
   "pygments_lexer": "ipython3",
   "version": "3.11.4"
  },
  "toc": {
   "base_numbering": 1,
   "nav_menu": {},
   "number_sections": true,
   "sideBar": true,
   "skip_h1_title": false,
   "title_cell": "Table of Contents",
   "title_sidebar": "Contents",
   "toc_cell": false,
   "toc_position": {
    "height": "calc(100% - 180px)",
    "left": "10px",
    "top": "150px",
    "width": "165px"
   },
   "toc_section_display": true,
   "toc_window_display": true
  },
  "varInspector": {
   "cols": {
    "lenName": 16,
    "lenType": 16,
    "lenVar": 40
   },
   "kernels_config": {
    "python": {
     "delete_cmd_postfix": "",
     "delete_cmd_prefix": "del ",
     "library": "var_list.py",
     "varRefreshCmd": "print(var_dic_list())"
    },
    "r": {
     "delete_cmd_postfix": ") ",
     "delete_cmd_prefix": "rm(",
     "library": "var_list.r",
     "varRefreshCmd": "cat(var_dic_list()) "
    }
   },
   "types_to_exclude": [
    "module",
    "function",
    "builtin_function_or_method",
    "instance",
    "_Feature"
   ],
   "window_display": false
  }
 },
 "nbformat": 4,
 "nbformat_minor": 4
}
