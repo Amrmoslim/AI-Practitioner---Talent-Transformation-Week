{
 "cells": [
  {
   "cell_type": "markdown",
   "metadata": {
    "id": "ZwHRQbycHcIW"
   },
   "source": [
    "# Starting Python"
   ]
  },
  {
   "cell_type": "markdown",
   "metadata": {
    "id": "CVMlKT1_Mnf3"
   },
   "source": [
    "# Data types\n",
    "* int() \\\n",
    "* float() \\\n",
    "* str() \\\n",
    "* boolean()\n",
    "* list[] \\\n",
    "* tuple() \\\n",
    "* dict{}\n",
    "* set()"
   ]
  },
  {
   "cell_type": "code",
   "execution_count": 37,
   "metadata": {
    "colab": {
     "base_uri": "https://localhost:8080/"
    },
    "executionInfo": {
     "elapsed": 11989,
     "status": "ok",
     "timestamp": 1613484030001,
     "user": {
      "displayName": "Amr Abdelfattah",
      "photoUrl": "https://lh3.googleusercontent.com/a-/AOh14GjOdkA_-6wQg-AlynfpgYm3Mlzes0n0S0yLhFFC=s64",
      "userId": "06550318102566356250"
     },
     "user_tz": -120
    },
    "id": "zPZNgKDWHVmv",
    "outputId": "149bf9ea-f803-4dc5-c73a-c1b3292dedd4"
   },
   "outputs": [
    {
     "name": "stdout",
     "output_type": "stream",
     "text": [
      "Enter your name: kk\\\n",
      "hello :) kk\\\n",
      "Enter your age: 55\n",
      "your age is : 55\n"
     ]
    },
    {
     "data": {
      "text/plain": [
       "str"
      ]
     },
     "execution_count": 37,
     "metadata": {},
     "output_type": "execute_result"
    }
   ],
   "source": [
    "#@title input() & print() fucnction\n",
    "user_name = input(\"Enter your name: \") \n",
    "print(\"hello :) \" + user_name)\n",
    "user_age = input(\"Enter your age: \") \n",
    "print(\"your age is : \" + user_age)\n",
    "\n",
    "# input function always store strings \n",
    "type(user_age)\n"
   ]
  },
  {
   "cell_type": "code",
   "execution_count": 38,
   "metadata": {},
   "outputs": [
    {
     "data": {
      "text/plain": [
       "'5555555555'"
      ]
     },
     "execution_count": 38,
     "metadata": {},
     "output_type": "execute_result"
    }
   ],
   "source": [
    "user_age*5"
   ]
  },
  {
   "cell_type": "code",
   "execution_count": 39,
   "metadata": {
    "colab": {
     "base_uri": "https://localhost:8080/"
    },
    "executionInfo": {
     "elapsed": 11975,
     "status": "ok",
     "timestamp": 1613484030004,
     "user": {
      "displayName": "Amr Abdelfattah",
      "photoUrl": "https://lh3.googleusercontent.com/a-/AOh14GjOdkA_-6wQg-AlynfpgYm3Mlzes0n0S0yLhFFC=s64",
      "userId": "06550318102566356250"
     },
     "user_tz": -120
    },
    "id": "cHfI64BxIAaa",
    "outputId": "73e4973f-c685-437b-f1ca-5368227c638d"
   },
   "outputs": [
    {
     "name": "stdout",
     "output_type": "stream",
     "text": [
      "print integr A:  10\n",
      "print float pi:  3.14\n",
      "print string my_name:  Amr Abdelfattah\n",
      "print List List1:  ['Amr', 36, -10, 0.8, 1j]\n",
      "print Tuple Tuple1  ('Amr', 36, -10, 0.8, 1j)\n",
      "Dictionary with the use of Integer Keys: \n",
      "{1: 'python', 2: 'data', 3: 'science'}\n"
     ]
    }
   ],
   "source": [
    "#integer\n",
    "A = 10\n",
    "print(\"print integr A: \", A)\n",
    "#float\n",
    "pi = 3.14\n",
    "print(\"print float pi: \", pi)\n",
    "#string\n",
    "my_name = \"Amr Abdelfattah\"\n",
    "print(\"print string my_name: \", my_name)\n",
    "# List\n",
    "List1 = ['Amr',36,-10,0.8,1j]\n",
    "print(\"print List List1: \", List1)\n",
    "#Tuple\n",
    "Tuple1 = tuple(List1)\n",
    "print(\"print Tuple Tuple1 \", Tuple1)\n",
    "#dictionary\n",
    "my_dict = {1: 'python', 2: 'data', 3: 'science'} \n",
    "print(\"Dictionary with the use of Integer Keys: \") \n",
    "print(my_dict)"
   ]
  },
  {
   "cell_type": "markdown",
   "metadata": {
    "id": "gJlqmaBkeYtM"
   },
   "source": [
    "#Dictionary Operations:\n",
    "\n",
    "* Dictionary holds a pair of values, one being the Key and the other is the value **{key : Value }**\n",
    "* Values in a dictionary can be of **any datatype** and can be **duplicated**, whereas **keys can’t be repeated**"
   ]
  },
  {
   "cell_type": "code",
   "execution_count": 40,
   "metadata": {
    "colab": {
     "base_uri": "https://localhost:8080/"
    },
    "executionInfo": {
     "elapsed": 11958,
     "status": "ok",
     "timestamp": 1613484030005,
     "user": {
      "displayName": "Amr Abdelfattah",
      "photoUrl": "https://lh3.googleusercontent.com/a-/AOh14GjOdkA_-6wQg-AlynfpgYm3Mlzes0n0S0yLhFFC=s64",
      "userId": "06550318102566356250"
     },
     "user_tz": -120
    },
    "id": "Cn-GCjmfeRP0",
    "outputId": "0e67e437-9df7-428a-8d91-9b02472ce0fe"
   },
   "outputs": [
    {
     "name": "stdout",
     "output_type": "stream",
     "text": [
      "my dict keys are keys =  dict_keys([1, 2, 3])\n",
      "my dict values are keys =  dict_values(['python', 'data', 'science'])\n",
      "==============================================================\n",
      "my dict Keys type =  <class 'dict_keys'>\n",
      "my dict values type =  <class 'dict_values'>\n"
     ]
    }
   ],
   "source": [
    "keys=my_dict.keys()\n",
    "print('my dict keys are keys = ',keys)\n",
    "# acees dict valuse\n",
    "values=my_dict.values()\n",
    "print('my dict values are keys = ',values)\n",
    "print(\"==============================================================\")\n",
    "print('my dict Keys type = ',type(keys))\n",
    "print('my dict values type = ',type(values))\n"
   ]
  },
  {
   "cell_type": "code",
   "execution_count": 41,
   "metadata": {
    "colab": {
     "base_uri": "https://localhost:8080/"
    },
    "executionInfo": {
     "elapsed": 11950,
     "status": "ok",
     "timestamp": 1613484030006,
     "user": {
      "displayName": "Amr Abdelfattah",
      "photoUrl": "https://lh3.googleusercontent.com/a-/AOh14GjOdkA_-6wQg-AlynfpgYm3Mlzes0n0S0yLhFFC=s64",
      "userId": "06550318102566356250"
     },
     "user_tz": -120
    },
    "id": "8logf5t4hHUD",
    "outputId": "01143153-3e96-43bf-8340-15e14accf485"
   },
   "outputs": [
    {
     "name": "stdout",
     "output_type": "stream",
     "text": [
      "python\n",
      "data\n",
      "science\n",
      "{1: 'python', 2: 'data', 3: -500}\n"
     ]
    }
   ],
   "source": [
    "#@title 1- access element at with keys\n",
    "# use square prackets [] and inside it put key you want to get value\n",
    "print(my_dict[1]) # will print 'python' value at key '1'\n",
    "print(my_dict[2])\n",
    "print(my_dict[3])\n",
    "# we can also overwrite key values\n",
    "my_dict[3]=-500\n",
    "print(my_dict)"
   ]
  },
  {
   "cell_type": "code",
   "execution_count": 42,
   "metadata": {},
   "outputs": [
    {
     "name": "stdout",
     "output_type": "stream",
     "text": [
      "Depths : dict_keys([100, 110, 120])\n",
      "GR Values : dict_values([20, 30, 30])\n"
     ]
    }
   ],
   "source": [
    "GR = {100:20, 110:30, 120:30}\n",
    "Depths = GR.keys()\n",
    "GR_Values = GR.values()\n",
    "\n",
    "print('Depths :', Depths)\n",
    "print('GR Values :', GR_Values)"
   ]
  },
  {
   "cell_type": "code",
   "execution_count": 43,
   "metadata": {
    "colab": {
     "base_uri": "https://localhost:8080/"
    },
    "executionInfo": {
     "elapsed": 11939,
     "status": "ok",
     "timestamp": 1613484030007,
     "user": {
      "displayName": "Amr Abdelfattah",
      "photoUrl": "https://lh3.googleusercontent.com/a-/AOh14GjOdkA_-6wQg-AlynfpgYm3Mlzes0n0S0yLhFFC=s64",
      "userId": "06550318102566356250"
     },
     "user_tz": -120
    },
    "id": "MsvTabupgW6f",
    "outputId": "eca29f41-a9f4-48f9-fc3f-06d8e90330f4"
   },
   "outputs": [
    {
     "name": "stdout",
     "output_type": "stream",
     "text": [
      "{1: 'python', 2: 'data', 3: -500, 4: 'hello'}\n"
     ]
    }
   ],
   "source": [
    "#@title 2- add new elements to a dictionary\n",
    "# you must specify the key \n",
    "my_dict[4]='hello'\n",
    "print(my_dict)"
   ]
  },
  {
   "cell_type": "code",
   "execution_count": 44,
   "metadata": {},
   "outputs": [
    {
     "data": {
      "text/plain": [
       "{100: 20, 110: 30, 120: 30, 150: 100}"
      ]
     },
     "execution_count": 44,
     "metadata": {},
     "output_type": "execute_result"
    }
   ],
   "source": [
    "GR[150]=100\n",
    "GR"
   ]
  },
  {
   "cell_type": "code",
   "execution_count": 45,
   "metadata": {
    "colab": {
     "base_uri": "https://localhost:8080/"
    },
    "executionInfo": {
     "elapsed": 11929,
     "status": "ok",
     "timestamp": 1613484030007,
     "user": {
      "displayName": "Amr Abdelfattah",
      "photoUrl": "https://lh3.googleusercontent.com/a-/AOh14GjOdkA_-6wQg-AlynfpgYm3Mlzes0n0S0yLhFFC=s64",
      "userId": "06550318102566356250"
     },
     "user_tz": -120
    },
    "id": "oPx7LSXNfJ4W",
    "outputId": "fc479acc-d29d-4ef2-d787-6dde81d89828"
   },
   "outputs": [
    {
     "name": "stdout",
     "output_type": "stream",
     "text": [
      "{1: 'python', 3: -500, 4: 'hello'}\n"
     ]
    }
   ],
   "source": [
    "#@title 3- delete elements from dictionary\n",
    "my_dict.pop(2)\n",
    "print(my_dict)"
   ]
  },
  {
   "cell_type": "markdown",
   "metadata": {
    "id": "mnFN7vNgk4PY"
   },
   "source": [
    "# List Operations:\n",
    "* changable\n",
    "* editable\n",
    "* can contain same or mix objects\n",
    "* used in iterations"
   ]
  },
  {
   "cell_type": "code",
   "execution_count": 46,
   "metadata": {
    "colab": {
     "base_uri": "https://localhost:8080/"
    },
    "executionInfo": {
     "elapsed": 11920,
     "status": "ok",
     "timestamp": 1613484030008,
     "user": {
      "displayName": "Amr Abdelfattah",
      "photoUrl": "https://lh3.googleusercontent.com/a-/AOh14GjOdkA_-6wQg-AlynfpgYm3Mlzes0n0S0yLhFFC=s64",
      "userId": "06550318102566356250"
     },
     "user_tz": -120
    },
    "id": "m-PsnuNfNBfk",
    "outputId": "58d2a402-20b7-49b8-ca58-f22c5ad7ce36"
   },
   "outputs": [
    {
     "name": "stdout",
     "output_type": "stream",
     "text": [
      "3\n"
     ]
    }
   ],
   "source": [
    "#@title 1- Creating a List with \n",
    "# the use of multiple values \n",
    "List = [\"python\", 100, 1.8] \n",
    "\n",
    "# we can apply len() function to \n",
    "# get number of elements in the list\n",
    "print(len(List))"
   ]
  },
  {
   "cell_type": "code",
   "execution_count": 47,
   "metadata": {
    "colab": {
     "base_uri": "https://localhost:8080/"
    },
    "executionInfo": {
     "elapsed": 11911,
     "status": "ok",
     "timestamp": 1613484030009,
     "user": {
      "displayName": "Amr Abdelfattah",
      "photoUrl": "https://lh3.googleusercontent.com/a-/AOh14GjOdkA_-6wQg-AlynfpgYm3Mlzes0n0S0yLhFFC=s64",
      "userId": "06550318102566356250"
     },
     "user_tz": -120
    },
    "id": "94Cq3prSk2nR",
    "outputId": "01434ff6-e98c-41dd-bbdb-cb4d82530256"
   },
   "outputs": [
    {
     "name": "stdout",
     "output_type": "stream",
     "text": [
      "Accessing a element from the list\n",
      "python\n",
      "1.8\n"
     ]
    }
   ],
   "source": [
    "#@title 2- Accessing a element using \n",
    "# index number \n",
    "print(\"Accessing a element from the list\") \n",
    "print(List[0]) \n",
    "print(List[2]) "
   ]
  },
  {
   "cell_type": "code",
   "execution_count": 48,
   "metadata": {
    "colab": {
     "base_uri": "https://localhost:8080/"
    },
    "executionInfo": {
     "elapsed": 11902,
     "status": "ok",
     "timestamp": 1613484030010,
     "user": {
      "displayName": "Amr Abdelfattah",
      "photoUrl": "https://lh3.googleusercontent.com/a-/AOh14GjOdkA_-6wQg-AlynfpgYm3Mlzes0n0S0yLhFFC=s64",
      "userId": "06550318102566356250"
     },
     "user_tz": -120
    },
    "id": "UceYvJjwNMpH",
    "outputId": "eb86c933-f0ea-460a-f82c-b0439ec64b46"
   },
   "outputs": [
    {
     "name": "stdout",
     "output_type": "stream",
     "text": [
      "Acessing a element from a Multi-Dimensional list\n",
      "world\n",
      "100\n"
     ]
    }
   ],
   "source": [
    "#@title 3- Creating a Multi-Dimensional List \n",
    "# (By Nesting a list inside a List) \n",
    "List = [['hello', 'world'] , [100,-100]] \n",
    "\n",
    "# accessing a element from the Multi-Dimensional List using index number \n",
    "print(\"Acessing a element from a Multi-Dimensional list\") \n",
    "print(List[0][1]) \n",
    "print(List[1][0])"
   ]
  },
  {
   "cell_type": "code",
   "execution_count": 49,
   "metadata": {
    "colab": {
     "base_uri": "https://localhost:8080/"
    },
    "executionInfo": {
     "elapsed": 11893,
     "status": "ok",
     "timestamp": 1613484030010,
     "user": {
      "displayName": "Amr Abdelfattah",
      "photoUrl": "https://lh3.googleusercontent.com/a-/AOh14GjOdkA_-6wQg-AlynfpgYm3Mlzes0n0S0yLhFFC=s64",
      "userId": "06550318102566356250"
     },
     "user_tz": -120
    },
    "id": "o5ISj_EYN2ru",
    "outputId": "8a6cbedb-938d-44fc-e4fb-b671d39efe3c"
   },
   "outputs": [
    {
     "name": "stdout",
     "output_type": "stream",
     "text": [
      "List after Addition of Three elements: \n",
      "[['hello', 'world'], [100, -100], 1, 2, 4]\n"
     ]
    }
   ],
   "source": [
    "#@title 4- Add new element \n",
    "# in the List \n",
    "List.append(1) \n",
    "List.append(2) \n",
    "List.append(4) \n",
    "print(\"List after Addition of Three elements: \") \n",
    "print(List) "
   ]
  },
  {
   "cell_type": "code",
   "execution_count": 50,
   "metadata": {
    "colab": {
     "base_uri": "https://localhost:8080/"
    },
    "executionInfo": {
     "elapsed": 11882,
     "status": "ok",
     "timestamp": 1613484030011,
     "user": {
      "displayName": "Amr Abdelfattah",
      "photoUrl": "https://lh3.googleusercontent.com/a-/AOh14GjOdkA_-6wQg-AlynfpgYm3Mlzes0n0S0yLhFFC=s64",
      "userId": "06550318102566356250"
     },
     "user_tz": -120
    },
    "id": "V-Sk5k1_OKDE",
    "outputId": "41d6e60e-3a2b-4f58-bc52-69d190fed963"
   },
   "outputs": [
    {
     "name": "stdout",
     "output_type": "stream",
     "text": [
      "List after Addition of a List: \n",
      "[['hello', 'world'], [100, -100], 1, 2, 4, ['data', 'science']]\n"
     ]
    }
   ],
   "source": [
    "# Addition of List to a List \n",
    "List2 = ['data', 'science'] \n",
    "List.append(List2) \n",
    "print(\"List after Addition of a List: \") \n",
    "print(List)"
   ]
  },
  {
   "cell_type": "code",
   "execution_count": 51,
   "metadata": {
    "colab": {
     "base_uri": "https://localhost:8080/"
    },
    "executionInfo": {
     "elapsed": 11871,
     "status": "ok",
     "timestamp": 1613484030012,
     "user": {
      "displayName": "Amr Abdelfattah",
      "photoUrl": "https://lh3.googleusercontent.com/a-/AOh14GjOdkA_-6wQg-AlynfpgYm3Mlzes0n0S0yLhFFC=s64",
      "userId": "06550318102566356250"
     },
     "user_tz": -120
    },
    "id": "3L3PkS2xOJ40",
    "outputId": "d9ec53fe-1f90-408d-f868-b31bc008ffba"
   },
   "outputs": [
    {
     "name": "stdout",
     "output_type": "stream",
     "text": [
      "[['hello', 'world'], [100, -100], 1, 2, 4, ['data', 'science'], 12]\n",
      "List after performing Insert Operation: \n",
      "['hello', ['hello', 'world'], [100, -100], 1, 2, 4, ['data', 'science'], 12]\n"
     ]
    }
   ],
   "source": [
    "# Addition of Element at specific Position (using Insert Method) \n",
    "List.insert(6, 12) # at position 3 insert \n",
    "print(List)\n",
    "List.insert(0, 'hello') \n",
    "print(\"List after performing Insert Operation: \") \n",
    "print(List)"
   ]
  },
  {
   "cell_type": "code",
   "execution_count": 52,
   "metadata": {
    "colab": {
     "base_uri": "https://localhost:8080/"
    },
    "executionInfo": {
     "elapsed": 11861,
     "status": "ok",
     "timestamp": 1613484030013,
     "user": {
      "displayName": "Amr Abdelfattah",
      "photoUrl": "https://lh3.googleusercontent.com/a-/AOh14GjOdkA_-6wQg-AlynfpgYm3Mlzes0n0S0yLhFFC=s64",
      "userId": "06550318102566356250"
     },
     "user_tz": -120
    },
    "id": "Xn1M_Xi5O8dv",
    "outputId": "56f0d990-a703-45e8-bb6b-2ac44eea96f0"
   },
   "outputs": [
    {
     "name": "stdout",
     "output_type": "stream",
     "text": [
      "List after performing Extend Operation: \n",
      "['hello', ['hello', 'world'], [100, -100], 1, 2, 4, ['data', 'science'], 12, 5, 'python', -0.8]\n"
     ]
    }
   ],
   "source": [
    "# Addition of multiple elements to the List at the end (using Extend Method) \n",
    "List.extend([5, 'python', -0.8]) \n",
    "print(\"List after performing Extend Operation: \") \n",
    "print(List)"
   ]
  },
  {
   "cell_type": "code",
   "execution_count": 53,
   "metadata": {
    "colab": {
     "base_uri": "https://localhost:8080/"
    },
    "executionInfo": {
     "elapsed": 11851,
     "status": "ok",
     "timestamp": 1613484030014,
     "user": {
      "displayName": "Amr Abdelfattah",
      "photoUrl": "https://lh3.googleusercontent.com/a-/AOh14GjOdkA_-6wQg-AlynfpgYm3Mlzes0n0S0yLhFFC=s64",
      "userId": "06550318102566356250"
     },
     "user_tz": -120
    },
    "id": "0qP_c-eV3Sgw",
    "outputId": "44122a7c-a4b3-47c6-9ede-57ff9560f4ed"
   },
   "outputs": [
    {
     "name": "stdout",
     "output_type": "stream",
     "text": [
      "List after Removal of elements: \n",
      "['hello', ['hello', 'world'], [100, -100], 1, 4, ['data', 'science'], 12, 5, 'python', -0.8]\n"
     ]
    }
   ],
   "source": [
    "#using Remove() method \n",
    "List.remove(2) # item to be removed is 2\n",
    "print(\"List after Removal of elements: \") \n",
    "print(List) "
   ]
  },
  {
   "cell_type": "code",
   "execution_count": null,
   "metadata": {
    "executionInfo": {
     "elapsed": 11843,
     "status": "ok",
     "timestamp": 1613484030015,
     "user": {
      "displayName": "Amr Abdelfattah",
      "photoUrl": "https://lh3.googleusercontent.com/a-/AOh14GjOdkA_-6wQg-AlynfpgYm3Mlzes0n0S0yLhFFC=s64",
      "userId": "06550318102566356250"
     },
     "user_tz": -120
    },
    "id": "8N1DplbN41F0"
   },
   "outputs": [],
   "source": []
  },
  {
   "cell_type": "code",
   "execution_count": 54,
   "metadata": {
    "colab": {
     "base_uri": "https://localhost:8080/"
    },
    "executionInfo": {
     "elapsed": 11837,
     "status": "ok",
     "timestamp": 1613484030016,
     "user": {
      "displayName": "Amr Abdelfattah",
      "photoUrl": "https://lh3.googleusercontent.com/a-/AOh14GjOdkA_-6wQg-AlynfpgYm3Mlzes0n0S0yLhFFC=s64",
      "userId": "06550318102566356250"
     },
     "user_tz": -120
    },
    "id": "Xgu6Q1bMPYQb",
    "outputId": "fac1a29e-afcd-4e7e-88e9-26b90a80f4b7"
   },
   "outputs": [
    {
     "name": "stdout",
     "output_type": "stream",
     "text": [
      "List after Removal of elements: \n",
      "['hello', ['hello', 'world'], [100, -100], 1, 4, ['data', 'science'], 12, 5, 'python', -0.8]\n",
      "List after popping an element: \n",
      "[1, 2, 3, 4]\n",
      "List after popping a specific element: \n",
      "[1, 2, 4]\n"
     ]
    }
   ],
   "source": [
    "#@title 5- Removing Elements\n",
    "#using Remove() method \n",
    "#List.remove(5) # item to be removed is 5\n",
    "print(\"List after Removal of elements: \") \n",
    "print(List) \n",
    "\n",
    "## pop() method\n",
    "# pop() removes the item at a specific index and returns it.\n",
    "List = [1,2,3,4,5] \n",
    "\n",
    "# Removing element from the \n",
    "# Set using the pop() method \n",
    "List.pop() # if no index is passed pop() will remove last element\n",
    "print(\"List after popping an element: \") \n",
    "print(List) \n",
    "\n",
    "# Removing element at a \n",
    "# specific location from the \n",
    "# Set using the pop() method \n",
    "List.pop(2) # remove element at index 2 \n",
    "print(\"List after popping a specific element: \") \n",
    "print(List) \n"
   ]
  },
  {
   "cell_type": "code",
   "execution_count": 55,
   "metadata": {
    "colab": {
     "base_uri": "https://localhost:8080/"
    },
    "executionInfo": {
     "elapsed": 11829,
     "status": "ok",
     "timestamp": 1613484030017,
     "user": {
      "displayName": "Amr Abdelfattah",
      "photoUrl": "https://lh3.googleusercontent.com/a-/AOh14GjOdkA_-6wQg-AlynfpgYm3Mlzes0n0S0yLhFFC=s64",
      "userId": "06550318102566356250"
     },
     "user_tz": -120
    },
    "id": "wBRpTe7vUf4b",
    "outputId": "9fb4573c-2911-4fb9-9712-f654aabee869"
   },
   "outputs": [
    {
     "name": "stdout",
     "output_type": "stream",
     "text": [
      "GR\n",
      "DT\n",
      "Rhob\n",
      "DT\n",
      "['Rhob']\n",
      "['DT', 'Rhob']\n",
      "['GR', 'DT', 'Rhob']\n",
      "[]\n"
     ]
    }
   ],
   "source": [
    "#@title 6- List slicing\n",
    "L = ['GR', 'DT', 'Rhob']\n",
    "print(L[0]) \n",
    "print(L[1])\n",
    "print(L[2])\n",
    "print(L[-2])\n",
    "print(L[2:])\n",
    "print(L[1:])\n",
    "print(L[0:])\n",
    "print(L[3:])\n"
   ]
  },
  {
   "cell_type": "markdown",
   "metadata": {
    "id": "ECrCZsusRfPu"
   },
   "source": [
    "# tuple Operations\n",
    "* unchangable\n",
    "* uneditable\n",
    "* can contain mix of objects\n",
    "* can not be used in iterations"
   ]
  },
  {
   "cell_type": "code",
   "execution_count": 56,
   "metadata": {
    "colab": {
     "base_uri": "https://localhost:8080/"
    },
    "executionInfo": {
     "elapsed": 11819,
     "status": "ok",
     "timestamp": 1613484030017,
     "user": {
      "displayName": "Amr Abdelfattah",
      "photoUrl": "https://lh3.googleusercontent.com/a-/AOh14GjOdkA_-6wQg-AlynfpgYm3Mlzes0n0S0yLhFFC=s64",
      "userId": "06550318102566356250"
     },
     "user_tz": -120
    },
    "id": "BIXn2q6tRbvf",
    "outputId": "2e72532e-82da-4e39-96a6-fc59ebd1039b"
   },
   "outputs": [
    {
     "name": "stdout",
     "output_type": "stream",
     "text": [
      "Tuple with Mixed Datatypes: \n",
      "(5, 'Welcome', 7, 'python')\n",
      "Tuple with nested tuples: \n",
      "((0, 1, 2, 3), ('python', 'geek'))\n",
      "Tuple with repetition: \n",
      "GeeksGeeksGeeks\n"
     ]
    }
   ],
   "source": [
    "#@title 1- Creating a Tuple \n",
    "#with Mixed Datatype \n",
    "Tuple1 = (5, 'Welcome', 7, 'python') \n",
    "print(\"Tuple with Mixed Datatypes: \") \n",
    "print(Tuple1) \n",
    "\n",
    "#Creating a Tuple \n",
    "#with nested tuples \n",
    "Tuple1 = (0, 1, 2, 3) \n",
    "Tuple2 = ('python', 'geek') \n",
    "Tuple3 = (Tuple1, Tuple2) \n",
    "print(\"Tuple with nested tuples: \") \n",
    "print(Tuple3) \n",
    "\n",
    "#Creating a Tuple \n",
    "#with repetition \n",
    "Tuple1 = ('Geeks') * 3\n",
    "print(\"Tuple with repetition: \") \n",
    "print(Tuple1) "
   ]
  },
  {
   "cell_type": "code",
   "execution_count": 57,
   "metadata": {
    "colab": {
     "base_uri": "https://localhost:8080/"
    },
    "executionInfo": {
     "elapsed": 11812,
     "status": "ok",
     "timestamp": 1613484030018,
     "user": {
      "displayName": "Amr Abdelfattah",
      "photoUrl": "https://lh3.googleusercontent.com/a-/AOh14GjOdkA_-6wQg-AlynfpgYm3Mlzes0n0S0yLhFFC=s64",
      "userId": "06550318102566356250"
     },
     "user_tz": -120
    },
    "id": "IzjAJ4y1S7xC",
    "outputId": "bc148b79-cee9-423a-85b9-3bedeac2e175"
   },
   "outputs": [
    {
     "name": "stdout",
     "output_type": "stream",
     "text": [
      "First and last elements of Tuple: \n",
      "e s\n"
     ]
    }
   ],
   "source": [
    "#@title 2- Accessing Tuple with Indexing \n",
    "Tuple1 = tuple(\"Geeks\") \n",
    "print(\"First and last elements of Tuple: \") \n",
    "print(Tuple1[1],Tuple1[-1])"
   ]
  },
  {
   "cell_type": "code",
   "execution_count": 58,
   "metadata": {
    "colab": {
     "base_uri": "https://localhost:8080/",
     "height": 207
    },
    "executionInfo": {
     "elapsed": 12165,
     "status": "error",
     "timestamp": 1613484030383,
     "user": {
      "displayName": "Amr Abdelfattah",
      "photoUrl": "https://lh3.googleusercontent.com/a-/AOh14GjOdkA_-6wQg-AlynfpgYm3Mlzes0n0S0yLhFFC=s64",
      "userId": "06550318102566356250"
     },
     "user_tz": -120
    },
    "id": "b3BvL5cbTNCQ",
    "outputId": "0f8068b6-89e7-4abf-d8c4-437e2cc550be"
   },
   "outputs": [
    {
     "ename": "NameError",
     "evalue": "name 'Tuple1' is not defined",
     "output_type": "error",
     "traceback": [
      "\u001b[1;31m---------------------------------------------------------------------------\u001b[0m",
      "\u001b[1;31mNameError\u001b[0m                                 Traceback (most recent call last)",
      "\u001b[1;32m<ipython-input-58-4ab2721e4101>\u001b[0m in \u001b[0;36m<module>\u001b[1;34m\u001b[0m\n\u001b[0;32m      3\u001b[0m \u001b[0mTuple1\u001b[0m \u001b[1;33m=\u001b[0m \u001b[1;33m(\u001b[0m\u001b[1;36m0\u001b[0m\u001b[1;33m,\u001b[0m \u001b[1;36m1\u001b[0m\u001b[1;33m,\u001b[0m \u001b[1;36m2\u001b[0m\u001b[1;33m,\u001b[0m \u001b[1;36m3\u001b[0m\u001b[1;33m,\u001b[0m \u001b[1;36m4\u001b[0m\u001b[1;33m)\u001b[0m\u001b[1;33m\u001b[0m\u001b[1;33m\u001b[0m\u001b[0m\n\u001b[0;32m      4\u001b[0m \u001b[1;32mdel\u001b[0m \u001b[0mTuple1\u001b[0m\u001b[1;33m\u001b[0m\u001b[1;33m\u001b[0m\u001b[0m\n\u001b[1;32m----> 5\u001b[1;33m \u001b[0mprint\u001b[0m\u001b[1;33m(\u001b[0m\u001b[0mTuple1\u001b[0m\u001b[1;33m)\u001b[0m\u001b[1;33m\u001b[0m\u001b[1;33m\u001b[0m\u001b[0m\n\u001b[0m",
      "\u001b[1;31mNameError\u001b[0m: name 'Tuple1' is not defined"
     ]
    }
   ],
   "source": [
    "#@title 3- Deleting a Tuple \n",
    "\n",
    "Tuple1 = (0, 1, 2, 3, 4) \n",
    "del Tuple1\n",
    "print(Tuple1)"
   ]
  },
  {
   "cell_type": "markdown",
   "metadata": {
    "id": "KN4h2Yn-0aSQ"
   },
   "source": [
    "# Set Operations\n",
    "* unchangable\n",
    "* unordered\n",
    "* can contain mix of objects\n",
    "* unindexed\n",
    "* dont allow duplications"
   ]
  },
  {
   "cell_type": "code",
   "execution_count": 67,
   "metadata": {
    "colab": {
     "base_uri": "https://localhost:8080/"
    },
    "executionInfo": {
     "elapsed": 823,
     "status": "ok",
     "timestamp": 1613484051433,
     "user": {
      "displayName": "Amr Abdelfattah",
      "photoUrl": "https://lh3.googleusercontent.com/a-/AOh14GjOdkA_-6wQg-AlynfpgYm3Mlzes0n0S0yLhFFC=s64",
      "userId": "06550318102566356250"
     },
     "user_tz": -120
    },
    "id": "5fvG_CElx_3t",
    "outputId": "3a23b824-80f3-4e2c-e434-5d81135eff86"
   },
   "outputs": [
    {
     "name": "stdout",
     "output_type": "stream",
     "text": [
      "{'cherry', 'banana', 'apple'}\n",
      "{'cherry', 'banana', 'apple'}\n"
     ]
    }
   ],
   "source": [
    "#@title 1- Creating a set \n",
    "a_set = {\"apple\", \"banana\", \"cherry\"}\n",
    "print(a_set)\n",
    "\n",
    "myset = set((\"apple\", \"banana\", \"cherry\"))\n",
    "print(myset)"
   ]
  },
  {
   "cell_type": "code",
   "execution_count": 68,
   "metadata": {
    "colab": {
     "base_uri": "https://localhost:8080/"
    },
    "executionInfo": {
     "elapsed": 1248,
     "status": "ok",
     "timestamp": 1613484051876,
     "user": {
      "displayName": "Amr Abdelfattah",
      "photoUrl": "https://lh3.googleusercontent.com/a-/AOh14GjOdkA_-6wQg-AlynfpgYm3Mlzes0n0S0yLhFFC=s64",
      "userId": "06550318102566356250"
     },
     "user_tz": -120
    },
    "id": "6uiHPcJGydon",
    "outputId": "dbc53db5-a40f-4db8-a9f8-b13d3047ab13"
   },
   "outputs": [
    {
     "name": "stdout",
     "output_type": "stream",
     "text": [
      "3\n",
      "<class 'set'>\n"
     ]
    }
   ],
   "source": [
    "print(len(a_set))\n",
    "print(type(a_set))"
   ]
  },
  {
   "cell_type": "code",
   "execution_count": 70,
   "metadata": {
    "colab": {
     "base_uri": "https://localhost:8080/"
    },
    "executionInfo": {
     "elapsed": 1244,
     "status": "ok",
     "timestamp": 1613484051878,
     "user": {
      "displayName": "Amr Abdelfattah",
      "photoUrl": "https://lh3.googleusercontent.com/a-/AOh14GjOdkA_-6wQg-AlynfpgYm3Mlzes0n0S0yLhFFC=s64",
      "userId": "06550318102566356250"
     },
     "user_tz": -120
    },
    "id": "O1gkERcAyxn1",
    "outputId": "afd63fb4-a8be-44ec-b315-254e4497d73b"
   },
   "outputs": [
    {
     "name": "stdout",
     "output_type": "stream",
     "text": [
      "{'orange', 'cherry', 'banana', 'apple'}\n"
     ]
    }
   ],
   "source": [
    "#@title 2- add item to a set\n",
    "myset.add(\"orange\")\n",
    "print(myset)"
   ]
  },
  {
   "cell_type": "code",
   "execution_count": 71,
   "metadata": {
    "colab": {
     "base_uri": "https://localhost:8080/"
    },
    "executionInfo": {
     "elapsed": 1239,
     "status": "ok",
     "timestamp": 1613484051879,
     "user": {
      "displayName": "Amr Abdelfattah",
      "photoUrl": "https://lh3.googleusercontent.com/a-/AOh14GjOdkA_-6wQg-AlynfpgYm3Mlzes0n0S0yLhFFC=s64",
      "userId": "06550318102566356250"
     },
     "user_tz": -120
    },
    "id": "Nx0cZfC22HOl",
    "outputId": "2c87d317-a9fd-4cdf-fd0d-92cd09741107"
   },
   "outputs": [
    {
     "name": "stdout",
     "output_type": "stream",
     "text": [
      "{'orange', 'cherry', 'apple'}\n"
     ]
    }
   ],
   "source": [
    "#@title 3- remove item from a set\n",
    "myset.remove(\"banana\")\n",
    "\n",
    "print(myset)"
   ]
  },
  {
   "cell_type": "code",
   "execution_count": null,
   "metadata": {},
   "outputs": [],
   "source": []
  }
 ],
 "metadata": {
  "colab": {
   "authorship_tag": "ABX9TyP9xcuC/LIm0lSeNnYAq3GM",
   "collapsed_sections": [],
   "name": "1.0 Starting Python.ipynb",
   "provenance": []
  },
  "kernelspec": {
   "display_name": "Python 3 (ipykernel)",
   "language": "python",
   "name": "python3"
  },
  "language_info": {
   "codemirror_mode": {
    "name": "ipython",
    "version": 3
   },
   "file_extension": ".py",
   "mimetype": "text/x-python",
   "name": "python",
   "nbconvert_exporter": "python",
   "pygments_lexer": "ipython3",
   "version": "3.11.4"
  },
  "toc": {
   "base_numbering": 1,
   "nav_menu": {},
   "number_sections": true,
   "sideBar": true,
   "skip_h1_title": false,
   "title_cell": "Table of Contents",
   "title_sidebar": "Contents",
   "toc_cell": false,
   "toc_position": {
    "height": "calc(100% - 180px)",
    "left": "10px",
    "top": "150px",
    "width": "165px"
   },
   "toc_section_display": true,
   "toc_window_display": true
  },
  "varInspector": {
   "cols": {
    "lenName": 16,
    "lenType": 16,
    "lenVar": 40
   },
   "kernels_config": {
    "python": {
     "delete_cmd_postfix": "",
     "delete_cmd_prefix": "del ",
     "library": "var_list.py",
     "varRefreshCmd": "print(var_dic_list())"
    },
    "r": {
     "delete_cmd_postfix": ") ",
     "delete_cmd_prefix": "rm(",
     "library": "var_list.r",
     "varRefreshCmd": "cat(var_dic_list()) "
    }
   },
   "types_to_exclude": [
    "module",
    "function",
    "builtin_function_or_method",
    "instance",
    "_Feature"
   ],
   "window_display": false
  }
 },
 "nbformat": 4,
 "nbformat_minor": 4
}
