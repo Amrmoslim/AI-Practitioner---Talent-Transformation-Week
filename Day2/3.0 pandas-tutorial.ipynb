{
 "cells": [
  {
   "cell_type": "markdown",
   "metadata": {
    "id": "OZZWp0BQHlXJ"
   },
   "source": [
    "# **pandas** is a fast, *powerful*, flexible and easy to use open source data analysis and manipulation tool, built on top of the Python programming language."
   ]
  },
  {
   "cell_type": "markdown",
   "metadata": {
    "id": "AMurrVjBHOPx"
   },
   "source": [
    "# Analyzing Data using Python and Pandas Dataframes \n",
    "\n",
    "![](https://i.imgur.com/zfxLzEv.png)\n",
    "\n"
   ]
  },
  {
   "cell_type": "code",
   "execution_count": null,
   "metadata": {
    "colab": {
     "base_uri": "https://localhost:8080/"
    },
    "executionInfo": {
     "elapsed": 410460,
     "status": "ok",
     "timestamp": 1625427244332,
     "user": {
      "displayName": "Amr Abdelfattah",
      "photoUrl": "https://lh3.googleusercontent.com/a-/AOh14Gjnrgb9ioOFxjzGiSueHrdiXjLQzTeL08_lc7ty4lg=s64",
      "userId": "06550318102566356250"
     },
     "user_tz": -120
    },
    "id": "qsl3UtC-3QjY",
    "outputId": "4d78f1d5-3e65-411c-832f-f20e09fde8ad"
   },
   "outputs": [
    {
     "name": "stdout",
     "output_type": "stream",
     "text": [
      "Mounted at /content/drive\n"
     ]
    }
   ],
   "source": [
    "from google.colab import drive\n",
    "drive.mount('/content/drive')"
   ]
  },
  {
   "cell_type": "code",
   "execution_count": null,
   "metadata": {
    "id": "kGIc_9rk2GvV"
   },
   "outputs": [],
   "source": [
    "import pandas as pd\n",
    "import numpy as np\n",
    "from IPython.display import display"
   ]
  },
  {
   "cell_type": "markdown",
   "metadata": {
    "id": "kPfnhrgg2Gve"
   },
   "source": [
    "## Basic operations\n",
    "* Loading data as DataFrame to python\n",
    "* Display dataset as **DataFrame**\n",
    "* Display and inspect dataset or part of it (**head()**, **tail()**, **sample()**)\n",
    "* Dispaly DataFrame **info()**\n",
    "* Display DataFrame Statistics **Describe()**\n",
    "* Display and access to DataFrame **index**\n",
    "* Display and access to DataFrame **columns** names\n",
    "* Display and access to one or more columns /features\n",
    "* Display and access to DataFrame **Shape**\n",
    "* Dataframe element access using index and column using **at** "
   ]
  },
  {
   "cell_type": "code",
   "execution_count": null,
   "metadata": {
    "colab": {
     "base_uri": "https://localhost:8080/",
     "height": 419
    },
    "executionInfo": {
     "elapsed": 1070,
     "status": "ok",
     "timestamp": 1625427245395,
     "user": {
      "displayName": "Amr Abdelfattah",
      "photoUrl": "https://lh3.googleusercontent.com/a-/AOh14Gjnrgb9ioOFxjzGiSueHrdiXjLQzTeL08_lc7ty4lg=s64",
      "userId": "06550318102566356250"
     },
     "user_tz": -120
    },
    "id": "IalFovSg2GwO",
    "outputId": "97778e6e-82fe-40b2-d726-9b51d94e491c"
   },
   "outputs": [
    {
     "data": {
      "text/html": [
       "<div>\n",
       "<style scoped>\n",
       "    .dataframe tbody tr th:only-of-type {\n",
       "        vertical-align: middle;\n",
       "    }\n",
       "\n",
       "    .dataframe tbody tr th {\n",
       "        vertical-align: top;\n",
       "    }\n",
       "\n",
       "    .dataframe thead th {\n",
       "        text-align: right;\n",
       "    }\n",
       "</style>\n",
       "<table border=\"1\" class=\"dataframe\">\n",
       "  <thead>\n",
       "    <tr style=\"text-align: right;\">\n",
       "      <th></th>\n",
       "      <th>DEPTH</th>\n",
       "      <th>RHOB</th>\n",
       "      <th>DT</th>\n",
       "      <th>GR</th>\n",
       "      <th>FACIES</th>\n",
       "    </tr>\n",
       "  </thead>\n",
       "  <tbody>\n",
       "    <tr>\n",
       "      <th>0</th>\n",
       "      <td>48.0000</td>\n",
       "      <td>NaN</td>\n",
       "      <td>524.0485</td>\n",
       "      <td>NaN</td>\n",
       "      <td>1</td>\n",
       "    </tr>\n",
       "    <tr>\n",
       "      <th>1</th>\n",
       "      <td>48.1500</td>\n",
       "      <td>NaN</td>\n",
       "      <td>524.0410</td>\n",
       "      <td>NaN</td>\n",
       "      <td>1</td>\n",
       "    </tr>\n",
       "    <tr>\n",
       "      <th>2</th>\n",
       "      <td>48.3000</td>\n",
       "      <td>NaN</td>\n",
       "      <td>524.0336</td>\n",
       "      <td>NaN</td>\n",
       "      <td>1</td>\n",
       "    </tr>\n",
       "    <tr>\n",
       "      <th>3</th>\n",
       "      <td>48.4500</td>\n",
       "      <td>NaN</td>\n",
       "      <td>524.0262</td>\n",
       "      <td>NaN</td>\n",
       "      <td>1</td>\n",
       "    </tr>\n",
       "    <tr>\n",
       "      <th>4</th>\n",
       "      <td>48.6000</td>\n",
       "      <td>NaN</td>\n",
       "      <td>524.0190</td>\n",
       "      <td>NaN</td>\n",
       "      <td>1</td>\n",
       "    </tr>\n",
       "    <tr>\n",
       "      <th>...</th>\n",
       "      <td>...</td>\n",
       "      <td>...</td>\n",
       "      <td>...</td>\n",
       "      <td>...</td>\n",
       "      <td>...</td>\n",
       "    </tr>\n",
       "    <tr>\n",
       "      <th>9675</th>\n",
       "      <td>1499.2500</td>\n",
       "      <td>1787.5444</td>\n",
       "      <td>532.1727</td>\n",
       "      <td>27.6273</td>\n",
       "      <td>1</td>\n",
       "    </tr>\n",
       "    <tr>\n",
       "      <th>9676</th>\n",
       "      <td>1499.4000</td>\n",
       "      <td>1814.1691</td>\n",
       "      <td>534.8610</td>\n",
       "      <td>28.5281</td>\n",
       "      <td>1</td>\n",
       "    </tr>\n",
       "    <tr>\n",
       "      <th>9677</th>\n",
       "      <td>1499.5500</td>\n",
       "      <td>1861.6497</td>\n",
       "      <td>537.1902</td>\n",
       "      <td>28.5813</td>\n",
       "      <td>1</td>\n",
       "    </tr>\n",
       "    <tr>\n",
       "      <th>9678</th>\n",
       "      <td>1499.7001</td>\n",
       "      <td>1880.3978</td>\n",
       "      <td>537.2630</td>\n",
       "      <td>28.5813</td>\n",
       "      <td>1</td>\n",
       "    </tr>\n",
       "    <tr>\n",
       "      <th>9679</th>\n",
       "      <td>1499.8501</td>\n",
       "      <td>1856.3350</td>\n",
       "      <td>537.3831</td>\n",
       "      <td>27.9759</td>\n",
       "      <td>1</td>\n",
       "    </tr>\n",
       "  </tbody>\n",
       "</table>\n",
       "<p>9680 rows × 5 columns</p>\n",
       "</div>"
      ],
      "text/plain": [
       "          DEPTH       RHOB        DT       GR  FACIES\n",
       "0       48.0000        NaN  524.0485      NaN       1\n",
       "1       48.1500        NaN  524.0410      NaN       1\n",
       "2       48.3000        NaN  524.0336      NaN       1\n",
       "3       48.4500        NaN  524.0262      NaN       1\n",
       "4       48.6000        NaN  524.0190      NaN       1\n",
       "...         ...        ...       ...      ...     ...\n",
       "9675  1499.2500  1787.5444  532.1727  27.6273       1\n",
       "9676  1499.4000  1814.1691  534.8610  28.5281       1\n",
       "9677  1499.5500  1861.6497  537.1902  28.5813       1\n",
       "9678  1499.7001  1880.3978  537.2630  28.5813       1\n",
       "9679  1499.8501  1856.3350  537.3831  27.9759       1\n",
       "\n",
       "[9680 rows x 5 columns]"
      ]
     },
     "metadata": {
      "tags": []
     },
     "output_type": "display_data"
    }
   ],
   "source": [
    "df=pd.read_csv(f'/content/drive/MyDrive/GeoML-1.0/well1.csv',delimiter=',')\n",
    "display(df)\n"
   ]
  },
  {
   "cell_type": "code",
   "execution_count": null,
   "metadata": {
    "colab": {
     "base_uri": "https://localhost:8080/",
     "height": 821
    },
    "executionInfo": {
     "elapsed": 103,
     "status": "ok",
     "timestamp": 1625427245398,
     "user": {
      "displayName": "Amr Abdelfattah",
      "photoUrl": "https://lh3.googleusercontent.com/a-/AOh14Gjnrgb9ioOFxjzGiSueHrdiXjLQzTeL08_lc7ty4lg=s64",
      "userId": "06550318102566356250"
     },
     "user_tz": -120
    },
    "id": "gl0hVnUmsr4D",
    "outputId": "680b25ae-5bb8-48f2-ff4d-cb65f03e494c"
   },
   "outputs": [
    {
     "data": {
      "application/vnd.google.colaboratory.intrinsic+json": {
       "type": "string"
      },
      "text/plain": [
       "'head : '"
      ]
     },
     "metadata": {
      "tags": []
     },
     "output_type": "display_data"
    },
    {
     "data": {
      "text/html": [
       "<div>\n",
       "<style scoped>\n",
       "    .dataframe tbody tr th:only-of-type {\n",
       "        vertical-align: middle;\n",
       "    }\n",
       "\n",
       "    .dataframe tbody tr th {\n",
       "        vertical-align: top;\n",
       "    }\n",
       "\n",
       "    .dataframe thead th {\n",
       "        text-align: right;\n",
       "    }\n",
       "</style>\n",
       "<table border=\"1\" class=\"dataframe\">\n",
       "  <thead>\n",
       "    <tr style=\"text-align: right;\">\n",
       "      <th></th>\n",
       "      <th>DEPTH</th>\n",
       "      <th>RHOB</th>\n",
       "      <th>DT</th>\n",
       "      <th>GR</th>\n",
       "      <th>FACIES</th>\n",
       "    </tr>\n",
       "  </thead>\n",
       "  <tbody>\n",
       "    <tr>\n",
       "      <th>0</th>\n",
       "      <td>48.00</td>\n",
       "      <td>NaN</td>\n",
       "      <td>524.0485</td>\n",
       "      <td>NaN</td>\n",
       "      <td>1</td>\n",
       "    </tr>\n",
       "    <tr>\n",
       "      <th>1</th>\n",
       "      <td>48.15</td>\n",
       "      <td>NaN</td>\n",
       "      <td>524.0410</td>\n",
       "      <td>NaN</td>\n",
       "      <td>1</td>\n",
       "    </tr>\n",
       "    <tr>\n",
       "      <th>2</th>\n",
       "      <td>48.30</td>\n",
       "      <td>NaN</td>\n",
       "      <td>524.0336</td>\n",
       "      <td>NaN</td>\n",
       "      <td>1</td>\n",
       "    </tr>\n",
       "    <tr>\n",
       "      <th>3</th>\n",
       "      <td>48.45</td>\n",
       "      <td>NaN</td>\n",
       "      <td>524.0262</td>\n",
       "      <td>NaN</td>\n",
       "      <td>1</td>\n",
       "    </tr>\n",
       "    <tr>\n",
       "      <th>4</th>\n",
       "      <td>48.60</td>\n",
       "      <td>NaN</td>\n",
       "      <td>524.0190</td>\n",
       "      <td>NaN</td>\n",
       "      <td>1</td>\n",
       "    </tr>\n",
       "  </tbody>\n",
       "</table>\n",
       "</div>"
      ],
      "text/plain": [
       "   DEPTH  RHOB        DT  GR  FACIES\n",
       "0  48.00   NaN  524.0485 NaN       1\n",
       "1  48.15   NaN  524.0410 NaN       1\n",
       "2  48.30   NaN  524.0336 NaN       1\n",
       "3  48.45   NaN  524.0262 NaN       1\n",
       "4  48.60   NaN  524.0190 NaN       1"
      ]
     },
     "metadata": {
      "tags": []
     },
     "output_type": "display_data"
    },
    {
     "name": "stdout",
     "output_type": "stream",
     "text": [
      "====================================================================================================\n"
     ]
    },
    {
     "data": {
      "application/vnd.google.colaboratory.intrinsic+json": {
       "type": "string"
      },
      "text/plain": [
       "'Tail : '"
      ]
     },
     "metadata": {
      "tags": []
     },
     "output_type": "display_data"
    },
    {
     "data": {
      "text/html": [
       "<div>\n",
       "<style scoped>\n",
       "    .dataframe tbody tr th:only-of-type {\n",
       "        vertical-align: middle;\n",
       "    }\n",
       "\n",
       "    .dataframe tbody tr th {\n",
       "        vertical-align: top;\n",
       "    }\n",
       "\n",
       "    .dataframe thead th {\n",
       "        text-align: right;\n",
       "    }\n",
       "</style>\n",
       "<table border=\"1\" class=\"dataframe\">\n",
       "  <thead>\n",
       "    <tr style=\"text-align: right;\">\n",
       "      <th></th>\n",
       "      <th>DEPTH</th>\n",
       "      <th>RHOB</th>\n",
       "      <th>DT</th>\n",
       "      <th>GR</th>\n",
       "      <th>FACIES</th>\n",
       "    </tr>\n",
       "  </thead>\n",
       "  <tbody>\n",
       "    <tr>\n",
       "      <th>9675</th>\n",
       "      <td>1499.2500</td>\n",
       "      <td>1787.5444</td>\n",
       "      <td>532.1727</td>\n",
       "      <td>27.6273</td>\n",
       "      <td>1</td>\n",
       "    </tr>\n",
       "    <tr>\n",
       "      <th>9676</th>\n",
       "      <td>1499.4000</td>\n",
       "      <td>1814.1691</td>\n",
       "      <td>534.8610</td>\n",
       "      <td>28.5281</td>\n",
       "      <td>1</td>\n",
       "    </tr>\n",
       "    <tr>\n",
       "      <th>9677</th>\n",
       "      <td>1499.5500</td>\n",
       "      <td>1861.6497</td>\n",
       "      <td>537.1902</td>\n",
       "      <td>28.5813</td>\n",
       "      <td>1</td>\n",
       "    </tr>\n",
       "    <tr>\n",
       "      <th>9678</th>\n",
       "      <td>1499.7001</td>\n",
       "      <td>1880.3978</td>\n",
       "      <td>537.2630</td>\n",
       "      <td>28.5813</td>\n",
       "      <td>1</td>\n",
       "    </tr>\n",
       "    <tr>\n",
       "      <th>9679</th>\n",
       "      <td>1499.8501</td>\n",
       "      <td>1856.3350</td>\n",
       "      <td>537.3831</td>\n",
       "      <td>27.9759</td>\n",
       "      <td>1</td>\n",
       "    </tr>\n",
       "  </tbody>\n",
       "</table>\n",
       "</div>"
      ],
      "text/plain": [
       "          DEPTH       RHOB        DT       GR  FACIES\n",
       "9675  1499.2500  1787.5444  532.1727  27.6273       1\n",
       "9676  1499.4000  1814.1691  534.8610  28.5281       1\n",
       "9677  1499.5500  1861.6497  537.1902  28.5813       1\n",
       "9678  1499.7001  1880.3978  537.2630  28.5813       1\n",
       "9679  1499.8501  1856.3350  537.3831  27.9759       1"
      ]
     },
     "metadata": {
      "tags": []
     },
     "output_type": "display_data"
    },
    {
     "name": "stdout",
     "output_type": "stream",
     "text": [
      "====================================================================================================\n"
     ]
    },
    {
     "data": {
      "application/vnd.google.colaboratory.intrinsic+json": {
       "type": "string"
      },
      "text/plain": [
       "'Samples : '"
      ]
     },
     "metadata": {
      "tags": []
     },
     "output_type": "display_data"
    },
    {
     "data": {
      "text/html": [
       "<div>\n",
       "<style scoped>\n",
       "    .dataframe tbody tr th:only-of-type {\n",
       "        vertical-align: middle;\n",
       "    }\n",
       "\n",
       "    .dataframe tbody tr th {\n",
       "        vertical-align: top;\n",
       "    }\n",
       "\n",
       "    .dataframe thead th {\n",
       "        text-align: right;\n",
       "    }\n",
       "</style>\n",
       "<table border=\"1\" class=\"dataframe\">\n",
       "  <thead>\n",
       "    <tr style=\"text-align: right;\">\n",
       "      <th></th>\n",
       "      <th>DEPTH</th>\n",
       "      <th>RHOB</th>\n",
       "      <th>DT</th>\n",
       "      <th>GR</th>\n",
       "      <th>FACIES</th>\n",
       "    </tr>\n",
       "  </thead>\n",
       "  <tbody>\n",
       "    <tr>\n",
       "      <th>7418</th>\n",
       "      <td>1160.7001</td>\n",
       "      <td>2244.6663</td>\n",
       "      <td>406.7435</td>\n",
       "      <td>56.6550</td>\n",
       "      <td>3</td>\n",
       "    </tr>\n",
       "    <tr>\n",
       "      <th>5264</th>\n",
       "      <td>837.6000</td>\n",
       "      <td>2226.0505</td>\n",
       "      <td>441.1425</td>\n",
       "      <td>41.4532</td>\n",
       "      <td>3</td>\n",
       "    </tr>\n",
       "    <tr>\n",
       "      <th>5377</th>\n",
       "      <td>854.5500</td>\n",
       "      <td>2231.5635</td>\n",
       "      <td>451.8813</td>\n",
       "      <td>53.7290</td>\n",
       "      <td>3</td>\n",
       "    </tr>\n",
       "    <tr>\n",
       "      <th>9308</th>\n",
       "      <td>1444.2001</td>\n",
       "      <td>2020.6378</td>\n",
       "      <td>537.0599</td>\n",
       "      <td>48.3007</td>\n",
       "      <td>1</td>\n",
       "    </tr>\n",
       "    <tr>\n",
       "      <th>5394</th>\n",
       "      <td>857.1000</td>\n",
       "      <td>2258.8574</td>\n",
       "      <td>459.2196</td>\n",
       "      <td>47.1283</td>\n",
       "      <td>3</td>\n",
       "    </tr>\n",
       "    <tr>\n",
       "      <th>7404</th>\n",
       "      <td>1158.6001</td>\n",
       "      <td>2240.0237</td>\n",
       "      <td>394.5528</td>\n",
       "      <td>56.4173</td>\n",
       "      <td>3</td>\n",
       "    </tr>\n",
       "    <tr>\n",
       "      <th>2728</th>\n",
       "      <td>457.2000</td>\n",
       "      <td>1697.1420</td>\n",
       "      <td>546.0346</td>\n",
       "      <td>32.7504</td>\n",
       "      <td>1</td>\n",
       "    </tr>\n",
       "    <tr>\n",
       "      <th>7681</th>\n",
       "      <td>1200.1500</td>\n",
       "      <td>2208.4890</td>\n",
       "      <td>499.6104</td>\n",
       "      <td>85.7362</td>\n",
       "      <td>3</td>\n",
       "    </tr>\n",
       "    <tr>\n",
       "      <th>2186</th>\n",
       "      <td>375.9000</td>\n",
       "      <td>1401.4904</td>\n",
       "      <td>515.7910</td>\n",
       "      <td>26.0638</td>\n",
       "      <td>1</td>\n",
       "    </tr>\n",
       "    <tr>\n",
       "      <th>9148</th>\n",
       "      <td>1420.2001</td>\n",
       "      <td>2123.7412</td>\n",
       "      <td>489.8067</td>\n",
       "      <td>62.8735</td>\n",
       "      <td>3</td>\n",
       "    </tr>\n",
       "  </tbody>\n",
       "</table>\n",
       "</div>"
      ],
      "text/plain": [
       "          DEPTH       RHOB        DT       GR  FACIES\n",
       "7418  1160.7001  2244.6663  406.7435  56.6550       3\n",
       "5264   837.6000  2226.0505  441.1425  41.4532       3\n",
       "5377   854.5500  2231.5635  451.8813  53.7290       3\n",
       "9308  1444.2001  2020.6378  537.0599  48.3007       1\n",
       "5394   857.1000  2258.8574  459.2196  47.1283       3\n",
       "7404  1158.6001  2240.0237  394.5528  56.4173       3\n",
       "2728   457.2000  1697.1420  546.0346  32.7504       1\n",
       "7681  1200.1500  2208.4890  499.6104  85.7362       3\n",
       "2186   375.9000  1401.4904  515.7910  26.0638       1\n",
       "9148  1420.2001  2123.7412  489.8067  62.8735       3"
      ]
     },
     "metadata": {
      "tags": []
     },
     "output_type": "display_data"
    }
   ],
   "source": [
    "display('head : ',df.head())\n",
    "print(\"=\" * 100)\n",
    "display('Tail : ',df.tail(5))\n",
    "print(\"=\" * 100)\n",
    "display('Samples : ',df.sample(10))\n"
   ]
  },
  {
   "cell_type": "code",
   "execution_count": null,
   "metadata": {
    "colab": {
     "base_uri": "https://localhost:8080/",
     "height": 238
    },
    "executionInfo": {
     "elapsed": 105,
     "status": "ok",
     "timestamp": 1625427245407,
     "user": {
      "displayName": "Amr Abdelfattah",
      "photoUrl": "https://lh3.googleusercontent.com/a-/AOh14Gjnrgb9ioOFxjzGiSueHrdiXjLQzTeL08_lc7ty4lg=s64",
      "userId": "06550318102566356250"
     },
     "user_tz": -120
    },
    "id": "hVbbcyeBsuHU",
    "outputId": "0db23072-dabb-4a1c-d8a6-a9b50fc96b89"
   },
   "outputs": [
    {
     "name": "stdout",
     "output_type": "stream",
     "text": [
      "<class 'pandas.core.frame.DataFrame'>\n",
      "RangeIndex: 9680 entries, 0 to 9679\n",
      "Data columns (total 5 columns):\n",
      " #   Column  Non-Null Count  Dtype  \n",
      "---  ------  --------------  -----  \n",
      " 0   DEPTH   9680 non-null   float64\n",
      " 1   RHOB    8253 non-null   float64\n",
      " 2   DT      9680 non-null   float64\n",
      " 3   GR      9666 non-null   float64\n",
      " 4   FACIES  9680 non-null   int64  \n",
      "dtypes: float64(4), int64(1)\n",
      "memory usage: 378.2 KB\n"
     ]
    },
    {
     "data": {
      "text/plain": [
       "None"
      ]
     },
     "metadata": {
      "tags": []
     },
     "output_type": "display_data"
    }
   ],
   "source": [
    "# dataframe preview \n",
    "display(df.info())"
   ]
  },
  {
   "cell_type": "code",
   "execution_count": null,
   "metadata": {
    "colab": {
     "base_uri": "https://localhost:8080/",
     "height": 297
    },
    "executionInfo": {
     "elapsed": 102,
     "status": "ok",
     "timestamp": 1625427245411,
     "user": {
      "displayName": "Amr Abdelfattah",
      "photoUrl": "https://lh3.googleusercontent.com/a-/AOh14Gjnrgb9ioOFxjzGiSueHrdiXjLQzTeL08_lc7ty4lg=s64",
      "userId": "06550318102566356250"
     },
     "user_tz": -120
    },
    "id": "oxK9fGUmun69",
    "outputId": "e23da89e-f5e8-4e37-fc1f-f2b29a9b9dcd"
   },
   "outputs": [
    {
     "data": {
      "text/html": [
       "<div>\n",
       "<style scoped>\n",
       "    .dataframe tbody tr th:only-of-type {\n",
       "        vertical-align: middle;\n",
       "    }\n",
       "\n",
       "    .dataframe tbody tr th {\n",
       "        vertical-align: top;\n",
       "    }\n",
       "\n",
       "    .dataframe thead th {\n",
       "        text-align: right;\n",
       "    }\n",
       "</style>\n",
       "<table border=\"1\" class=\"dataframe\">\n",
       "  <thead>\n",
       "    <tr style=\"text-align: right;\">\n",
       "      <th></th>\n",
       "      <th>DEPTH</th>\n",
       "      <th>RHOB</th>\n",
       "      <th>DT</th>\n",
       "      <th>GR</th>\n",
       "      <th>FACIES</th>\n",
       "    </tr>\n",
       "  </thead>\n",
       "  <tbody>\n",
       "    <tr>\n",
       "      <th>count</th>\n",
       "      <td>9680.000000</td>\n",
       "      <td>8253.000000</td>\n",
       "      <td>9680.000000</td>\n",
       "      <td>9666.000000</td>\n",
       "      <td>9680.000000</td>\n",
       "    </tr>\n",
       "    <tr>\n",
       "      <th>mean</th>\n",
       "      <td>773.925016</td>\n",
       "      <td>1975.091074</td>\n",
       "      <td>495.026839</td>\n",
       "      <td>46.613531</td>\n",
       "      <td>2.129132</td>\n",
       "    </tr>\n",
       "    <tr>\n",
       "      <th>std</th>\n",
       "      <td>419.177962</td>\n",
       "      <td>294.677828</td>\n",
       "      <td>50.861145</td>\n",
       "      <td>23.484662</td>\n",
       "      <td>1.009234</td>\n",
       "    </tr>\n",
       "    <tr>\n",
       "      <th>min</th>\n",
       "      <td>48.000000</td>\n",
       "      <td>1350.444700</td>\n",
       "      <td>368.114700</td>\n",
       "      <td>1.339200</td>\n",
       "      <td>1.000000</td>\n",
       "    </tr>\n",
       "    <tr>\n",
       "      <th>25%</th>\n",
       "      <td>410.962500</td>\n",
       "      <td>1812.400000</td>\n",
       "      <td>460.693600</td>\n",
       "      <td>23.527000</td>\n",
       "      <td>1.000000</td>\n",
       "    </tr>\n",
       "    <tr>\n",
       "      <th>50%</th>\n",
       "      <td>773.925000</td>\n",
       "      <td>2096.345000</td>\n",
       "      <td>505.393400</td>\n",
       "      <td>48.765250</td>\n",
       "      <td>3.000000</td>\n",
       "    </tr>\n",
       "    <tr>\n",
       "      <th>75%</th>\n",
       "      <td>1136.887575</td>\n",
       "      <td>2210.906000</td>\n",
       "      <td>521.642300</td>\n",
       "      <td>63.162950</td>\n",
       "      <td>3.000000</td>\n",
       "    </tr>\n",
       "    <tr>\n",
       "      <th>max</th>\n",
       "      <td>1499.850100</td>\n",
       "      <td>2346.629200</td>\n",
       "      <td>667.920800</td>\n",
       "      <td>129.177300</td>\n",
       "      <td>4.000000</td>\n",
       "    </tr>\n",
       "  </tbody>\n",
       "</table>\n",
       "</div>"
      ],
      "text/plain": [
       "             DEPTH         RHOB           DT           GR       FACIES\n",
       "count  9680.000000  8253.000000  9680.000000  9666.000000  9680.000000\n",
       "mean    773.925016  1975.091074   495.026839    46.613531     2.129132\n",
       "std     419.177962   294.677828    50.861145    23.484662     1.009234\n",
       "min      48.000000  1350.444700   368.114700     1.339200     1.000000\n",
       "25%     410.962500  1812.400000   460.693600    23.527000     1.000000\n",
       "50%     773.925000  2096.345000   505.393400    48.765250     3.000000\n",
       "75%    1136.887575  2210.906000   521.642300    63.162950     3.000000\n",
       "max    1499.850100  2346.629200   667.920800   129.177300     4.000000"
      ]
     },
     "execution_count": 6,
     "metadata": {
      "tags": []
     },
     "output_type": "execute_result"
    }
   ],
   "source": [
    "# Statisitcal preview of the dataframe \n",
    "df.describe()"
   ]
  },
  {
   "cell_type": "code",
   "execution_count": null,
   "metadata": {
    "colab": {
     "base_uri": "https://localhost:8080/",
     "height": 204
    },
    "executionInfo": {
     "elapsed": 354,
     "status": "ok",
     "timestamp": 1625427245665,
     "user": {
      "displayName": "Amr Abdelfattah",
      "photoUrl": "https://lh3.googleusercontent.com/a-/AOh14Gjnrgb9ioOFxjzGiSueHrdiXjLQzTeL08_lc7ty4lg=s64",
      "userId": "06550318102566356250"
     },
     "user_tz": -120
    },
    "id": "mIegsBTmGoF-",
    "outputId": "ee5b3b11-1be2-4834-8675-7ee5995131dc"
   },
   "outputs": [
    {
     "data": {
      "text/html": [
       "<div>\n",
       "<style scoped>\n",
       "    .dataframe tbody tr th:only-of-type {\n",
       "        vertical-align: middle;\n",
       "    }\n",
       "\n",
       "    .dataframe tbody tr th {\n",
       "        vertical-align: top;\n",
       "    }\n",
       "\n",
       "    .dataframe thead th {\n",
       "        text-align: right;\n",
       "    }\n",
       "</style>\n",
       "<table border=\"1\" class=\"dataframe\">\n",
       "  <thead>\n",
       "    <tr style=\"text-align: right;\">\n",
       "      <th></th>\n",
       "      <th>count</th>\n",
       "      <th>mean</th>\n",
       "      <th>std</th>\n",
       "      <th>min</th>\n",
       "      <th>25%</th>\n",
       "      <th>50%</th>\n",
       "      <th>75%</th>\n",
       "      <th>max</th>\n",
       "    </tr>\n",
       "  </thead>\n",
       "  <tbody>\n",
       "    <tr>\n",
       "      <th>DEPTH</th>\n",
       "      <td>9680.0</td>\n",
       "      <td>773.925016</td>\n",
       "      <td>419.177962</td>\n",
       "      <td>48.0000</td>\n",
       "      <td>410.9625</td>\n",
       "      <td>773.92500</td>\n",
       "      <td>1136.887575</td>\n",
       "      <td>1499.8501</td>\n",
       "    </tr>\n",
       "    <tr>\n",
       "      <th>RHOB</th>\n",
       "      <td>8253.0</td>\n",
       "      <td>1975.091074</td>\n",
       "      <td>294.677828</td>\n",
       "      <td>1350.4447</td>\n",
       "      <td>1812.4000</td>\n",
       "      <td>2096.34500</td>\n",
       "      <td>2210.906000</td>\n",
       "      <td>2346.6292</td>\n",
       "    </tr>\n",
       "    <tr>\n",
       "      <th>DT</th>\n",
       "      <td>9680.0</td>\n",
       "      <td>495.026839</td>\n",
       "      <td>50.861145</td>\n",
       "      <td>368.1147</td>\n",
       "      <td>460.6936</td>\n",
       "      <td>505.39340</td>\n",
       "      <td>521.642300</td>\n",
       "      <td>667.9208</td>\n",
       "    </tr>\n",
       "    <tr>\n",
       "      <th>GR</th>\n",
       "      <td>9666.0</td>\n",
       "      <td>46.613531</td>\n",
       "      <td>23.484662</td>\n",
       "      <td>1.3392</td>\n",
       "      <td>23.5270</td>\n",
       "      <td>48.76525</td>\n",
       "      <td>63.162950</td>\n",
       "      <td>129.1773</td>\n",
       "    </tr>\n",
       "    <tr>\n",
       "      <th>FACIES</th>\n",
       "      <td>9680.0</td>\n",
       "      <td>2.129132</td>\n",
       "      <td>1.009234</td>\n",
       "      <td>1.0000</td>\n",
       "      <td>1.0000</td>\n",
       "      <td>3.00000</td>\n",
       "      <td>3.000000</td>\n",
       "      <td>4.0000</td>\n",
       "    </tr>\n",
       "  </tbody>\n",
       "</table>\n",
       "</div>"
      ],
      "text/plain": [
       "         count         mean         std  ...         50%          75%        max\n",
       "DEPTH   9680.0   773.925016  419.177962  ...   773.92500  1136.887575  1499.8501\n",
       "RHOB    8253.0  1975.091074  294.677828  ...  2096.34500  2210.906000  2346.6292\n",
       "DT      9680.0   495.026839   50.861145  ...   505.39340   521.642300   667.9208\n",
       "GR      9666.0    46.613531   23.484662  ...    48.76525    63.162950   129.1773\n",
       "FACIES  9680.0     2.129132    1.009234  ...     3.00000     3.000000     4.0000\n",
       "\n",
       "[5 rows x 8 columns]"
      ]
     },
     "execution_count": 7,
     "metadata": {
      "tags": []
     },
     "output_type": "execute_result"
    }
   ],
   "source": [
    "# Statisitcal preview of the dataframe \n",
    "df.describe().T"
   ]
  },
  {
   "cell_type": "code",
   "execution_count": null,
   "metadata": {
    "colab": {
     "base_uri": "https://localhost:8080/",
     "height": 849
    },
    "executionInfo": {
     "elapsed": 46,
     "status": "ok",
     "timestamp": 1625427245667,
     "user": {
      "displayName": "Amr Abdelfattah",
      "photoUrl": "https://lh3.googleusercontent.com/a-/AOh14Gjnrgb9ioOFxjzGiSueHrdiXjLQzTeL08_lc7ty4lg=s64",
      "userId": "06550318102566356250"
     },
     "user_tz": -120
    },
    "id": "XFs5GinQ2Gwc",
    "outputId": "ffd7b0f7-acd5-440d-94eb-f1e16f84eb35"
   },
   "outputs": [
    {
     "data": {
      "application/vnd.google.colaboratory.intrinsic+json": {
       "type": "string"
      },
      "text/plain": [
       "'columns'"
      ]
     },
     "metadata": {
      "tags": []
     },
     "output_type": "display_data"
    },
    {
     "data": {
      "text/plain": [
       "Index(['DEPTH', 'RHOB', 'DT', 'GR', 'FACIES'], dtype='object')"
      ]
     },
     "metadata": {
      "tags": []
     },
     "output_type": "display_data"
    },
    {
     "name": "stdout",
     "output_type": "stream",
     "text": [
      "====================================================================================================\n"
     ]
    },
    {
     "data": {
      "application/vnd.google.colaboratory.intrinsic+json": {
       "type": "string"
      },
      "text/plain": [
       "'index'"
      ]
     },
     "metadata": {
      "tags": []
     },
     "output_type": "display_data"
    },
    {
     "data": {
      "text/plain": [
       "RangeIndex(start=0, stop=9680, step=1)"
      ]
     },
     "metadata": {
      "tags": []
     },
     "output_type": "display_data"
    },
    {
     "name": "stdout",
     "output_type": "stream",
     "text": [
      "====================================================================================================\n"
     ]
    },
    {
     "data": {
      "application/vnd.google.colaboratory.intrinsic+json": {
       "type": "string"
      },
      "text/plain": [
       "'column'"
      ]
     },
     "metadata": {
      "tags": []
     },
     "output_type": "display_data"
    },
    {
     "data": {
      "text/plain": [
       "0           NaN\n",
       "1           NaN\n",
       "2           NaN\n",
       "3           NaN\n",
       "4           NaN\n",
       "         ...   \n",
       "9675    27.6273\n",
       "9676    28.5281\n",
       "9677    28.5813\n",
       "9678    28.5813\n",
       "9679    27.9759\n",
       "Name: GR, Length: 9680, dtype: float64"
      ]
     },
     "metadata": {
      "tags": []
     },
     "output_type": "display_data"
    },
    {
     "name": "stdout",
     "output_type": "stream",
     "text": [
      "====================================================================================================\n"
     ]
    },
    {
     "data": {
      "application/vnd.google.colaboratory.intrinsic+json": {
       "type": "string"
      },
      "text/plain": [
       "'Depth and Facies columns'"
      ]
     },
     "metadata": {
      "tags": []
     },
     "output_type": "display_data"
    },
    {
     "data": {
      "text/html": [
       "<div>\n",
       "<style scoped>\n",
       "    .dataframe tbody tr th:only-of-type {\n",
       "        vertical-align: middle;\n",
       "    }\n",
       "\n",
       "    .dataframe tbody tr th {\n",
       "        vertical-align: top;\n",
       "    }\n",
       "\n",
       "    .dataframe thead th {\n",
       "        text-align: right;\n",
       "    }\n",
       "</style>\n",
       "<table border=\"1\" class=\"dataframe\">\n",
       "  <thead>\n",
       "    <tr style=\"text-align: right;\">\n",
       "      <th></th>\n",
       "      <th>DEPTH</th>\n",
       "      <th>FACIES</th>\n",
       "    </tr>\n",
       "  </thead>\n",
       "  <tbody>\n",
       "    <tr>\n",
       "      <th>0</th>\n",
       "      <td>48.0000</td>\n",
       "      <td>1</td>\n",
       "    </tr>\n",
       "    <tr>\n",
       "      <th>1</th>\n",
       "      <td>48.1500</td>\n",
       "      <td>1</td>\n",
       "    </tr>\n",
       "    <tr>\n",
       "      <th>2</th>\n",
       "      <td>48.3000</td>\n",
       "      <td>1</td>\n",
       "    </tr>\n",
       "    <tr>\n",
       "      <th>3</th>\n",
       "      <td>48.4500</td>\n",
       "      <td>1</td>\n",
       "    </tr>\n",
       "    <tr>\n",
       "      <th>4</th>\n",
       "      <td>48.6000</td>\n",
       "      <td>1</td>\n",
       "    </tr>\n",
       "    <tr>\n",
       "      <th>...</th>\n",
       "      <td>...</td>\n",
       "      <td>...</td>\n",
       "    </tr>\n",
       "    <tr>\n",
       "      <th>9675</th>\n",
       "      <td>1499.2500</td>\n",
       "      <td>1</td>\n",
       "    </tr>\n",
       "    <tr>\n",
       "      <th>9676</th>\n",
       "      <td>1499.4000</td>\n",
       "      <td>1</td>\n",
       "    </tr>\n",
       "    <tr>\n",
       "      <th>9677</th>\n",
       "      <td>1499.5500</td>\n",
       "      <td>1</td>\n",
       "    </tr>\n",
       "    <tr>\n",
       "      <th>9678</th>\n",
       "      <td>1499.7001</td>\n",
       "      <td>1</td>\n",
       "    </tr>\n",
       "    <tr>\n",
       "      <th>9679</th>\n",
       "      <td>1499.8501</td>\n",
       "      <td>1</td>\n",
       "    </tr>\n",
       "  </tbody>\n",
       "</table>\n",
       "<p>9680 rows × 2 columns</p>\n",
       "</div>"
      ],
      "text/plain": [
       "          DEPTH  FACIES\n",
       "0       48.0000       1\n",
       "1       48.1500       1\n",
       "2       48.3000       1\n",
       "3       48.4500       1\n",
       "4       48.6000       1\n",
       "...         ...     ...\n",
       "9675  1499.2500       1\n",
       "9676  1499.4000       1\n",
       "9677  1499.5500       1\n",
       "9678  1499.7001       1\n",
       "9679  1499.8501       1\n",
       "\n",
       "[9680 rows x 2 columns]"
      ]
     },
     "metadata": {
      "tags": []
     },
     "output_type": "display_data"
    },
    {
     "name": "stdout",
     "output_type": "stream",
     "text": [
      "====================================================================================================\n"
     ]
    },
    {
     "data": {
      "application/vnd.google.colaboratory.intrinsic+json": {
       "type": "string"
      },
      "text/plain": [
       "'unique FACIES'"
      ]
     },
     "metadata": {
      "tags": []
     },
     "output_type": "display_data"
    },
    {
     "data": {
      "text/plain": [
       "array([1, 2, 3, 4])"
      ]
     },
     "metadata": {
      "tags": []
     },
     "output_type": "display_data"
    },
    {
     "name": "stdout",
     "output_type": "stream",
     "text": [
      "====================================================================================================\n"
     ]
    }
   ],
   "source": [
    "# print columns and index\n",
    "display('columns',df.columns)\n",
    "print(\"=\" * 100)\n",
    "display('index',df.index)\n",
    "print(\"=\" * 100)\n",
    "display('column',df['GR']) # print column\n",
    "\n",
    "print(\"=\" * 100)\n",
    "display('Depth and Facies columns',df[['DEPTH','FACIES']]) # print two columns\n",
    "\n",
    "print(\"=\" * 100)\n",
    "# unique columns\n",
    "display('unique FACIES',df['FACIES'].unique())\n",
    "\n",
    "print(\"=\" * 100)\n"
   ]
  },
  {
   "cell_type": "code",
   "execution_count": null,
   "metadata": {
    "colab": {
     "base_uri": "https://localhost:8080/"
    },
    "executionInfo": {
     "elapsed": 46,
     "status": "ok",
     "timestamp": 1625427245670,
     "user": {
      "displayName": "Amr Abdelfattah",
      "photoUrl": "https://lh3.googleusercontent.com/a-/AOh14Gjnrgb9ioOFxjzGiSueHrdiXjLQzTeL08_lc7ty4lg=s64",
      "userId": "06550318102566356250"
     },
     "user_tz": -120
    },
    "id": "UutCnW_Ovklb",
    "outputId": "9819f1f6-c8e2-4844-fe90-0855fa71367f"
   },
   "outputs": [
    {
     "data": {
      "text/plain": [
       "(9680, 5)"
      ]
     },
     "execution_count": 9,
     "metadata": {
      "tags": []
     },
     "output_type": "execute_result"
    }
   ],
   "source": [
    "# Dataframe Shape \n",
    "df.shape"
   ]
  },
  {
   "cell_type": "code",
   "execution_count": null,
   "metadata": {
    "colab": {
     "base_uri": "https://localhost:8080/"
    },
    "executionInfo": {
     "elapsed": 41,
     "status": "ok",
     "timestamp": 1625427245671,
     "user": {
      "displayName": "Amr Abdelfattah",
      "photoUrl": "https://lh3.googleusercontent.com/a-/AOh14Gjnrgb9ioOFxjzGiSueHrdiXjLQzTeL08_lc7ty4lg=s64",
      "userId": "06550318102566356250"
     },
     "user_tz": -120
    },
    "id": "YA4s4w-FkcI-",
    "outputId": "f5689c6e-da36-412f-be35-96c3d2a3feed"
   },
   "outputs": [
    {
     "data": {
      "text/plain": [
       "5"
      ]
     },
     "execution_count": 10,
     "metadata": {
      "tags": []
     },
     "output_type": "execute_result"
    }
   ],
   "source": [
    "df.shape[-1]"
   ]
  },
  {
   "cell_type": "code",
   "execution_count": null,
   "metadata": {
    "colab": {
     "base_uri": "https://localhost:8080/"
    },
    "executionInfo": {
     "elapsed": 38,
     "status": "ok",
     "timestamp": 1625427245672,
     "user": {
      "displayName": "Amr Abdelfattah",
      "photoUrl": "https://lh3.googleusercontent.com/a-/AOh14Gjnrgb9ioOFxjzGiSueHrdiXjLQzTeL08_lc7ty4lg=s64",
      "userId": "06550318102566356250"
     },
     "user_tz": -120
    },
    "id": "kgNwrmF0vpLy",
    "outputId": "715cfc40-0ddc-4b27-fe33-78fba00fab98"
   },
   "outputs": [
    {
     "data": {
      "text/plain": [
       "524.019"
      ]
     },
     "execution_count": 11,
     "metadata": {
      "tags": []
     },
     "output_type": "execute_result"
    }
   ],
   "source": [
    "# Dataframe element access \n",
    "df.at[4,'DT']"
   ]
  },
  {
   "cell_type": "markdown",
   "metadata": {
    "id": "JVY3LcGV2Gwl"
   },
   "source": [
    "# **apply** operations over dataframe cells"
   ]
  },
  {
   "cell_type": "code",
   "execution_count": null,
   "metadata": {
    "colab": {
     "base_uri": "https://localhost:8080/",
     "height": 419
    },
    "executionInfo": {
     "elapsed": 37,
     "status": "ok",
     "timestamp": 1625427245674,
     "user": {
      "displayName": "Amr Abdelfattah",
      "photoUrl": "https://lh3.googleusercontent.com/a-/AOh14Gjnrgb9ioOFxjzGiSueHrdiXjLQzTeL08_lc7ty4lg=s64",
      "userId": "06550318102566356250"
     },
     "user_tz": -120
    },
    "id": "8G0sVCwC2Gwm",
    "outputId": "29b46792-2d6c-4dc8-e9b1-40db58ad5d42"
   },
   "outputs": [
    {
     "data": {
      "text/html": [
       "<div>\n",
       "<style scoped>\n",
       "    .dataframe tbody tr th:only-of-type {\n",
       "        vertical-align: middle;\n",
       "    }\n",
       "\n",
       "    .dataframe tbody tr th {\n",
       "        vertical-align: top;\n",
       "    }\n",
       "\n",
       "    .dataframe thead th {\n",
       "        text-align: right;\n",
       "    }\n",
       "</style>\n",
       "<table border=\"1\" class=\"dataframe\">\n",
       "  <thead>\n",
       "    <tr style=\"text-align: right;\">\n",
       "      <th></th>\n",
       "      <th>DEPTH</th>\n",
       "      <th>RHOB</th>\n",
       "      <th>DT</th>\n",
       "      <th>GR</th>\n",
       "      <th>FACIES</th>\n",
       "    </tr>\n",
       "  </thead>\n",
       "  <tbody>\n",
       "    <tr>\n",
       "      <th>0</th>\n",
       "      <td>48.0000</td>\n",
       "      <td>NaN</td>\n",
       "      <td>524.0485</td>\n",
       "      <td>NaN</td>\n",
       "      <td>1</td>\n",
       "    </tr>\n",
       "    <tr>\n",
       "      <th>1</th>\n",
       "      <td>48.1500</td>\n",
       "      <td>NaN</td>\n",
       "      <td>524.0410</td>\n",
       "      <td>NaN</td>\n",
       "      <td>1</td>\n",
       "    </tr>\n",
       "    <tr>\n",
       "      <th>2</th>\n",
       "      <td>48.3000</td>\n",
       "      <td>NaN</td>\n",
       "      <td>524.0336</td>\n",
       "      <td>NaN</td>\n",
       "      <td>1</td>\n",
       "    </tr>\n",
       "    <tr>\n",
       "      <th>3</th>\n",
       "      <td>48.4500</td>\n",
       "      <td>NaN</td>\n",
       "      <td>524.0262</td>\n",
       "      <td>NaN</td>\n",
       "      <td>1</td>\n",
       "    </tr>\n",
       "    <tr>\n",
       "      <th>4</th>\n",
       "      <td>48.6000</td>\n",
       "      <td>NaN</td>\n",
       "      <td>524.0190</td>\n",
       "      <td>NaN</td>\n",
       "      <td>1</td>\n",
       "    </tr>\n",
       "    <tr>\n",
       "      <th>...</th>\n",
       "      <td>...</td>\n",
       "      <td>...</td>\n",
       "      <td>...</td>\n",
       "      <td>...</td>\n",
       "      <td>...</td>\n",
       "    </tr>\n",
       "    <tr>\n",
       "      <th>9675</th>\n",
       "      <td>1499.2500</td>\n",
       "      <td>1787.5444</td>\n",
       "      <td>532.1727</td>\n",
       "      <td>27.6273</td>\n",
       "      <td>1</td>\n",
       "    </tr>\n",
       "    <tr>\n",
       "      <th>9676</th>\n",
       "      <td>1499.4000</td>\n",
       "      <td>1814.1691</td>\n",
       "      <td>534.8610</td>\n",
       "      <td>28.5281</td>\n",
       "      <td>1</td>\n",
       "    </tr>\n",
       "    <tr>\n",
       "      <th>9677</th>\n",
       "      <td>1499.5500</td>\n",
       "      <td>1861.6497</td>\n",
       "      <td>537.1902</td>\n",
       "      <td>28.5813</td>\n",
       "      <td>1</td>\n",
       "    </tr>\n",
       "    <tr>\n",
       "      <th>9678</th>\n",
       "      <td>1499.7001</td>\n",
       "      <td>1880.3978</td>\n",
       "      <td>537.2630</td>\n",
       "      <td>28.5813</td>\n",
       "      <td>1</td>\n",
       "    </tr>\n",
       "    <tr>\n",
       "      <th>9679</th>\n",
       "      <td>1499.8501</td>\n",
       "      <td>1856.3350</td>\n",
       "      <td>537.3831</td>\n",
       "      <td>27.9759</td>\n",
       "      <td>1</td>\n",
       "    </tr>\n",
       "  </tbody>\n",
       "</table>\n",
       "<p>9680 rows × 5 columns</p>\n",
       "</div>"
      ],
      "text/plain": [
       "          DEPTH       RHOB        DT       GR  FACIES\n",
       "0       48.0000        NaN  524.0485      NaN       1\n",
       "1       48.1500        NaN  524.0410      NaN       1\n",
       "2       48.3000        NaN  524.0336      NaN       1\n",
       "3       48.4500        NaN  524.0262      NaN       1\n",
       "4       48.6000        NaN  524.0190      NaN       1\n",
       "...         ...        ...       ...      ...     ...\n",
       "9675  1499.2500  1787.5444  532.1727  27.6273       1\n",
       "9676  1499.4000  1814.1691  534.8610  28.5281       1\n",
       "9677  1499.5500  1861.6497  537.1902  28.5813       1\n",
       "9678  1499.7001  1880.3978  537.2630  28.5813       1\n",
       "9679  1499.8501  1856.3350  537.3831  27.9759       1\n",
       "\n",
       "[9680 rows x 5 columns]"
      ]
     },
     "execution_count": 12,
     "metadata": {
      "tags": []
     },
     "output_type": "execute_result"
    }
   ],
   "source": [
    "# copy the data frame to another data frame \n",
    "df_copied =df.copy()\n",
    "\n",
    "df_copied"
   ]
  },
  {
   "cell_type": "code",
   "execution_count": null,
   "metadata": {
    "colab": {
     "base_uri": "https://localhost:8080/",
     "height": 222
    },
    "executionInfo": {
     "elapsed": 36,
     "status": "ok",
     "timestamp": 1625427245675,
     "user": {
      "displayName": "Amr Abdelfattah",
      "photoUrl": "https://lh3.googleusercontent.com/a-/AOh14Gjnrgb9ioOFxjzGiSueHrdiXjLQzTeL08_lc7ty4lg=s64",
      "userId": "06550318102566356250"
     },
     "user_tz": -120
    },
    "id": "zDTOemhf3YcR",
    "outputId": "97721cf8-5837-4e3d-b3b4-40cd331eb932"
   },
   "outputs": [
    {
     "data": {
      "application/vnd.google.colaboratory.intrinsic+json": {
       "type": "string"
      },
      "text/plain": [
       "'after FACIES column delete'"
      ]
     },
     "metadata": {
      "tags": []
     },
     "output_type": "display_data"
    },
    {
     "data": {
      "text/html": [
       "<div>\n",
       "<style scoped>\n",
       "    .dataframe tbody tr th:only-of-type {\n",
       "        vertical-align: middle;\n",
       "    }\n",
       "\n",
       "    .dataframe tbody tr th {\n",
       "        vertical-align: top;\n",
       "    }\n",
       "\n",
       "    .dataframe thead th {\n",
       "        text-align: right;\n",
       "    }\n",
       "</style>\n",
       "<table border=\"1\" class=\"dataframe\">\n",
       "  <thead>\n",
       "    <tr style=\"text-align: right;\">\n",
       "      <th></th>\n",
       "      <th>DEPTH</th>\n",
       "      <th>RHOB</th>\n",
       "      <th>DT</th>\n",
       "      <th>GR</th>\n",
       "    </tr>\n",
       "  </thead>\n",
       "  <tbody>\n",
       "    <tr>\n",
       "      <th>0</th>\n",
       "      <td>48.00</td>\n",
       "      <td>NaN</td>\n",
       "      <td>524.0485</td>\n",
       "      <td>NaN</td>\n",
       "    </tr>\n",
       "    <tr>\n",
       "      <th>1</th>\n",
       "      <td>48.15</td>\n",
       "      <td>NaN</td>\n",
       "      <td>524.0410</td>\n",
       "      <td>NaN</td>\n",
       "    </tr>\n",
       "    <tr>\n",
       "      <th>2</th>\n",
       "      <td>48.30</td>\n",
       "      <td>NaN</td>\n",
       "      <td>524.0336</td>\n",
       "      <td>NaN</td>\n",
       "    </tr>\n",
       "    <tr>\n",
       "      <th>3</th>\n",
       "      <td>48.45</td>\n",
       "      <td>NaN</td>\n",
       "      <td>524.0262</td>\n",
       "      <td>NaN</td>\n",
       "    </tr>\n",
       "    <tr>\n",
       "      <th>4</th>\n",
       "      <td>48.60</td>\n",
       "      <td>NaN</td>\n",
       "      <td>524.0190</td>\n",
       "      <td>NaN</td>\n",
       "    </tr>\n",
       "  </tbody>\n",
       "</table>\n",
       "</div>"
      ],
      "text/plain": [
       "   DEPTH  RHOB        DT  GR\n",
       "0  48.00   NaN  524.0485 NaN\n",
       "1  48.15   NaN  524.0410 NaN\n",
       "2  48.30   NaN  524.0336 NaN\n",
       "3  48.45   NaN  524.0262 NaN\n",
       "4  48.60   NaN  524.0190 NaN"
      ]
     },
     "metadata": {
      "tags": []
     },
     "output_type": "display_data"
    }
   ],
   "source": [
    "# delete column\n",
    "df_copied.drop(['FACIES'],inplace=True, axis= 1)\n",
    "display('after FACIES column delete',df_copied.head())"
   ]
  },
  {
   "cell_type": "code",
   "execution_count": null,
   "metadata": {
    "colab": {
     "base_uri": "https://localhost:8080/",
     "height": 419
    },
    "executionInfo": {
     "elapsed": 36,
     "status": "ok",
     "timestamp": 1625427245676,
     "user": {
      "displayName": "Amr Abdelfattah",
      "photoUrl": "https://lh3.googleusercontent.com/a-/AOh14Gjnrgb9ioOFxjzGiSueHrdiXjLQzTeL08_lc7ty4lg=s64",
      "userId": "06550318102566356250"
     },
     "user_tz": -120
    },
    "id": "hwm0TJLSx2kU",
    "outputId": "6289083b-71a7-4ea5-81f9-d15340e9a7b8"
   },
   "outputs": [
    {
     "data": {
      "text/html": [
       "<div>\n",
       "<style scoped>\n",
       "    .dataframe tbody tr th:only-of-type {\n",
       "        vertical-align: middle;\n",
       "    }\n",
       "\n",
       "    .dataframe tbody tr th {\n",
       "        vertical-align: top;\n",
       "    }\n",
       "\n",
       "    .dataframe thead th {\n",
       "        text-align: right;\n",
       "    }\n",
       "</style>\n",
       "<table border=\"1\" class=\"dataframe\">\n",
       "  <thead>\n",
       "    <tr style=\"text-align: right;\">\n",
       "      <th></th>\n",
       "      <th>DEPTH</th>\n",
       "      <th>GR</th>\n",
       "    </tr>\n",
       "  </thead>\n",
       "  <tbody>\n",
       "    <tr>\n",
       "      <th>200</th>\n",
       "      <td>78.0000</td>\n",
       "      <td>6.4524</td>\n",
       "    </tr>\n",
       "    <tr>\n",
       "      <th>201</th>\n",
       "      <td>78.1500</td>\n",
       "      <td>6.4524</td>\n",
       "    </tr>\n",
       "    <tr>\n",
       "      <th>202</th>\n",
       "      <td>78.3000</td>\n",
       "      <td>6.5950</td>\n",
       "    </tr>\n",
       "    <tr>\n",
       "      <th>203</th>\n",
       "      <td>78.4500</td>\n",
       "      <td>6.7183</td>\n",
       "    </tr>\n",
       "    <tr>\n",
       "      <th>204</th>\n",
       "      <td>78.6000</td>\n",
       "      <td>6.7401</td>\n",
       "    </tr>\n",
       "    <tr>\n",
       "      <th>...</th>\n",
       "      <td>...</td>\n",
       "      <td>...</td>\n",
       "    </tr>\n",
       "    <tr>\n",
       "      <th>9675</th>\n",
       "      <td>1499.2500</td>\n",
       "      <td>27.6273</td>\n",
       "    </tr>\n",
       "    <tr>\n",
       "      <th>9676</th>\n",
       "      <td>1499.4000</td>\n",
       "      <td>28.5281</td>\n",
       "    </tr>\n",
       "    <tr>\n",
       "      <th>9677</th>\n",
       "      <td>1499.5500</td>\n",
       "      <td>28.5813</td>\n",
       "    </tr>\n",
       "    <tr>\n",
       "      <th>9678</th>\n",
       "      <td>1499.7001</td>\n",
       "      <td>28.5813</td>\n",
       "    </tr>\n",
       "    <tr>\n",
       "      <th>9679</th>\n",
       "      <td>1499.8501</td>\n",
       "      <td>27.9759</td>\n",
       "    </tr>\n",
       "  </tbody>\n",
       "</table>\n",
       "<p>9480 rows × 2 columns</p>\n",
       "</div>"
      ],
      "text/plain": [
       "          DEPTH       GR\n",
       "200     78.0000   6.4524\n",
       "201     78.1500   6.4524\n",
       "202     78.3000   6.5950\n",
       "203     78.4500   6.7183\n",
       "204     78.6000   6.7401\n",
       "...         ...      ...\n",
       "9675  1499.2500  27.6273\n",
       "9676  1499.4000  28.5281\n",
       "9677  1499.5500  28.5813\n",
       "9678  1499.7001  28.5813\n",
       "9679  1499.8501  27.9759\n",
       "\n",
       "[9480 rows x 2 columns]"
      ]
     },
     "execution_count": 14,
     "metadata": {
      "tags": []
     },
     "output_type": "execute_result"
    }
   ],
   "source": [
    "# slice dataframe by loc method \n",
    "\n",
    "df_copied.loc[200:,['DEPTH', 'GR']]"
   ]
  },
  {
   "cell_type": "code",
   "execution_count": null,
   "metadata": {
    "colab": {
     "base_uri": "https://localhost:8080/"
    },
    "executionInfo": {
     "elapsed": 39,
     "status": "ok",
     "timestamp": 1625427245680,
     "user": {
      "displayName": "Amr Abdelfattah",
      "photoUrl": "https://lh3.googleusercontent.com/a-/AOh14Gjnrgb9ioOFxjzGiSueHrdiXjLQzTeL08_lc7ty4lg=s64",
      "userId": "06550318102566356250"
     },
     "user_tz": -120
    },
    "id": "mjml4o3syBIv",
    "outputId": "9f63e89d-03f8-4944-cd47-e5c76bab9432"
   },
   "outputs": [
    {
     "data": {
      "text/plain": [
       "(9680,)"
      ]
     },
     "execution_count": 15,
     "metadata": {
      "tags": []
     },
     "output_type": "execute_result"
    }
   ],
   "source": [
    "# Slice dataframe by column name \n",
    "df_copied.GR.shape"
   ]
  },
  {
   "cell_type": "code",
   "execution_count": null,
   "metadata": {
    "colab": {
     "base_uri": "https://localhost:8080/"
    },
    "executionInfo": {
     "elapsed": 36,
     "status": "ok",
     "timestamp": 1625427245681,
     "user": {
      "displayName": "Amr Abdelfattah",
      "photoUrl": "https://lh3.googleusercontent.com/a-/AOh14Gjnrgb9ioOFxjzGiSueHrdiXjLQzTeL08_lc7ty4lg=s64",
      "userId": "06550318102566356250"
     },
     "user_tz": -120
    },
    "id": "nAu__T5lyNh3",
    "outputId": "3adb492c-87bc-41a6-faa1-d4f395cd93c9"
   },
   "outputs": [
    {
     "data": {
      "text/plain": [
       "0           NaN\n",
       "1           NaN\n",
       "2           NaN\n",
       "3           NaN\n",
       "4           NaN\n",
       "         ...   \n",
       "9675    27.6273\n",
       "9676    28.5281\n",
       "9677    28.5813\n",
       "9678    28.5813\n",
       "9679    27.9759\n",
       "Name: GR, Length: 9680, dtype: float64"
      ]
     },
     "execution_count": 16,
     "metadata": {
      "tags": []
     },
     "output_type": "execute_result"
    }
   ],
   "source": [
    "df_copied['GR']"
   ]
  },
  {
   "cell_type": "code",
   "execution_count": null,
   "metadata": {
    "colab": {
     "base_uri": "https://localhost:8080/"
    },
    "executionInfo": {
     "elapsed": 359,
     "status": "ok",
     "timestamp": 1625427246007,
     "user": {
      "displayName": "Amr Abdelfattah",
      "photoUrl": "https://lh3.googleusercontent.com/a-/AOh14Gjnrgb9ioOFxjzGiSueHrdiXjLQzTeL08_lc7ty4lg=s64",
      "userId": "06550318102566356250"
     },
     "user_tz": -120
    },
    "id": "bAa8fabOyUpM",
    "outputId": "8e3acd67-6a36-4445-8f52-0c775e5b8383"
   },
   "outputs": [
    {
     "data": {
      "text/plain": [
       "6.4524"
      ]
     },
     "execution_count": 17,
     "metadata": {
      "tags": []
     },
     "output_type": "execute_result"
    }
   ],
   "source": [
    "df_copied['GR'][200]"
   ]
  },
  {
   "cell_type": "code",
   "execution_count": null,
   "metadata": {
    "colab": {
     "base_uri": "https://localhost:8080/",
     "height": 204
    },
    "executionInfo": {
     "elapsed": 45,
     "status": "ok",
     "timestamp": 1625427246009,
     "user": {
      "displayName": "Amr Abdelfattah",
      "photoUrl": "https://lh3.googleusercontent.com/a-/AOh14Gjnrgb9ioOFxjzGiSueHrdiXjLQzTeL08_lc7ty4lg=s64",
      "userId": "06550318102566356250"
     },
     "user_tz": -120
    },
    "id": "R8ex8ABV2Gwr",
    "outputId": "1ce8ab10-df82-4fb7-8481-6aae2db4b23d"
   },
   "outputs": [
    {
     "data": {
      "text/html": [
       "<div>\n",
       "<style scoped>\n",
       "    .dataframe tbody tr th:only-of-type {\n",
       "        vertical-align: middle;\n",
       "    }\n",
       "\n",
       "    .dataframe tbody tr th {\n",
       "        vertical-align: top;\n",
       "    }\n",
       "\n",
       "    .dataframe thead th {\n",
       "        text-align: right;\n",
       "    }\n",
       "</style>\n",
       "<table border=\"1\" class=\"dataframe\">\n",
       "  <thead>\n",
       "    <tr style=\"text-align: right;\">\n",
       "      <th></th>\n",
       "      <th>DEPTH</th>\n",
       "      <th>RHOB</th>\n",
       "      <th>DT</th>\n",
       "      <th>GR</th>\n",
       "      <th>Shale/SD</th>\n",
       "    </tr>\n",
       "  </thead>\n",
       "  <tbody>\n",
       "    <tr>\n",
       "      <th>3919</th>\n",
       "      <td>635.8500</td>\n",
       "      <td>2053.8589</td>\n",
       "      <td>547.6776</td>\n",
       "      <td>83.1870</td>\n",
       "      <td>SHALE</td>\n",
       "    </tr>\n",
       "    <tr>\n",
       "      <th>8104</th>\n",
       "      <td>1263.6001</td>\n",
       "      <td>2061.3315</td>\n",
       "      <td>498.2005</td>\n",
       "      <td>66.9056</td>\n",
       "      <td>SHALE</td>\n",
       "    </tr>\n",
       "    <tr>\n",
       "      <th>7432</th>\n",
       "      <td>1162.8000</td>\n",
       "      <td>2321.8347</td>\n",
       "      <td>395.5880</td>\n",
       "      <td>62.0047</td>\n",
       "      <td>SHALE</td>\n",
       "    </tr>\n",
       "    <tr>\n",
       "      <th>7124</th>\n",
       "      <td>1116.6001</td>\n",
       "      <td>2126.9204</td>\n",
       "      <td>448.7396</td>\n",
       "      <td>35.5447</td>\n",
       "      <td>SAND</td>\n",
       "    </tr>\n",
       "    <tr>\n",
       "      <th>5109</th>\n",
       "      <td>814.3500</td>\n",
       "      <td>2250.3462</td>\n",
       "      <td>434.4860</td>\n",
       "      <td>56.1790</td>\n",
       "      <td>SHALE</td>\n",
       "    </tr>\n",
       "  </tbody>\n",
       "</table>\n",
       "</div>"
      ],
      "text/plain": [
       "          DEPTH       RHOB        DT       GR Shale/SD\n",
       "3919   635.8500  2053.8589  547.6776  83.1870    SHALE\n",
       "8104  1263.6001  2061.3315  498.2005  66.9056    SHALE\n",
       "7432  1162.8000  2321.8347  395.5880  62.0047    SHALE\n",
       "7124  1116.6001  2126.9204  448.7396  35.5447     SAND\n",
       "5109   814.3500  2250.3462  434.4860  56.1790    SHALE"
      ]
     },
     "execution_count": 18,
     "metadata": {
      "tags": []
     },
     "output_type": "execute_result"
    }
   ],
   "source": [
    "# apply custom function\n",
    "def shale(A):\n",
    "    return 'SHALE' if A >=50 else 'SAND'\n",
    "\n",
    "    \n",
    "df_copied['Shale/SD']= df_copied['GR'].apply(shale)\n",
    "df_copied.sample(5)\n",
    "# quiz modify quiz to check if digits sum is even or odd"
   ]
  },
  {
   "cell_type": "markdown",
   "metadata": {
    "id": "lDG8JIT52Gwx"
   },
   "source": [
    "# Convert A Categorical Variable Into Dummy Variables"
   ]
  },
  {
   "cell_type": "code",
   "execution_count": null,
   "metadata": {
    "colab": {
     "base_uri": "https://localhost:8080/",
     "height": 204
    },
    "executionInfo": {
     "elapsed": 45,
     "status": "ok",
     "timestamp": 1625427246011,
     "user": {
      "displayName": "Amr Abdelfattah",
      "photoUrl": "https://lh3.googleusercontent.com/a-/AOh14Gjnrgb9ioOFxjzGiSueHrdiXjLQzTeL08_lc7ty4lg=s64",
      "userId": "06550318102566356250"
     },
     "user_tz": -120
    },
    "id": "yGVIs5yd2Gw4",
    "outputId": "8b437d58-26b2-4fff-b292-d3a1926890b0"
   },
   "outputs": [
    {
     "data": {
      "text/html": [
       "<div>\n",
       "<style scoped>\n",
       "    .dataframe tbody tr th:only-of-type {\n",
       "        vertical-align: middle;\n",
       "    }\n",
       "\n",
       "    .dataframe tbody tr th {\n",
       "        vertical-align: top;\n",
       "    }\n",
       "\n",
       "    .dataframe thead th {\n",
       "        text-align: right;\n",
       "    }\n",
       "</style>\n",
       "<table border=\"1\" class=\"dataframe\">\n",
       "  <thead>\n",
       "    <tr style=\"text-align: right;\">\n",
       "      <th></th>\n",
       "      <th>1</th>\n",
       "      <th>2</th>\n",
       "      <th>3</th>\n",
       "      <th>4</th>\n",
       "    </tr>\n",
       "  </thead>\n",
       "  <tbody>\n",
       "    <tr>\n",
       "      <th>1216</th>\n",
       "      <td>1</td>\n",
       "      <td>0</td>\n",
       "      <td>0</td>\n",
       "      <td>0</td>\n",
       "    </tr>\n",
       "    <tr>\n",
       "      <th>4304</th>\n",
       "      <td>0</td>\n",
       "      <td>0</td>\n",
       "      <td>0</td>\n",
       "      <td>1</td>\n",
       "    </tr>\n",
       "    <tr>\n",
       "      <th>7715</th>\n",
       "      <td>0</td>\n",
       "      <td>0</td>\n",
       "      <td>1</td>\n",
       "      <td>0</td>\n",
       "    </tr>\n",
       "    <tr>\n",
       "      <th>6437</th>\n",
       "      <td>0</td>\n",
       "      <td>0</td>\n",
       "      <td>1</td>\n",
       "      <td>0</td>\n",
       "    </tr>\n",
       "    <tr>\n",
       "      <th>1944</th>\n",
       "      <td>1</td>\n",
       "      <td>0</td>\n",
       "      <td>0</td>\n",
       "      <td>0</td>\n",
       "    </tr>\n",
       "  </tbody>\n",
       "</table>\n",
       "</div>"
      ],
      "text/plain": [
       "      1  2  3  4\n",
       "1216  1  0  0  0\n",
       "4304  0  0  0  1\n",
       "7715  0  0  1  0\n",
       "6437  0  0  1  0\n",
       "1944  1  0  0  0"
      ]
     },
     "execution_count": 19,
     "metadata": {
      "tags": []
     },
     "output_type": "execute_result"
    }
   ],
   "source": [
    "#@title\n",
    "# Create a set of dummy variables from the Facies variable\n",
    "df_dummy = pd.get_dummies(df['FACIES'])\n",
    "df_dummy.sample(5)"
   ]
  },
  {
   "cell_type": "code",
   "execution_count": null,
   "metadata": {
    "colab": {
     "base_uri": "https://localhost:8080/",
     "height": 514
    },
    "executionInfo": {
     "elapsed": 45,
     "status": "ok",
     "timestamp": 1625427246013,
     "user": {
      "displayName": "Amr Abdelfattah",
      "photoUrl": "https://lh3.googleusercontent.com/a-/AOh14Gjnrgb9ioOFxjzGiSueHrdiXjLQzTeL08_lc7ty4lg=s64",
      "userId": "06550318102566356250"
     },
     "user_tz": -120
    },
    "id": "7qJc7-MPU5iB",
    "outputId": "35c843b6-ebb3-4877-9e76-c4b580fc32e6"
   },
   "outputs": [
    {
     "data": {
      "text/html": [
       "<div>\n",
       "<style scoped>\n",
       "    .dataframe tbody tr th:only-of-type {\n",
       "        vertical-align: middle;\n",
       "    }\n",
       "\n",
       "    .dataframe tbody tr th {\n",
       "        vertical-align: top;\n",
       "    }\n",
       "\n",
       "    .dataframe thead th {\n",
       "        text-align: right;\n",
       "    }\n",
       "</style>\n",
       "<table border=\"1\" class=\"dataframe\">\n",
       "  <thead>\n",
       "    <tr style=\"text-align: right;\">\n",
       "      <th></th>\n",
       "      <th>SAND</th>\n",
       "      <th>SHALE</th>\n",
       "    </tr>\n",
       "  </thead>\n",
       "  <tbody>\n",
       "    <tr>\n",
       "      <th>9072</th>\n",
       "      <td>0</td>\n",
       "      <td>1</td>\n",
       "    </tr>\n",
       "    <tr>\n",
       "      <th>2188</th>\n",
       "      <td>1</td>\n",
       "      <td>0</td>\n",
       "    </tr>\n",
       "    <tr>\n",
       "      <th>569</th>\n",
       "      <td>1</td>\n",
       "      <td>0</td>\n",
       "    </tr>\n",
       "    <tr>\n",
       "      <th>3536</th>\n",
       "      <td>0</td>\n",
       "      <td>1</td>\n",
       "    </tr>\n",
       "    <tr>\n",
       "      <th>1216</th>\n",
       "      <td>1</td>\n",
       "      <td>0</td>\n",
       "    </tr>\n",
       "    <tr>\n",
       "      <th>3440</th>\n",
       "      <td>0</td>\n",
       "      <td>1</td>\n",
       "    </tr>\n",
       "    <tr>\n",
       "      <th>1148</th>\n",
       "      <td>1</td>\n",
       "      <td>0</td>\n",
       "    </tr>\n",
       "    <tr>\n",
       "      <th>8188</th>\n",
       "      <td>0</td>\n",
       "      <td>1</td>\n",
       "    </tr>\n",
       "    <tr>\n",
       "      <th>7493</th>\n",
       "      <td>0</td>\n",
       "      <td>1</td>\n",
       "    </tr>\n",
       "    <tr>\n",
       "      <th>3737</th>\n",
       "      <td>0</td>\n",
       "      <td>1</td>\n",
       "    </tr>\n",
       "    <tr>\n",
       "      <th>6425</th>\n",
       "      <td>0</td>\n",
       "      <td>1</td>\n",
       "    </tr>\n",
       "    <tr>\n",
       "      <th>4808</th>\n",
       "      <td>0</td>\n",
       "      <td>1</td>\n",
       "    </tr>\n",
       "    <tr>\n",
       "      <th>6703</th>\n",
       "      <td>0</td>\n",
       "      <td>1</td>\n",
       "    </tr>\n",
       "    <tr>\n",
       "      <th>8486</th>\n",
       "      <td>0</td>\n",
       "      <td>1</td>\n",
       "    </tr>\n",
       "    <tr>\n",
       "      <th>8747</th>\n",
       "      <td>0</td>\n",
       "      <td>1</td>\n",
       "    </tr>\n",
       "  </tbody>\n",
       "</table>\n",
       "</div>"
      ],
      "text/plain": [
       "      SAND  SHALE\n",
       "9072     0      1\n",
       "2188     1      0\n",
       "569      1      0\n",
       "3536     0      1\n",
       "1216     1      0\n",
       "3440     0      1\n",
       "1148     1      0\n",
       "8188     0      1\n",
       "7493     0      1\n",
       "3737     0      1\n",
       "6425     0      1\n",
       "4808     0      1\n",
       "6703     0      1\n",
       "8486     0      1\n",
       "8747     0      1"
      ]
     },
     "execution_count": 20,
     "metadata": {
      "tags": []
     },
     "output_type": "execute_result"
    }
   ],
   "source": [
    "df_dummy2 = pd.get_dummies(df_copied['Shale/SD'])\n",
    "df_dummy2.sample(15)"
   ]
  },
  {
   "cell_type": "markdown",
   "metadata": {
    "id": "bhdbNs5f2GxA"
   },
   "source": [
    "# Join And Merge Pandas Dataframe"
   ]
  },
  {
   "cell_type": "code",
   "execution_count": null,
   "metadata": {
    "colab": {
     "base_uri": "https://localhost:8080/",
     "height": 204
    },
    "executionInfo": {
     "elapsed": 44,
     "status": "ok",
     "timestamp": 1625427246013,
     "user": {
      "displayName": "Amr Abdelfattah",
      "photoUrl": "https://lh3.googleusercontent.com/a-/AOh14Gjnrgb9ioOFxjzGiSueHrdiXjLQzTeL08_lc7ty4lg=s64",
      "userId": "06550318102566356250"
     },
     "user_tz": -120
    },
    "id": "W5AF_UmD2Gw9",
    "outputId": "0c7102b9-6129-4b40-dfa1-b46d2e6edb65"
   },
   "outputs": [
    {
     "data": {
      "text/html": [
       "<div>\n",
       "<style scoped>\n",
       "    .dataframe tbody tr th:only-of-type {\n",
       "        vertical-align: middle;\n",
       "    }\n",
       "\n",
       "    .dataframe tbody tr th {\n",
       "        vertical-align: top;\n",
       "    }\n",
       "\n",
       "    .dataframe thead th {\n",
       "        text-align: right;\n",
       "    }\n",
       "</style>\n",
       "<table border=\"1\" class=\"dataframe\">\n",
       "  <thead>\n",
       "    <tr style=\"text-align: right;\">\n",
       "      <th></th>\n",
       "      <th>DEPTH</th>\n",
       "      <th>RHOB</th>\n",
       "      <th>DT</th>\n",
       "      <th>GR</th>\n",
       "      <th>FACIES</th>\n",
       "      <th>1</th>\n",
       "      <th>2</th>\n",
       "      <th>3</th>\n",
       "      <th>4</th>\n",
       "    </tr>\n",
       "  </thead>\n",
       "  <tbody>\n",
       "    <tr>\n",
       "      <th>4305</th>\n",
       "      <td>693.7500</td>\n",
       "      <td>1765.1025</td>\n",
       "      <td>496.4760</td>\n",
       "      <td>118.3049</td>\n",
       "      <td>4</td>\n",
       "      <td>0</td>\n",
       "      <td>0</td>\n",
       "      <td>0</td>\n",
       "      <td>1</td>\n",
       "    </tr>\n",
       "    <tr>\n",
       "      <th>2410</th>\n",
       "      <td>409.5000</td>\n",
       "      <td>1452.5699</td>\n",
       "      <td>507.7177</td>\n",
       "      <td>20.4027</td>\n",
       "      <td>1</td>\n",
       "      <td>1</td>\n",
       "      <td>0</td>\n",
       "      <td>0</td>\n",
       "      <td>0</td>\n",
       "    </tr>\n",
       "    <tr>\n",
       "      <th>9123</th>\n",
       "      <td>1416.4501</td>\n",
       "      <td>2144.9966</td>\n",
       "      <td>505.7065</td>\n",
       "      <td>56.0671</td>\n",
       "      <td>3</td>\n",
       "      <td>0</td>\n",
       "      <td>0</td>\n",
       "      <td>1</td>\n",
       "      <td>0</td>\n",
       "    </tr>\n",
       "    <tr>\n",
       "      <th>6296</th>\n",
       "      <td>992.4000</td>\n",
       "      <td>2273.6582</td>\n",
       "      <td>421.5374</td>\n",
       "      <td>51.1053</td>\n",
       "      <td>3</td>\n",
       "      <td>0</td>\n",
       "      <td>0</td>\n",
       "      <td>1</td>\n",
       "      <td>0</td>\n",
       "    </tr>\n",
       "    <tr>\n",
       "      <th>5767</th>\n",
       "      <td>913.0500</td>\n",
       "      <td>2229.3713</td>\n",
       "      <td>460.3817</td>\n",
       "      <td>54.3712</td>\n",
       "      <td>3</td>\n",
       "      <td>0</td>\n",
       "      <td>0</td>\n",
       "      <td>1</td>\n",
       "      <td>0</td>\n",
       "    </tr>\n",
       "  </tbody>\n",
       "</table>\n",
       "</div>"
      ],
      "text/plain": [
       "          DEPTH       RHOB        DT        GR  FACIES  1  2  3  4\n",
       "4305   693.7500  1765.1025  496.4760  118.3049       4  0  0  0  1\n",
       "2410   409.5000  1452.5699  507.7177   20.4027       1  1  0  0  0\n",
       "9123  1416.4501  2144.9966  505.7065   56.0671       3  0  0  1  0\n",
       "6296   992.4000  2273.6582  421.5374   51.1053       3  0  0  1  0\n",
       "5767   913.0500  2229.3713  460.3817   54.3712       3  0  0  1  0"
      ]
     },
     "execution_count": 21,
     "metadata": {
      "tags": []
     },
     "output_type": "execute_result"
    }
   ],
   "source": [
    "# Join the dummy variables to the main dataframe\n",
    "# Concat function ()\n",
    "df_new = pd.concat([df, df_dummy], axis=1)\n",
    "df_new.sample(5)"
   ]
  },
  {
   "cell_type": "markdown",
   "metadata": {
    "id": "mkNfAqSZ2Gxg"
   },
   "source": [
    "# Handle Missing Values"
   ]
  },
  {
   "cell_type": "code",
   "execution_count": null,
   "metadata": {
    "colab": {
     "base_uri": "https://localhost:8080/",
     "height": 419
    },
    "executionInfo": {
     "elapsed": 46,
     "status": "ok",
     "timestamp": 1625427246016,
     "user": {
      "displayName": "Amr Abdelfattah",
      "photoUrl": "https://lh3.googleusercontent.com/a-/AOh14Gjnrgb9ioOFxjzGiSueHrdiXjLQzTeL08_lc7ty4lg=s64",
      "userId": "06550318102566356250"
     },
     "user_tz": -120
    },
    "id": "I2ypMH695igV",
    "outputId": "19ddad4e-b4e3-4b0e-b734-82df6341f5ee"
   },
   "outputs": [
    {
     "data": {
      "text/html": [
       "<div>\n",
       "<style scoped>\n",
       "    .dataframe tbody tr th:only-of-type {\n",
       "        vertical-align: middle;\n",
       "    }\n",
       "\n",
       "    .dataframe tbody tr th {\n",
       "        vertical-align: top;\n",
       "    }\n",
       "\n",
       "    .dataframe thead th {\n",
       "        text-align: right;\n",
       "    }\n",
       "</style>\n",
       "<table border=\"1\" class=\"dataframe\">\n",
       "  <thead>\n",
       "    <tr style=\"text-align: right;\">\n",
       "      <th></th>\n",
       "      <th>DEPTH</th>\n",
       "      <th>RHOB</th>\n",
       "      <th>DT</th>\n",
       "      <th>GR</th>\n",
       "      <th>FACIES</th>\n",
       "    </tr>\n",
       "  </thead>\n",
       "  <tbody>\n",
       "    <tr>\n",
       "      <th>0</th>\n",
       "      <td>False</td>\n",
       "      <td>True</td>\n",
       "      <td>False</td>\n",
       "      <td>True</td>\n",
       "      <td>False</td>\n",
       "    </tr>\n",
       "    <tr>\n",
       "      <th>1</th>\n",
       "      <td>False</td>\n",
       "      <td>True</td>\n",
       "      <td>False</td>\n",
       "      <td>True</td>\n",
       "      <td>False</td>\n",
       "    </tr>\n",
       "    <tr>\n",
       "      <th>2</th>\n",
       "      <td>False</td>\n",
       "      <td>True</td>\n",
       "      <td>False</td>\n",
       "      <td>True</td>\n",
       "      <td>False</td>\n",
       "    </tr>\n",
       "    <tr>\n",
       "      <th>3</th>\n",
       "      <td>False</td>\n",
       "      <td>True</td>\n",
       "      <td>False</td>\n",
       "      <td>True</td>\n",
       "      <td>False</td>\n",
       "    </tr>\n",
       "    <tr>\n",
       "      <th>4</th>\n",
       "      <td>False</td>\n",
       "      <td>True</td>\n",
       "      <td>False</td>\n",
       "      <td>True</td>\n",
       "      <td>False</td>\n",
       "    </tr>\n",
       "    <tr>\n",
       "      <th>...</th>\n",
       "      <td>...</td>\n",
       "      <td>...</td>\n",
       "      <td>...</td>\n",
       "      <td>...</td>\n",
       "      <td>...</td>\n",
       "    </tr>\n",
       "    <tr>\n",
       "      <th>9675</th>\n",
       "      <td>False</td>\n",
       "      <td>False</td>\n",
       "      <td>False</td>\n",
       "      <td>False</td>\n",
       "      <td>False</td>\n",
       "    </tr>\n",
       "    <tr>\n",
       "      <th>9676</th>\n",
       "      <td>False</td>\n",
       "      <td>False</td>\n",
       "      <td>False</td>\n",
       "      <td>False</td>\n",
       "      <td>False</td>\n",
       "    </tr>\n",
       "    <tr>\n",
       "      <th>9677</th>\n",
       "      <td>False</td>\n",
       "      <td>False</td>\n",
       "      <td>False</td>\n",
       "      <td>False</td>\n",
       "      <td>False</td>\n",
       "    </tr>\n",
       "    <tr>\n",
       "      <th>9678</th>\n",
       "      <td>False</td>\n",
       "      <td>False</td>\n",
       "      <td>False</td>\n",
       "      <td>False</td>\n",
       "      <td>False</td>\n",
       "    </tr>\n",
       "    <tr>\n",
       "      <th>9679</th>\n",
       "      <td>False</td>\n",
       "      <td>False</td>\n",
       "      <td>False</td>\n",
       "      <td>False</td>\n",
       "      <td>False</td>\n",
       "    </tr>\n",
       "  </tbody>\n",
       "</table>\n",
       "<p>9680 rows × 5 columns</p>\n",
       "</div>"
      ],
      "text/plain": [
       "      DEPTH   RHOB     DT     GR  FACIES\n",
       "0     False   True  False   True   False\n",
       "1     False   True  False   True   False\n",
       "2     False   True  False   True   False\n",
       "3     False   True  False   True   False\n",
       "4     False   True  False   True   False\n",
       "...     ...    ...    ...    ...     ...\n",
       "9675  False  False  False  False   False\n",
       "9676  False  False  False  False   False\n",
       "9677  False  False  False  False   False\n",
       "9678  False  False  False  False   False\n",
       "9679  False  False  False  False   False\n",
       "\n",
       "[9680 rows x 5 columns]"
      ]
     },
     "execution_count": 22,
     "metadata": {
      "tags": []
     },
     "output_type": "execute_result"
    }
   ],
   "source": [
    "# Display NAN Values Summation\n",
    "df.isna()   #????????????"
   ]
  },
  {
   "cell_type": "markdown",
   "metadata": {
    "id": "okKp2aT3GI8-"
   },
   "source": [
    "**QUIZ:** calculate NAN values as percentage "
   ]
  },
  {
   "cell_type": "code",
   "execution_count": null,
   "metadata": {
    "colab": {
     "base_uri": "https://localhost:8080/"
    },
    "executionInfo": {
     "elapsed": 45,
     "status": "ok",
     "timestamp": 1625427246017,
     "user": {
      "displayName": "Amr Abdelfattah",
      "photoUrl": "https://lh3.googleusercontent.com/a-/AOh14Gjnrgb9ioOFxjzGiSueHrdiXjLQzTeL08_lc7ty4lg=s64",
      "userId": "06550318102566356250"
     },
     "user_tz": -120
    },
    "id": "j-dOtz7469QR",
    "outputId": "a1790927-c4b6-487b-e1c7-4d60373b202d"
   },
   "outputs": [
    {
     "data": {
      "text/plain": [
       "DEPTH      0.000000\n",
       "RHOB      14.741736\n",
       "DT         0.000000\n",
       "GR         0.144628\n",
       "FACIES     0.000000\n",
       "1          0.000000\n",
       "2          0.000000\n",
       "3          0.000000\n",
       "4          0.000000\n",
       "dtype: float64"
      ]
     },
     "execution_count": 23,
     "metadata": {
      "tags": []
     },
     "output_type": "execute_result"
    }
   ],
   "source": [
    "df_new.isna().sum()/ df_new.shape[0] *100"
   ]
  },
  {
   "cell_type": "code",
   "execution_count": null,
   "metadata": {
    "colab": {
     "base_uri": "https://localhost:8080/",
     "height": 437
    },
    "executionInfo": {
     "elapsed": 43,
     "status": "ok",
     "timestamp": 1625427246018,
     "user": {
      "displayName": "Amr Abdelfattah",
      "photoUrl": "https://lh3.googleusercontent.com/a-/AOh14Gjnrgb9ioOFxjzGiSueHrdiXjLQzTeL08_lc7ty4lg=s64",
      "userId": "06550318102566356250"
     },
     "user_tz": -120
    },
    "id": "YIsDfFNO2Gxh",
    "outputId": "90ab1ff5-6682-4dda-b608-5a6b386a8c86"
   },
   "outputs": [
    {
     "data": {
      "application/vnd.google.colaboratory.intrinsic+json": {
       "type": "string"
      },
      "text/plain": [
       "'after filling nans'"
      ]
     },
     "metadata": {
      "tags": []
     },
     "output_type": "display_data"
    },
    {
     "data": {
      "text/html": [
       "<div>\n",
       "<style scoped>\n",
       "    .dataframe tbody tr th:only-of-type {\n",
       "        vertical-align: middle;\n",
       "    }\n",
       "\n",
       "    .dataframe tbody tr th {\n",
       "        vertical-align: top;\n",
       "    }\n",
       "\n",
       "    .dataframe thead th {\n",
       "        text-align: right;\n",
       "    }\n",
       "</style>\n",
       "<table border=\"1\" class=\"dataframe\">\n",
       "  <thead>\n",
       "    <tr style=\"text-align: right;\">\n",
       "      <th></th>\n",
       "      <th>DEPTH</th>\n",
       "      <th>RHOB</th>\n",
       "      <th>DT</th>\n",
       "      <th>GR</th>\n",
       "      <th>FACIES</th>\n",
       "    </tr>\n",
       "  </thead>\n",
       "  <tbody>\n",
       "    <tr>\n",
       "      <th>0</th>\n",
       "      <td>48.0000</td>\n",
       "      <td>NaN</td>\n",
       "      <td>524.0485</td>\n",
       "      <td>46.613531</td>\n",
       "      <td>1</td>\n",
       "    </tr>\n",
       "    <tr>\n",
       "      <th>1</th>\n",
       "      <td>48.1500</td>\n",
       "      <td>NaN</td>\n",
       "      <td>524.0410</td>\n",
       "      <td>46.613531</td>\n",
       "      <td>1</td>\n",
       "    </tr>\n",
       "    <tr>\n",
       "      <th>2</th>\n",
       "      <td>48.3000</td>\n",
       "      <td>NaN</td>\n",
       "      <td>524.0336</td>\n",
       "      <td>46.613531</td>\n",
       "      <td>1</td>\n",
       "    </tr>\n",
       "    <tr>\n",
       "      <th>3</th>\n",
       "      <td>48.4500</td>\n",
       "      <td>NaN</td>\n",
       "      <td>524.0262</td>\n",
       "      <td>46.613531</td>\n",
       "      <td>1</td>\n",
       "    </tr>\n",
       "    <tr>\n",
       "      <th>4</th>\n",
       "      <td>48.6000</td>\n",
       "      <td>NaN</td>\n",
       "      <td>524.0190</td>\n",
       "      <td>46.613531</td>\n",
       "      <td>1</td>\n",
       "    </tr>\n",
       "    <tr>\n",
       "      <th>...</th>\n",
       "      <td>...</td>\n",
       "      <td>...</td>\n",
       "      <td>...</td>\n",
       "      <td>...</td>\n",
       "      <td>...</td>\n",
       "    </tr>\n",
       "    <tr>\n",
       "      <th>9675</th>\n",
       "      <td>1499.2500</td>\n",
       "      <td>1787.5444</td>\n",
       "      <td>532.1727</td>\n",
       "      <td>27.627300</td>\n",
       "      <td>1</td>\n",
       "    </tr>\n",
       "    <tr>\n",
       "      <th>9676</th>\n",
       "      <td>1499.4000</td>\n",
       "      <td>1814.1691</td>\n",
       "      <td>534.8610</td>\n",
       "      <td>28.528100</td>\n",
       "      <td>1</td>\n",
       "    </tr>\n",
       "    <tr>\n",
       "      <th>9677</th>\n",
       "      <td>1499.5500</td>\n",
       "      <td>1861.6497</td>\n",
       "      <td>537.1902</td>\n",
       "      <td>28.581300</td>\n",
       "      <td>1</td>\n",
       "    </tr>\n",
       "    <tr>\n",
       "      <th>9678</th>\n",
       "      <td>1499.7001</td>\n",
       "      <td>1880.3978</td>\n",
       "      <td>537.2630</td>\n",
       "      <td>28.581300</td>\n",
       "      <td>1</td>\n",
       "    </tr>\n",
       "    <tr>\n",
       "      <th>9679</th>\n",
       "      <td>1499.8501</td>\n",
       "      <td>1856.3350</td>\n",
       "      <td>537.3831</td>\n",
       "      <td>27.975900</td>\n",
       "      <td>1</td>\n",
       "    </tr>\n",
       "  </tbody>\n",
       "</table>\n",
       "<p>9680 rows × 5 columns</p>\n",
       "</div>"
      ],
      "text/plain": [
       "          DEPTH       RHOB        DT         GR  FACIES\n",
       "0       48.0000        NaN  524.0485  46.613531       1\n",
       "1       48.1500        NaN  524.0410  46.613531       1\n",
       "2       48.3000        NaN  524.0336  46.613531       1\n",
       "3       48.4500        NaN  524.0262  46.613531       1\n",
       "4       48.6000        NaN  524.0190  46.613531       1\n",
       "...         ...        ...       ...        ...     ...\n",
       "9675  1499.2500  1787.5444  532.1727  27.627300       1\n",
       "9676  1499.4000  1814.1691  534.8610  28.528100       1\n",
       "9677  1499.5500  1861.6497  537.1902  28.581300       1\n",
       "9678  1499.7001  1880.3978  537.2630  28.581300       1\n",
       "9679  1499.8501  1856.3350  537.3831  27.975900       1\n",
       "\n",
       "[9680 rows x 5 columns]"
      ]
     },
     "metadata": {
      "tags": []
     },
     "output_type": "display_data"
    }
   ],
   "source": [
    "# Fill in NA values by mean values \n",
    "df['GR']=df['GR'].fillna(df['GR'].mean())\n",
    "display('after filling nans',df)\n",
    "# we can also fill with median , min , max, fillna(method='ffill'),fillna(method='bfill')????"
   ]
  },
  {
   "cell_type": "code",
   "execution_count": null,
   "metadata": {
    "colab": {
     "base_uri": "https://localhost:8080/",
     "height": 437
    },
    "executionInfo": {
     "elapsed": 42,
     "status": "ok",
     "timestamp": 1625427246019,
     "user": {
      "displayName": "Amr Abdelfattah",
      "photoUrl": "https://lh3.googleusercontent.com/a-/AOh14Gjnrgb9ioOFxjzGiSueHrdiXjLQzTeL08_lc7ty4lg=s64",
      "userId": "06550318102566356250"
     },
     "user_tz": -120
    },
    "id": "Ek4OmW7gNLuf",
    "outputId": "2c653c39-a6a6-4b23-8423-19cfc3e4fe09"
   },
   "outputs": [
    {
     "data": {
      "application/vnd.google.colaboratory.intrinsic+json": {
       "type": "string"
      },
      "text/plain": [
       "'after filling nans'"
      ]
     },
     "metadata": {
      "tags": []
     },
     "output_type": "display_data"
    },
    {
     "data": {
      "text/html": [
       "<div>\n",
       "<style scoped>\n",
       "    .dataframe tbody tr th:only-of-type {\n",
       "        vertical-align: middle;\n",
       "    }\n",
       "\n",
       "    .dataframe tbody tr th {\n",
       "        vertical-align: top;\n",
       "    }\n",
       "\n",
       "    .dataframe thead th {\n",
       "        text-align: right;\n",
       "    }\n",
       "</style>\n",
       "<table border=\"1\" class=\"dataframe\">\n",
       "  <thead>\n",
       "    <tr style=\"text-align: right;\">\n",
       "      <th></th>\n",
       "      <th>DEPTH</th>\n",
       "      <th>RHOB</th>\n",
       "      <th>DT</th>\n",
       "      <th>GR</th>\n",
       "      <th>Shale/SD</th>\n",
       "    </tr>\n",
       "  </thead>\n",
       "  <tbody>\n",
       "    <tr>\n",
       "      <th>0</th>\n",
       "      <td>48.0000</td>\n",
       "      <td>NaN</td>\n",
       "      <td>524.0485</td>\n",
       "      <td>3.0703</td>\n",
       "      <td>SAND</td>\n",
       "    </tr>\n",
       "    <tr>\n",
       "      <th>1</th>\n",
       "      <td>48.1500</td>\n",
       "      <td>NaN</td>\n",
       "      <td>524.0410</td>\n",
       "      <td>3.0703</td>\n",
       "      <td>SAND</td>\n",
       "    </tr>\n",
       "    <tr>\n",
       "      <th>2</th>\n",
       "      <td>48.3000</td>\n",
       "      <td>NaN</td>\n",
       "      <td>524.0336</td>\n",
       "      <td>3.0703</td>\n",
       "      <td>SAND</td>\n",
       "    </tr>\n",
       "    <tr>\n",
       "      <th>3</th>\n",
       "      <td>48.4500</td>\n",
       "      <td>NaN</td>\n",
       "      <td>524.0262</td>\n",
       "      <td>3.0703</td>\n",
       "      <td>SAND</td>\n",
       "    </tr>\n",
       "    <tr>\n",
       "      <th>4</th>\n",
       "      <td>48.6000</td>\n",
       "      <td>NaN</td>\n",
       "      <td>524.0190</td>\n",
       "      <td>3.0703</td>\n",
       "      <td>SAND</td>\n",
       "    </tr>\n",
       "    <tr>\n",
       "      <th>...</th>\n",
       "      <td>...</td>\n",
       "      <td>...</td>\n",
       "      <td>...</td>\n",
       "      <td>...</td>\n",
       "      <td>...</td>\n",
       "    </tr>\n",
       "    <tr>\n",
       "      <th>9675</th>\n",
       "      <td>1499.2500</td>\n",
       "      <td>1787.5444</td>\n",
       "      <td>532.1727</td>\n",
       "      <td>27.6273</td>\n",
       "      <td>SAND</td>\n",
       "    </tr>\n",
       "    <tr>\n",
       "      <th>9676</th>\n",
       "      <td>1499.4000</td>\n",
       "      <td>1814.1691</td>\n",
       "      <td>534.8610</td>\n",
       "      <td>28.5281</td>\n",
       "      <td>SAND</td>\n",
       "    </tr>\n",
       "    <tr>\n",
       "      <th>9677</th>\n",
       "      <td>1499.5500</td>\n",
       "      <td>1861.6497</td>\n",
       "      <td>537.1902</td>\n",
       "      <td>28.5813</td>\n",
       "      <td>SAND</td>\n",
       "    </tr>\n",
       "    <tr>\n",
       "      <th>9678</th>\n",
       "      <td>1499.7001</td>\n",
       "      <td>1880.3978</td>\n",
       "      <td>537.2630</td>\n",
       "      <td>28.5813</td>\n",
       "      <td>SAND</td>\n",
       "    </tr>\n",
       "    <tr>\n",
       "      <th>9679</th>\n",
       "      <td>1499.8501</td>\n",
       "      <td>1856.3350</td>\n",
       "      <td>537.3831</td>\n",
       "      <td>27.9759</td>\n",
       "      <td>SAND</td>\n",
       "    </tr>\n",
       "  </tbody>\n",
       "</table>\n",
       "<p>9680 rows × 5 columns</p>\n",
       "</div>"
      ],
      "text/plain": [
       "          DEPTH       RHOB        DT       GR Shale/SD\n",
       "0       48.0000        NaN  524.0485   3.0703     SAND\n",
       "1       48.1500        NaN  524.0410   3.0703     SAND\n",
       "2       48.3000        NaN  524.0336   3.0703     SAND\n",
       "3       48.4500        NaN  524.0262   3.0703     SAND\n",
       "4       48.6000        NaN  524.0190   3.0703     SAND\n",
       "...         ...        ...       ...      ...      ...\n",
       "9675  1499.2500  1787.5444  532.1727  27.6273     SAND\n",
       "9676  1499.4000  1814.1691  534.8610  28.5281     SAND\n",
       "9677  1499.5500  1861.6497  537.1902  28.5813     SAND\n",
       "9678  1499.7001  1880.3978  537.2630  28.5813     SAND\n",
       "9679  1499.8501  1856.3350  537.3831  27.9759     SAND\n",
       "\n",
       "[9680 rows x 5 columns]"
      ]
     },
     "metadata": {
      "tags": []
     },
     "output_type": "display_data"
    }
   ],
   "source": [
    "# https://www.geeksforgeeks.org/python-pandas-dataframe-interpolate/\n",
    "# Fill in NA values using interpolate function\n",
    "df_copied['GR']=df_copied['GR'].interpolate(method ='linear', limit_direction ='backward')\n",
    "display('after filling nans',df_copied)\n"
   ]
  },
  {
   "cell_type": "code",
   "execution_count": null,
   "metadata": {
    "colab": {
     "base_uri": "https://localhost:8080/"
    },
    "executionInfo": {
     "elapsed": 42,
     "status": "ok",
     "timestamp": 1625427246020,
     "user": {
      "displayName": "Amr Abdelfattah",
      "photoUrl": "https://lh3.googleusercontent.com/a-/AOh14Gjnrgb9ioOFxjzGiSueHrdiXjLQzTeL08_lc7ty4lg=s64",
      "userId": "06550318102566356250"
     },
     "user_tz": -120
    },
    "id": "kkTRusT72Gxn",
    "outputId": "3b31a85b-33d4-435b-cbe0-8d496226aabc"
   },
   "outputs": [
    {
     "name": "stdout",
     "output_type": "stream",
     "text": [
      "original df = (9680, 5)\n",
      "after removing nans = (8253, 5)\n",
      "====================================================================================================\n",
      "This dataset has 8253 rows and 5 columns\n"
     ]
    }
   ],
   "source": [
    "# we may handle nans by dropping\n",
    "df_dropna = df_copied.copy()\n",
    "print('original df =',df_dropna.shape)\n",
    "df_dropna.dropna(inplace=True)\n",
    "print('after removing nans =',df_dropna.shape)\n",
    "print('=' *100)\n",
    "print('This dataset has {0} rows and {1} columns'.format(df_dropna.shape[0],df_dropna.shape[1]))"
   ]
  },
  {
   "cell_type": "code",
   "execution_count": null,
   "metadata": {
    "colab": {
     "base_uri": "https://localhost:8080/",
     "height": 80
    },
    "executionInfo": {
     "elapsed": 355,
     "status": "ok",
     "timestamp": 1625427246337,
     "user": {
      "displayName": "Amr Abdelfattah",
      "photoUrl": "https://lh3.googleusercontent.com/a-/AOh14Gjnrgb9ioOFxjzGiSueHrdiXjLQzTeL08_lc7ty4lg=s64",
      "userId": "06550318102566356250"
     },
     "user_tz": -120
    },
    "id": "p_Hiv758XG1x",
    "outputId": "a62b4861-5f8c-44c4-b1f5-a044b6d2783f"
   },
   "outputs": [
    {
     "data": {
      "text/html": [
       "<div>\n",
       "<style scoped>\n",
       "    .dataframe tbody tr th:only-of-type {\n",
       "        vertical-align: middle;\n",
       "    }\n",
       "\n",
       "    .dataframe tbody tr th {\n",
       "        vertical-align: top;\n",
       "    }\n",
       "\n",
       "    .dataframe thead th {\n",
       "        text-align: right;\n",
       "    }\n",
       "</style>\n",
       "<table border=\"1\" class=\"dataframe\">\n",
       "  <thead>\n",
       "    <tr style=\"text-align: right;\">\n",
       "      <th></th>\n",
       "      <th>DEPTH</th>\n",
       "      <th>RHOB</th>\n",
       "      <th>DT</th>\n",
       "      <th>GR</th>\n",
       "      <th>FACIES</th>\n",
       "    </tr>\n",
       "  </thead>\n",
       "  <tbody>\n",
       "    <tr>\n",
       "      <th>515</th>\n",
       "      <td>125.25</td>\n",
       "      <td>NaN</td>\n",
       "      <td>520.2468</td>\n",
       "      <td>23.3392</td>\n",
       "      <td>1</td>\n",
       "    </tr>\n",
       "  </tbody>\n",
       "</table>\n",
       "</div>"
      ],
      "text/plain": [
       "      DEPTH  RHOB        DT       GR  FACIES\n",
       "515  125.25   NaN  520.2468  23.3392       1"
      ]
     },
     "execution_count": 27,
     "metadata": {
      "tags": []
     },
     "output_type": "execute_result"
    }
   ],
   "source": [
    "newdf = df[df.DEPTH == 125.25]\n",
    "newdf.head()"
   ]
  },
  {
   "cell_type": "code",
   "execution_count": null,
   "metadata": {
    "colab": {
     "base_uri": "https://localhost:8080/",
     "height": 419
    },
    "executionInfo": {
     "elapsed": 58,
     "status": "ok",
     "timestamp": 1625427246338,
     "user": {
      "displayName": "Amr Abdelfattah",
      "photoUrl": "https://lh3.googleusercontent.com/a-/AOh14Gjnrgb9ioOFxjzGiSueHrdiXjLQzTeL08_lc7ty4lg=s64",
      "userId": "06550318102566356250"
     },
     "user_tz": -120
    },
    "id": "COXN-m_hayoZ",
    "outputId": "6696d36c-648f-4b16-f062-825faa12b3e1"
   },
   "outputs": [
    {
     "data": {
      "text/html": [
       "<div>\n",
       "<style scoped>\n",
       "    .dataframe tbody tr th:only-of-type {\n",
       "        vertical-align: middle;\n",
       "    }\n",
       "\n",
       "    .dataframe tbody tr th {\n",
       "        vertical-align: top;\n",
       "    }\n",
       "\n",
       "    .dataframe thead th {\n",
       "        text-align: right;\n",
       "    }\n",
       "</style>\n",
       "<table border=\"1\" class=\"dataframe\">\n",
       "  <thead>\n",
       "    <tr style=\"text-align: right;\">\n",
       "      <th></th>\n",
       "      <th>DEPTH</th>\n",
       "      <th>RHOB</th>\n",
       "      <th>DT</th>\n",
       "      <th>GR</th>\n",
       "      <th>FACIES</th>\n",
       "    </tr>\n",
       "  </thead>\n",
       "  <tbody>\n",
       "    <tr>\n",
       "      <th>514</th>\n",
       "      <td>125.1000</td>\n",
       "      <td>NaN</td>\n",
       "      <td>520.2542</td>\n",
       "      <td>23.3284</td>\n",
       "      <td>1</td>\n",
       "    </tr>\n",
       "    <tr>\n",
       "      <th>515</th>\n",
       "      <td>125.2500</td>\n",
       "      <td>NaN</td>\n",
       "      <td>520.2468</td>\n",
       "      <td>23.3392</td>\n",
       "      <td>1</td>\n",
       "    </tr>\n",
       "    <tr>\n",
       "      <th>516</th>\n",
       "      <td>125.4000</td>\n",
       "      <td>NaN</td>\n",
       "      <td>520.2394</td>\n",
       "      <td>23.3392</td>\n",
       "      <td>1</td>\n",
       "    </tr>\n",
       "    <tr>\n",
       "      <th>517</th>\n",
       "      <td>125.5500</td>\n",
       "      <td>NaN</td>\n",
       "      <td>520.2319</td>\n",
       "      <td>22.8231</td>\n",
       "      <td>1</td>\n",
       "    </tr>\n",
       "    <tr>\n",
       "      <th>518</th>\n",
       "      <td>125.7000</td>\n",
       "      <td>NaN</td>\n",
       "      <td>520.2245</td>\n",
       "      <td>21.2837</td>\n",
       "      <td>1</td>\n",
       "    </tr>\n",
       "    <tr>\n",
       "      <th>...</th>\n",
       "      <td>...</td>\n",
       "      <td>...</td>\n",
       "      <td>...</td>\n",
       "      <td>...</td>\n",
       "      <td>...</td>\n",
       "    </tr>\n",
       "    <tr>\n",
       "      <th>9675</th>\n",
       "      <td>1499.2500</td>\n",
       "      <td>1787.5444</td>\n",
       "      <td>532.1727</td>\n",
       "      <td>27.6273</td>\n",
       "      <td>1</td>\n",
       "    </tr>\n",
       "    <tr>\n",
       "      <th>9676</th>\n",
       "      <td>1499.4000</td>\n",
       "      <td>1814.1691</td>\n",
       "      <td>534.8610</td>\n",
       "      <td>28.5281</td>\n",
       "      <td>1</td>\n",
       "    </tr>\n",
       "    <tr>\n",
       "      <th>9677</th>\n",
       "      <td>1499.5500</td>\n",
       "      <td>1861.6497</td>\n",
       "      <td>537.1902</td>\n",
       "      <td>28.5813</td>\n",
       "      <td>1</td>\n",
       "    </tr>\n",
       "    <tr>\n",
       "      <th>9678</th>\n",
       "      <td>1499.7001</td>\n",
       "      <td>1880.3978</td>\n",
       "      <td>537.2630</td>\n",
       "      <td>28.5813</td>\n",
       "      <td>1</td>\n",
       "    </tr>\n",
       "    <tr>\n",
       "      <th>9679</th>\n",
       "      <td>1499.8501</td>\n",
       "      <td>1856.3350</td>\n",
       "      <td>537.3831</td>\n",
       "      <td>27.9759</td>\n",
       "      <td>1</td>\n",
       "    </tr>\n",
       "  </tbody>\n",
       "</table>\n",
       "<p>9166 rows × 5 columns</p>\n",
       "</div>"
      ],
      "text/plain": [
       "          DEPTH       RHOB        DT       GR  FACIES\n",
       "514    125.1000        NaN  520.2542  23.3284       1\n",
       "515    125.2500        NaN  520.2468  23.3392       1\n",
       "516    125.4000        NaN  520.2394  23.3392       1\n",
       "517    125.5500        NaN  520.2319  22.8231       1\n",
       "518    125.7000        NaN  520.2245  21.2837       1\n",
       "...         ...        ...       ...      ...     ...\n",
       "9675  1499.2500  1787.5444  532.1727  27.6273       1\n",
       "9676  1499.4000  1814.1691  534.8610  28.5281       1\n",
       "9677  1499.5500  1861.6497  537.1902  28.5813       1\n",
       "9678  1499.7001  1880.3978  537.2630  28.5813       1\n",
       "9679  1499.8501  1856.3350  537.3831  27.9759       1\n",
       "\n",
       "[9166 rows x 5 columns]"
      ]
     },
     "execution_count": 28,
     "metadata": {
      "tags": []
     },
     "output_type": "execute_result"
    }
   ],
   "source": [
    "newdf = df[df.DEPTH >= 125]\n",
    "newdf"
   ]
  },
  {
   "cell_type": "markdown",
   "metadata": {
    "id": "g_h_HpBW2Gxq"
   },
   "source": [
    "# Data Wrangling"
   ]
  },
  {
   "cell_type": "code",
   "execution_count": null,
   "metadata": {
    "colab": {
     "base_uri": "https://localhost:8080/",
     "height": 419
    },
    "executionInfo": {
     "elapsed": 55,
     "status": "ok",
     "timestamp": 1625427246339,
     "user": {
      "displayName": "Amr Abdelfattah",
      "photoUrl": "https://lh3.googleusercontent.com/a-/AOh14Gjnrgb9ioOFxjzGiSueHrdiXjLQzTeL08_lc7ty4lg=s64",
      "userId": "06550318102566356250"
     },
     "user_tz": -120
    },
    "id": "LODnO5TRAsww",
    "outputId": "22b51373-2043-4cb3-898a-5b0ed7ab4fe0"
   },
   "outputs": [
    {
     "data": {
      "text/html": [
       "<div>\n",
       "<style scoped>\n",
       "    .dataframe tbody tr th:only-of-type {\n",
       "        vertical-align: middle;\n",
       "    }\n",
       "\n",
       "    .dataframe tbody tr th {\n",
       "        vertical-align: top;\n",
       "    }\n",
       "\n",
       "    .dataframe thead th {\n",
       "        text-align: right;\n",
       "    }\n",
       "</style>\n",
       "<table border=\"1\" class=\"dataframe\">\n",
       "  <thead>\n",
       "    <tr style=\"text-align: right;\">\n",
       "      <th></th>\n",
       "      <th>DEPTH</th>\n",
       "      <th>RHOB</th>\n",
       "      <th>DT</th>\n",
       "      <th>GR</th>\n",
       "      <th>Shale/SD</th>\n",
       "    </tr>\n",
       "  </thead>\n",
       "  <tbody>\n",
       "    <tr>\n",
       "      <th>4314</th>\n",
       "      <td>695.10</td>\n",
       "      <td>1848.6597</td>\n",
       "      <td>508.0339</td>\n",
       "      <td>129.1773</td>\n",
       "      <td>SHALE</td>\n",
       "    </tr>\n",
       "    <tr>\n",
       "      <th>4315</th>\n",
       "      <td>695.25</td>\n",
       "      <td>1845.0472</td>\n",
       "      <td>506.0756</td>\n",
       "      <td>129.1773</td>\n",
       "      <td>SHALE</td>\n",
       "    </tr>\n",
       "    <tr>\n",
       "      <th>4316</th>\n",
       "      <td>695.40</td>\n",
       "      <td>1839.4297</td>\n",
       "      <td>508.8546</td>\n",
       "      <td>129.1773</td>\n",
       "      <td>SHALE</td>\n",
       "    </tr>\n",
       "    <tr>\n",
       "      <th>4317</th>\n",
       "      <td>695.55</td>\n",
       "      <td>1825.8594</td>\n",
       "      <td>510.3715</td>\n",
       "      <td>129.1773</td>\n",
       "      <td>SHALE</td>\n",
       "    </tr>\n",
       "    <tr>\n",
       "      <th>4318</th>\n",
       "      <td>695.70</td>\n",
       "      <td>1830.1001</td>\n",
       "      <td>515.6201</td>\n",
       "      <td>129.1773</td>\n",
       "      <td>SHALE</td>\n",
       "    </tr>\n",
       "    <tr>\n",
       "      <th>...</th>\n",
       "      <td>...</td>\n",
       "      <td>...</td>\n",
       "      <td>...</td>\n",
       "      <td>...</td>\n",
       "      <td>...</td>\n",
       "    </tr>\n",
       "    <tr>\n",
       "      <th>2622</th>\n",
       "      <td>441.30</td>\n",
       "      <td>1360.0488</td>\n",
       "      <td>519.8415</td>\n",
       "      <td>12.5939</td>\n",
       "      <td>SAND</td>\n",
       "    </tr>\n",
       "    <tr>\n",
       "      <th>2623</th>\n",
       "      <td>441.45</td>\n",
       "      <td>1358.9503</td>\n",
       "      <td>521.6799</td>\n",
       "      <td>12.2146</td>\n",
       "      <td>SAND</td>\n",
       "    </tr>\n",
       "    <tr>\n",
       "      <th>2624</th>\n",
       "      <td>441.60</td>\n",
       "      <td>1354.3234</td>\n",
       "      <td>523.4246</td>\n",
       "      <td>12.2146</td>\n",
       "      <td>SAND</td>\n",
       "    </tr>\n",
       "    <tr>\n",
       "      <th>2625</th>\n",
       "      <td>441.75</td>\n",
       "      <td>1350.4447</td>\n",
       "      <td>523.6125</td>\n",
       "      <td>12.2146</td>\n",
       "      <td>SAND</td>\n",
       "    </tr>\n",
       "    <tr>\n",
       "      <th>2626</th>\n",
       "      <td>441.90</td>\n",
       "      <td>1350.5763</td>\n",
       "      <td>520.0811</td>\n",
       "      <td>12.2146</td>\n",
       "      <td>SAND</td>\n",
       "    </tr>\n",
       "  </tbody>\n",
       "</table>\n",
       "<p>8253 rows × 5 columns</p>\n",
       "</div>"
      ],
      "text/plain": [
       "       DEPTH       RHOB        DT        GR Shale/SD\n",
       "4314  695.10  1848.6597  508.0339  129.1773    SHALE\n",
       "4315  695.25  1845.0472  506.0756  129.1773    SHALE\n",
       "4316  695.40  1839.4297  508.8546  129.1773    SHALE\n",
       "4317  695.55  1825.8594  510.3715  129.1773    SHALE\n",
       "4318  695.70  1830.1001  515.6201  129.1773    SHALE\n",
       "...      ...        ...       ...       ...      ...\n",
       "2622  441.30  1360.0488  519.8415   12.5939     SAND\n",
       "2623  441.45  1358.9503  521.6799   12.2146     SAND\n",
       "2624  441.60  1354.3234  523.4246   12.2146     SAND\n",
       "2625  441.75  1350.4447  523.6125   12.2146     SAND\n",
       "2626  441.90  1350.5763  520.0811   12.2146     SAND\n",
       "\n",
       "[8253 rows x 5 columns]"
      ]
     },
     "execution_count": 29,
     "metadata": {
      "tags": []
     },
     "output_type": "execute_result"
    }
   ],
   "source": [
    "# sort series by values of a column\n",
    "df_dropna.sort_values('GR', ascending= False )"
   ]
  },
  {
   "cell_type": "code",
   "execution_count": null,
   "metadata": {
    "colab": {
     "base_uri": "https://localhost:8080/"
    },
    "executionInfo": {
     "elapsed": 56,
     "status": "ok",
     "timestamp": 1625427246342,
     "user": {
      "displayName": "Amr Abdelfattah",
      "photoUrl": "https://lh3.googleusercontent.com/a-/AOh14Gjnrgb9ioOFxjzGiSueHrdiXjLQzTeL08_lc7ty4lg=s64",
      "userId": "06550318102566356250"
     },
     "user_tz": -120
    },
    "id": "9ZrhAKRoBNMm",
    "outputId": "4b8447dd-65c1-47c0-8ae6-b1688995f9b4"
   },
   "outputs": [
    {
     "data": {
      "text/plain": [
       "1427    1.998907e+03\n",
       "1428    3.988086e+03\n",
       "1429    5.973675e+03\n",
       "1430    7.981882e+03\n",
       "1431    1.000795e+04\n",
       "            ...     \n",
       "9675    1.629301e+07\n",
       "9676    1.629483e+07\n",
       "9677    1.629669e+07\n",
       "9678    1.629857e+07\n",
       "9679    1.630043e+07\n",
       "Name: RHOB, Length: 8253, dtype: float64"
      ]
     },
     "execution_count": 30,
     "metadata": {
      "tags": []
     },
     "output_type": "execute_result"
    }
   ],
   "source": [
    "# take cumulative summation of column\n",
    "df_dropna.RHOB.cumsum()"
   ]
  },
  {
   "cell_type": "code",
   "execution_count": null,
   "metadata": {
    "colab": {
     "base_uri": "https://localhost:8080/",
     "height": 419
    },
    "executionInfo": {
     "elapsed": 53,
     "status": "ok",
     "timestamp": 1625427246344,
     "user": {
      "displayName": "Amr Abdelfattah",
      "photoUrl": "https://lh3.googleusercontent.com/a-/AOh14Gjnrgb9ioOFxjzGiSueHrdiXjLQzTeL08_lc7ty4lg=s64",
      "userId": "06550318102566356250"
     },
     "user_tz": -120
    },
    "id": "xhVnll1QALZm",
    "outputId": "5a8d9e1e-3d92-4e02-c0b7-9f257ab4aa37"
   },
   "outputs": [
    {
     "data": {
      "text/html": [
       "<div>\n",
       "<style scoped>\n",
       "    .dataframe tbody tr th:only-of-type {\n",
       "        vertical-align: middle;\n",
       "    }\n",
       "\n",
       "    .dataframe tbody tr th {\n",
       "        vertical-align: top;\n",
       "    }\n",
       "\n",
       "    .dataframe thead th {\n",
       "        text-align: right;\n",
       "    }\n",
       "</style>\n",
       "<table border=\"1\" class=\"dataframe\">\n",
       "  <thead>\n",
       "    <tr style=\"text-align: right;\">\n",
       "      <th></th>\n",
       "      <th>DEPTH</th>\n",
       "      <th>RHOB</th>\n",
       "      <th>DT</th>\n",
       "      <th>GR</th>\n",
       "      <th>Shale/SD</th>\n",
       "      <th>OBP</th>\n",
       "    </tr>\n",
       "  </thead>\n",
       "  <tbody>\n",
       "    <tr>\n",
       "      <th>1427</th>\n",
       "      <td>262.0500</td>\n",
       "      <td>1998.9065</td>\n",
       "      <td>513.5145</td>\n",
       "      <td>20.8059</td>\n",
       "      <td>SAND</td>\n",
       "      <td>1.998907e+03</td>\n",
       "    </tr>\n",
       "    <tr>\n",
       "      <th>1428</th>\n",
       "      <td>262.2000</td>\n",
       "      <td>1989.1794</td>\n",
       "      <td>513.5073</td>\n",
       "      <td>21.1575</td>\n",
       "      <td>SAND</td>\n",
       "      <td>3.988086e+03</td>\n",
       "    </tr>\n",
       "    <tr>\n",
       "      <th>1429</th>\n",
       "      <td>262.3500</td>\n",
       "      <td>1985.5889</td>\n",
       "      <td>513.4998</td>\n",
       "      <td>21.3494</td>\n",
       "      <td>SAND</td>\n",
       "      <td>5.973675e+03</td>\n",
       "    </tr>\n",
       "    <tr>\n",
       "      <th>1430</th>\n",
       "      <td>262.5000</td>\n",
       "      <td>2008.2076</td>\n",
       "      <td>513.4924</td>\n",
       "      <td>21.1685</td>\n",
       "      <td>SAND</td>\n",
       "      <td>7.981882e+03</td>\n",
       "    </tr>\n",
       "    <tr>\n",
       "      <th>1431</th>\n",
       "      <td>262.6500</td>\n",
       "      <td>2026.0713</td>\n",
       "      <td>513.4849</td>\n",
       "      <td>21.1536</td>\n",
       "      <td>SAND</td>\n",
       "      <td>1.000795e+04</td>\n",
       "    </tr>\n",
       "    <tr>\n",
       "      <th>...</th>\n",
       "      <td>...</td>\n",
       "      <td>...</td>\n",
       "      <td>...</td>\n",
       "      <td>...</td>\n",
       "      <td>...</td>\n",
       "      <td>...</td>\n",
       "    </tr>\n",
       "    <tr>\n",
       "      <th>9675</th>\n",
       "      <td>1499.2500</td>\n",
       "      <td>1787.5444</td>\n",
       "      <td>532.1727</td>\n",
       "      <td>27.6273</td>\n",
       "      <td>SAND</td>\n",
       "      <td>1.629301e+07</td>\n",
       "    </tr>\n",
       "    <tr>\n",
       "      <th>9676</th>\n",
       "      <td>1499.4000</td>\n",
       "      <td>1814.1691</td>\n",
       "      <td>534.8610</td>\n",
       "      <td>28.5281</td>\n",
       "      <td>SAND</td>\n",
       "      <td>1.629483e+07</td>\n",
       "    </tr>\n",
       "    <tr>\n",
       "      <th>9677</th>\n",
       "      <td>1499.5500</td>\n",
       "      <td>1861.6497</td>\n",
       "      <td>537.1902</td>\n",
       "      <td>28.5813</td>\n",
       "      <td>SAND</td>\n",
       "      <td>1.629669e+07</td>\n",
       "    </tr>\n",
       "    <tr>\n",
       "      <th>9678</th>\n",
       "      <td>1499.7001</td>\n",
       "      <td>1880.3978</td>\n",
       "      <td>537.2630</td>\n",
       "      <td>28.5813</td>\n",
       "      <td>SAND</td>\n",
       "      <td>1.629857e+07</td>\n",
       "    </tr>\n",
       "    <tr>\n",
       "      <th>9679</th>\n",
       "      <td>1499.8501</td>\n",
       "      <td>1856.3350</td>\n",
       "      <td>537.3831</td>\n",
       "      <td>27.9759</td>\n",
       "      <td>SAND</td>\n",
       "      <td>1.630043e+07</td>\n",
       "    </tr>\n",
       "  </tbody>\n",
       "</table>\n",
       "<p>8253 rows × 6 columns</p>\n",
       "</div>"
      ],
      "text/plain": [
       "          DEPTH       RHOB        DT       GR Shale/SD           OBP\n",
       "1427   262.0500  1998.9065  513.5145  20.8059     SAND  1.998907e+03\n",
       "1428   262.2000  1989.1794  513.5073  21.1575     SAND  3.988086e+03\n",
       "1429   262.3500  1985.5889  513.4998  21.3494     SAND  5.973675e+03\n",
       "1430   262.5000  2008.2076  513.4924  21.1685     SAND  7.981882e+03\n",
       "1431   262.6500  2026.0713  513.4849  21.1536     SAND  1.000795e+04\n",
       "...         ...        ...       ...      ...      ...           ...\n",
       "9675  1499.2500  1787.5444  532.1727  27.6273     SAND  1.629301e+07\n",
       "9676  1499.4000  1814.1691  534.8610  28.5281     SAND  1.629483e+07\n",
       "9677  1499.5500  1861.6497  537.1902  28.5813     SAND  1.629669e+07\n",
       "9678  1499.7001  1880.3978  537.2630  28.5813     SAND  1.629857e+07\n",
       "9679  1499.8501  1856.3350  537.3831  27.9759     SAND  1.630043e+07\n",
       "\n",
       "[8253 rows x 6 columns]"
      ]
     },
     "execution_count": 31,
     "metadata": {
      "tags": []
     },
     "output_type": "execute_result"
    }
   ],
   "source": [
    "# add a new Cumulative summation of column\n",
    "df_dropna['OBP'] = df_dropna.RHOB.cumsum()\n",
    "df_dropna"
   ]
  },
  {
   "cell_type": "code",
   "execution_count": null,
   "metadata": {
    "colab": {
     "base_uri": "https://localhost:8080/",
     "height": 293
    },
    "executionInfo": {
     "elapsed": 300,
     "status": "ok",
     "timestamp": 1625427376028,
     "user": {
      "displayName": "Amr Abdelfattah",
      "photoUrl": "https://lh3.googleusercontent.com/a-/AOh14Gjnrgb9ioOFxjzGiSueHrdiXjLQzTeL08_lc7ty4lg=s64",
      "userId": "06550318102566356250"
     },
     "user_tz": -120
    },
    "id": "ZhCL49xVBu2G",
    "outputId": "4d73fcfc-7553-45f4-8396-655ba22a254b"
   },
   "outputs": [
    {
     "data": {
      "text/plain": [
       "<matplotlib.axes._subplots.AxesSubplot at 0x7f935c0d3690>"
      ]
     },
     "execution_count": 51,
     "metadata": {
      "tags": []
     },
     "output_type": "execute_result"
    },
    {
     "data": {
      "image/png": "[encoded data removed]",
      "text/plain": [
       "<Figure size 432x288 with 1 Axes>"
      ]
     },
     "metadata": {
      "needs_background": "light",
      "tags": []
     },
     "output_type": "display_data"
    }
   ],
   "source": [
    "df_dropna.OBP.plot()"
   ]
  },
  {
   "cell_type": "markdown",
   "metadata": {
    "id": "BTp76NWK2Gxr"
   },
   "source": [
    "### 1. Apply Functions By Group In Pandas"
   ]
  },
  {
   "cell_type": "code",
   "execution_count": null,
   "metadata": {
    "colab": {
     "base_uri": "https://localhost:8080/",
     "height": 142
    },
    "executionInfo": {
     "elapsed": 28,
     "status": "ok",
     "timestamp": 1625427246630,
     "user": {
      "displayName": "Amr Abdelfattah",
      "photoUrl": "https://lh3.googleusercontent.com/a-/AOh14Gjnrgb9ioOFxjzGiSueHrdiXjLQzTeL08_lc7ty4lg=s64",
      "userId": "06550318102566356250"
     },
     "user_tz": -120
    },
    "id": "7HHNgZwB2Gxv",
    "outputId": "e0abe3da-e292-4efd-9987-04d1d252d91f"
   },
   "outputs": [
    {
     "data": {
      "text/html": [
       "<div>\n",
       "<style scoped>\n",
       "    .dataframe tbody tr th:only-of-type {\n",
       "        vertical-align: middle;\n",
       "    }\n",
       "\n",
       "    .dataframe tbody tr th {\n",
       "        vertical-align: top;\n",
       "    }\n",
       "\n",
       "    .dataframe thead th {\n",
       "        text-align: right;\n",
       "    }\n",
       "</style>\n",
       "<table border=\"1\" class=\"dataframe\">\n",
       "  <thead>\n",
       "    <tr style=\"text-align: right;\">\n",
       "      <th></th>\n",
       "      <th>DEPTH</th>\n",
       "      <th>RHOB</th>\n",
       "      <th>DT</th>\n",
       "      <th>GR</th>\n",
       "      <th>OBP</th>\n",
       "    </tr>\n",
       "    <tr>\n",
       "      <th>Shale/SD</th>\n",
       "      <th></th>\n",
       "      <th></th>\n",
       "      <th></th>\n",
       "      <th></th>\n",
       "      <th></th>\n",
       "    </tr>\n",
       "  </thead>\n",
       "  <tbody>\n",
       "    <tr>\n",
       "      <th>SAND</th>\n",
       "      <td>1499.8501</td>\n",
       "      <td>2346.6292</td>\n",
       "      <td>667.9208</td>\n",
       "      <td>49.9999</td>\n",
       "      <td>1.630043e+07</td>\n",
       "    </tr>\n",
       "    <tr>\n",
       "      <th>SHALE</th>\n",
       "      <td>1486.6500</td>\n",
       "      <td>2323.7258</td>\n",
       "      <td>583.2413</td>\n",
       "      <td>129.1773</td>\n",
       "      <td>1.613019e+07</td>\n",
       "    </tr>\n",
       "  </tbody>\n",
       "</table>\n",
       "</div>"
      ],
      "text/plain": [
       "              DEPTH       RHOB        DT        GR           OBP\n",
       "Shale/SD                                                        \n",
       "SAND      1499.8501  2346.6292  667.9208   49.9999  1.630043e+07\n",
       "SHALE     1486.6500  2323.7258  583.2413  129.1773  1.613019e+07"
      ]
     },
     "execution_count": 33,
     "metadata": {
      "tags": []
     },
     "output_type": "execute_result"
    }
   ],
   "source": [
    "df_dropna.groupby(['Shale/SD']).max()\n",
    "# we can use also median , max , min"
   ]
  },
  {
   "cell_type": "code",
   "execution_count": null,
   "metadata": {
    "colab": {
     "base_uri": "https://localhost:8080/",
     "height": 142
    },
    "executionInfo": {
     "elapsed": 27,
     "status": "ok",
     "timestamp": 1625427246631,
     "user": {
      "displayName": "Amr Abdelfattah",
      "photoUrl": "https://lh3.googleusercontent.com/a-/AOh14Gjnrgb9ioOFxjzGiSueHrdiXjLQzTeL08_lc7ty4lg=s64",
      "userId": "06550318102566356250"
     },
     "user_tz": -120
    },
    "id": "xS6PCV40gD_o",
    "outputId": "9434b664-33fd-4149-b31d-e60977b24b11"
   },
   "outputs": [
    {
     "data": {
      "text/html": [
       "<div>\n",
       "<style scoped>\n",
       "    .dataframe tbody tr th:only-of-type {\n",
       "        vertical-align: middle;\n",
       "    }\n",
       "\n",
       "    .dataframe tbody tr th {\n",
       "        vertical-align: top;\n",
       "    }\n",
       "\n",
       "    .dataframe thead th {\n",
       "        text-align: right;\n",
       "    }\n",
       "</style>\n",
       "<table border=\"1\" class=\"dataframe\">\n",
       "  <thead>\n",
       "    <tr style=\"text-align: right;\">\n",
       "      <th></th>\n",
       "      <th>DEPTH</th>\n",
       "      <th>RHOB</th>\n",
       "      <th>DT</th>\n",
       "      <th>GR</th>\n",
       "      <th>OBP</th>\n",
       "    </tr>\n",
       "    <tr>\n",
       "      <th>Shale/SD</th>\n",
       "      <th></th>\n",
       "      <th></th>\n",
       "      <th></th>\n",
       "      <th></th>\n",
       "      <th></th>\n",
       "    </tr>\n",
       "  </thead>\n",
       "  <tbody>\n",
       "    <tr>\n",
       "      <th>SAND</th>\n",
       "      <td>262.05</td>\n",
       "      <td>1350.4447</td>\n",
       "      <td>368.1147</td>\n",
       "      <td>12.2146</td>\n",
       "      <td>1.998907e+03</td>\n",
       "    </tr>\n",
       "    <tr>\n",
       "      <th>SHALE</th>\n",
       "      <td>425.70</td>\n",
       "      <td>1584.4503</td>\n",
       "      <td>384.6243</td>\n",
       "      <td>50.0005</td>\n",
       "      <td>1.637829e+06</td>\n",
       "    </tr>\n",
       "  </tbody>\n",
       "</table>\n",
       "</div>"
      ],
      "text/plain": [
       "           DEPTH       RHOB        DT       GR           OBP\n",
       "Shale/SD                                                    \n",
       "SAND      262.05  1350.4447  368.1147  12.2146  1.998907e+03\n",
       "SHALE     425.70  1584.4503  384.6243  50.0005  1.637829e+06"
      ]
     },
     "execution_count": 34,
     "metadata": {
      "tags": []
     },
     "output_type": "execute_result"
    }
   ],
   "source": [
    "df_dropna.groupby(['Shale/SD']).min()\n",
    "# we can use also median , max , min"
   ]
  },
  {
   "cell_type": "markdown",
   "metadata": {
    "id": "wcwtFtd4IW7K"
   },
   "source": [
    "## Data Analysis\n"
   ]
  },
  {
   "cell_type": "code",
   "execution_count": null,
   "metadata": {
    "colab": {
     "base_uri": "https://localhost:8080/",
     "height": 204
    },
    "executionInfo": {
     "elapsed": 27,
     "status": "ok",
     "timestamp": 1625427246632,
     "user": {
      "displayName": "Amr Abdelfattah",
      "photoUrl": "https://lh3.googleusercontent.com/a-/AOh14Gjnrgb9ioOFxjzGiSueHrdiXjLQzTeL08_lc7ty4lg=s64",
      "userId": "06550318102566356250"
     },
     "user_tz": -120
    },
    "id": "FkxQbhTPIZ8X",
    "outputId": "75cdd97e-0468-4ecc-f30f-c9c72beb2a2a"
   },
   "outputs": [
    {
     "data": {
      "text/html": [
       "<div>\n",
       "<style scoped>\n",
       "    .dataframe tbody tr th:only-of-type {\n",
       "        vertical-align: middle;\n",
       "    }\n",
       "\n",
       "    .dataframe tbody tr th {\n",
       "        vertical-align: top;\n",
       "    }\n",
       "\n",
       "    .dataframe thead th {\n",
       "        text-align: right;\n",
       "    }\n",
       "</style>\n",
       "<table border=\"1\" class=\"dataframe\">\n",
       "  <thead>\n",
       "    <tr style=\"text-align: right;\">\n",
       "      <th></th>\n",
       "      <th>DEPTH</th>\n",
       "      <th>RHOB</th>\n",
       "      <th>DT</th>\n",
       "      <th>GR</th>\n",
       "      <th>OBP</th>\n",
       "    </tr>\n",
       "  </thead>\n",
       "  <tbody>\n",
       "    <tr>\n",
       "      <th>DEPTH</th>\n",
       "      <td>1.000000</td>\n",
       "      <td>0.583196</td>\n",
       "      <td>-0.366767</td>\n",
       "      <td>0.455097</td>\n",
       "      <td>0.998625</td>\n",
       "    </tr>\n",
       "    <tr>\n",
       "      <th>RHOB</th>\n",
       "      <td>0.583196</td>\n",
       "      <td>1.000000</td>\n",
       "      <td>-0.711299</td>\n",
       "      <td>0.632652</td>\n",
       "      <td>0.559707</td>\n",
       "    </tr>\n",
       "    <tr>\n",
       "      <th>DT</th>\n",
       "      <td>-0.366767</td>\n",
       "      <td>-0.711299</td>\n",
       "      <td>1.000000</td>\n",
       "      <td>-0.288375</td>\n",
       "      <td>-0.364274</td>\n",
       "    </tr>\n",
       "    <tr>\n",
       "      <th>GR</th>\n",
       "      <td>0.455097</td>\n",
       "      <td>0.632652</td>\n",
       "      <td>-0.288375</td>\n",
       "      <td>1.000000</td>\n",
       "      <td>0.431862</td>\n",
       "    </tr>\n",
       "    <tr>\n",
       "      <th>OBP</th>\n",
       "      <td>0.998625</td>\n",
       "      <td>0.559707</td>\n",
       "      <td>-0.364274</td>\n",
       "      <td>0.431862</td>\n",
       "      <td>1.000000</td>\n",
       "    </tr>\n",
       "  </tbody>\n",
       "</table>\n",
       "</div>"
      ],
      "text/plain": [
       "          DEPTH      RHOB        DT        GR       OBP\n",
       "DEPTH  1.000000  0.583196 -0.366767  0.455097  0.998625\n",
       "RHOB   0.583196  1.000000 -0.711299  0.632652  0.559707\n",
       "DT    -0.366767 -0.711299  1.000000 -0.288375 -0.364274\n",
       "GR     0.455097  0.632652 -0.288375  1.000000  0.431862\n",
       "OBP    0.998625  0.559707 -0.364274  0.431862  1.000000"
      ]
     },
     "execution_count": 35,
     "metadata": {
      "tags": []
     },
     "output_type": "execute_result"
    }
   ],
   "source": [
    "# Collrelation Matrix (Pearson correlation factor )\n",
    "df_dropna.corr()"
   ]
  },
  {
   "cell_type": "code",
   "execution_count": null,
   "metadata": {
    "colab": {
     "base_uri": "https://localhost:8080/",
     "height": 450
    },
    "executionInfo": {
     "elapsed": 26,
     "status": "ok",
     "timestamp": 1625427246634,
     "user": {
      "displayName": "Amr Abdelfattah",
      "photoUrl": "https://lh3.googleusercontent.com/a-/AOh14Gjnrgb9ioOFxjzGiSueHrdiXjLQzTeL08_lc7ty4lg=s64",
      "userId": "06550318102566356250"
     },
     "user_tz": -120
    },
    "id": "IT6eStfdihDk",
    "outputId": "049a93d8-267d-41f7-fb91-16c9276905b5"
   },
   "outputs": [
    {
     "data": {
      "text/html": [
       "<div>\n",
       "<style scoped>\n",
       "    .dataframe tbody tr th:only-of-type {\n",
       "        vertical-align: middle;\n",
       "    }\n",
       "\n",
       "    .dataframe tbody tr th {\n",
       "        vertical-align: top;\n",
       "    }\n",
       "\n",
       "    .dataframe thead th {\n",
       "        text-align: right;\n",
       "    }\n",
       "</style>\n",
       "<table border=\"1\" class=\"dataframe\">\n",
       "  <thead>\n",
       "    <tr style=\"text-align: right;\">\n",
       "      <th></th>\n",
       "      <th>RHOB</th>\n",
       "      <th>DT</th>\n",
       "      <th>GR</th>\n",
       "      <th>Shale/SD</th>\n",
       "    </tr>\n",
       "    <tr>\n",
       "      <th>DEPTH</th>\n",
       "      <th></th>\n",
       "      <th></th>\n",
       "      <th></th>\n",
       "      <th></th>\n",
       "    </tr>\n",
       "  </thead>\n",
       "  <tbody>\n",
       "    <tr>\n",
       "      <th>48.0000</th>\n",
       "      <td>NaN</td>\n",
       "      <td>524.0485</td>\n",
       "      <td>3.0703</td>\n",
       "      <td>SAND</td>\n",
       "    </tr>\n",
       "    <tr>\n",
       "      <th>48.1500</th>\n",
       "      <td>NaN</td>\n",
       "      <td>524.0410</td>\n",
       "      <td>3.0703</td>\n",
       "      <td>SAND</td>\n",
       "    </tr>\n",
       "    <tr>\n",
       "      <th>48.3000</th>\n",
       "      <td>NaN</td>\n",
       "      <td>524.0336</td>\n",
       "      <td>3.0703</td>\n",
       "      <td>SAND</td>\n",
       "    </tr>\n",
       "    <tr>\n",
       "      <th>48.4500</th>\n",
       "      <td>NaN</td>\n",
       "      <td>524.0262</td>\n",
       "      <td>3.0703</td>\n",
       "      <td>SAND</td>\n",
       "    </tr>\n",
       "    <tr>\n",
       "      <th>48.6000</th>\n",
       "      <td>NaN</td>\n",
       "      <td>524.0190</td>\n",
       "      <td>3.0703</td>\n",
       "      <td>SAND</td>\n",
       "    </tr>\n",
       "    <tr>\n",
       "      <th>...</th>\n",
       "      <td>...</td>\n",
       "      <td>...</td>\n",
       "      <td>...</td>\n",
       "      <td>...</td>\n",
       "    </tr>\n",
       "    <tr>\n",
       "      <th>1499.2500</th>\n",
       "      <td>1787.5444</td>\n",
       "      <td>532.1727</td>\n",
       "      <td>27.6273</td>\n",
       "      <td>SAND</td>\n",
       "    </tr>\n",
       "    <tr>\n",
       "      <th>1499.4000</th>\n",
       "      <td>1814.1691</td>\n",
       "      <td>534.8610</td>\n",
       "      <td>28.5281</td>\n",
       "      <td>SAND</td>\n",
       "    </tr>\n",
       "    <tr>\n",
       "      <th>1499.5500</th>\n",
       "      <td>1861.6497</td>\n",
       "      <td>537.1902</td>\n",
       "      <td>28.5813</td>\n",
       "      <td>SAND</td>\n",
       "    </tr>\n",
       "    <tr>\n",
       "      <th>1499.7001</th>\n",
       "      <td>1880.3978</td>\n",
       "      <td>537.2630</td>\n",
       "      <td>28.5813</td>\n",
       "      <td>SAND</td>\n",
       "    </tr>\n",
       "    <tr>\n",
       "      <th>1499.8501</th>\n",
       "      <td>1856.3350</td>\n",
       "      <td>537.3831</td>\n",
       "      <td>27.9759</td>\n",
       "      <td>SAND</td>\n",
       "    </tr>\n",
       "  </tbody>\n",
       "</table>\n",
       "<p>9680 rows × 4 columns</p>\n",
       "</div>"
      ],
      "text/plain": [
       "                RHOB        DT       GR Shale/SD\n",
       "DEPTH                                           \n",
       "48.0000          NaN  524.0485   3.0703     SAND\n",
       "48.1500          NaN  524.0410   3.0703     SAND\n",
       "48.3000          NaN  524.0336   3.0703     SAND\n",
       "48.4500          NaN  524.0262   3.0703     SAND\n",
       "48.6000          NaN  524.0190   3.0703     SAND\n",
       "...              ...       ...      ...      ...\n",
       "1499.2500  1787.5444  532.1727  27.6273     SAND\n",
       "1499.4000  1814.1691  534.8610  28.5281     SAND\n",
       "1499.5500  1861.6497  537.1902  28.5813     SAND\n",
       "1499.7001  1880.3978  537.2630  28.5813     SAND\n",
       "1499.8501  1856.3350  537.3831  27.9759     SAND\n",
       "\n",
       "[9680 rows x 4 columns]"
      ]
     },
     "execution_count": 36,
     "metadata": {
      "tags": []
     },
     "output_type": "execute_result"
    }
   ],
   "source": [
    "# Set Index\n",
    "df_copied.set_index('DEPTH', inplace= True)\n",
    "df_copied"
   ]
  },
  {
   "cell_type": "markdown",
   "metadata": {
    "id": "stSH1rEP2Gx6"
   },
   "source": [
    "## dealing with datetime"
   ]
  },
  {
   "cell_type": "code",
   "execution_count": null,
   "metadata": {
    "colab": {
     "base_uri": "https://localhost:8080/",
     "height": 204
    },
    "executionInfo": {
     "elapsed": 653,
     "status": "ok",
     "timestamp": 1625427247262,
     "user": {
      "displayName": "Amr Abdelfattah",
      "photoUrl": "https://lh3.googleusercontent.com/a-/AOh14Gjnrgb9ioOFxjzGiSueHrdiXjLQzTeL08_lc7ty4lg=s64",
      "userId": "06550318102566356250"
     },
     "user_tz": -120
    },
    "id": "xffO8q8b2Gx7",
    "outputId": "8f3c7e4b-7759-4a29-bb7e-45e06ebef771"
   },
   "outputs": [
    {
     "data": {
      "text/html": [
       "<div>\n",
       "<style scoped>\n",
       "    .dataframe tbody tr th:only-of-type {\n",
       "        vertical-align: middle;\n",
       "    }\n",
       "\n",
       "    .dataframe tbody tr th {\n",
       "        vertical-align: top;\n",
       "    }\n",
       "\n",
       "    .dataframe thead th {\n",
       "        text-align: right;\n",
       "    }\n",
       "</style>\n",
       "<table border=\"1\" class=\"dataframe\">\n",
       "  <thead>\n",
       "    <tr style=\"text-align: right;\">\n",
       "      <th></th>\n",
       "      <th>Formatted Date</th>\n",
       "      <th>Temperature (C)</th>\n",
       "      <th>Humidity</th>\n",
       "    </tr>\n",
       "  </thead>\n",
       "  <tbody>\n",
       "    <tr>\n",
       "      <th>0</th>\n",
       "      <td>2006-04-10 00:00:00.000 +0200</td>\n",
       "      <td>10.422222</td>\n",
       "      <td>0.62</td>\n",
       "    </tr>\n",
       "    <tr>\n",
       "      <th>1</th>\n",
       "      <td>2006-04-10 01:00:00.000 +0200</td>\n",
       "      <td>9.911111</td>\n",
       "      <td>0.66</td>\n",
       "    </tr>\n",
       "    <tr>\n",
       "      <th>2</th>\n",
       "      <td>2006-04-10 02:00:00.000 +0200</td>\n",
       "      <td>11.183333</td>\n",
       "      <td>0.80</td>\n",
       "    </tr>\n",
       "    <tr>\n",
       "      <th>3</th>\n",
       "      <td>2006-04-10 03:00:00.000 +0200</td>\n",
       "      <td>7.155556</td>\n",
       "      <td>0.79</td>\n",
       "    </tr>\n",
       "    <tr>\n",
       "      <th>4</th>\n",
       "      <td>2006-04-10 04:00:00.000 +0200</td>\n",
       "      <td>6.111111</td>\n",
       "      <td>0.82</td>\n",
       "    </tr>\n",
       "  </tbody>\n",
       "</table>\n",
       "</div>"
      ],
      "text/plain": [
       "                  Formatted Date  Temperature (C)  Humidity\n",
       "0  2006-04-10 00:00:00.000 +0200        10.422222      0.62\n",
       "1  2006-04-10 01:00:00.000 +0200         9.911111      0.66\n",
       "2  2006-04-10 02:00:00.000 +0200        11.183333      0.80\n",
       "3  2006-04-10 03:00:00.000 +0200         7.155556      0.79\n",
       "4  2006-04-10 04:00:00.000 +0200         6.111111      0.82"
      ]
     },
     "execution_count": 37,
     "metadata": {
      "tags": []
     },
     "output_type": "execute_result"
    }
   ],
   "source": [
    "weatherdf=pd.read_csv('/content/drive/My Drive/GeoML-1.0/Pandas_weather.csv')\n",
    "weatherdf.head()"
   ]
  },
  {
   "cell_type": "code",
   "execution_count": null,
   "metadata": {
    "colab": {
     "base_uri": "https://localhost:8080/"
    },
    "executionInfo": {
     "elapsed": 42,
     "status": "ok",
     "timestamp": 1625427247264,
     "user": {
      "displayName": "Amr Abdelfattah",
      "photoUrl": "https://lh3.googleusercontent.com/a-/AOh14Gjnrgb9ioOFxjzGiSueHrdiXjLQzTeL08_lc7ty4lg=s64",
      "userId": "06550318102566356250"
     },
     "user_tz": -120
    },
    "id": "H7Yayg492Gx-",
    "outputId": "2b871a66-5c81-4fa1-9f57-47097e805b85"
   },
   "outputs": [
    {
     "name": "stdout",
     "output_type": "stream",
     "text": [
      "<class 'pandas.core.frame.DataFrame'>\n",
      "RangeIndex: 96 entries, 0 to 95\n",
      "Data columns (total 3 columns):\n",
      " #   Column           Non-Null Count  Dtype  \n",
      "---  ------           --------------  -----  \n",
      " 0   Formatted Date   96 non-null     object \n",
      " 1   Temperature (C)  96 non-null     float64\n",
      " 2   Humidity         96 non-null     float64\n",
      "dtypes: float64(2), object(1)\n",
      "memory usage: 2.4+ KB\n"
     ]
    }
   ],
   "source": [
    "# we need to check date column type\n",
    "weatherdf.info()"
   ]
  },
  {
   "cell_type": "code",
   "execution_count": null,
   "metadata": {
    "id": "2PWWVRhAiKWO"
   },
   "outputs": [],
   "source": []
  },
  {
   "cell_type": "code",
   "execution_count": null,
   "metadata": {
    "colab": {
     "base_uri": "https://localhost:8080/"
    },
    "executionInfo": {
     "elapsed": 39,
     "status": "ok",
     "timestamp": 1625427247267,
     "user": {
      "displayName": "Amr Abdelfattah",
      "photoUrl": "https://lh3.googleusercontent.com/a-/AOh14Gjnrgb9ioOFxjzGiSueHrdiXjLQzTeL08_lc7ty4lg=s64",
      "userId": "06550318102566356250"
     },
     "user_tz": -120
    },
    "id": "_lQftm772GyA",
    "outputId": "f5d8cb7b-de26-40e6-c8a9-7bc0b6586b9f"
   },
   "outputs": [
    {
     "name": "stdout",
     "output_type": "stream",
     "text": [
      "<class 'pandas.core.frame.DataFrame'>\n",
      "RangeIndex: 96 entries, 0 to 95\n",
      "Data columns (total 3 columns):\n",
      " #   Column           Non-Null Count  Dtype                                \n",
      "---  ------           --------------  -----                                \n",
      " 0   Formatted Date   96 non-null     datetime64[ns, pytz.FixedOffset(120)]\n",
      " 1   Temperature (C)  96 non-null     float64                              \n",
      " 2   Humidity         96 non-null     float64                              \n",
      "dtypes: datetime64[ns, pytz.FixedOffset(120)](1), float64(2)\n",
      "memory usage: 2.4 KB\n"
     ]
    }
   ],
   "source": [
    "weatherdf['Formatted Date']=pd.to_datetime(weatherdf['Formatted Date'])\n",
    "weatherdf.info()"
   ]
  },
  {
   "cell_type": "code",
   "execution_count": null,
   "metadata": {
    "colab": {
     "base_uri": "https://localhost:8080/",
     "height": 297
    },
    "executionInfo": {
     "elapsed": 36,
     "status": "ok",
     "timestamp": 1625427247269,
     "user": {
      "displayName": "Amr Abdelfattah",
      "photoUrl": "https://lh3.googleusercontent.com/a-/AOh14Gjnrgb9ioOFxjzGiSueHrdiXjLQzTeL08_lc7ty4lg=s64",
      "userId": "06550318102566356250"
     },
     "user_tz": -120
    },
    "id": "TjMLy4hxiPpf",
    "outputId": "287f2aa0-2973-4c7d-f294-5fe93905dd43"
   },
   "outputs": [
    {
     "data": {
      "text/html": [
       "<div>\n",
       "<style scoped>\n",
       "    .dataframe tbody tr th:only-of-type {\n",
       "        vertical-align: middle;\n",
       "    }\n",
       "\n",
       "    .dataframe tbody tr th {\n",
       "        vertical-align: top;\n",
       "    }\n",
       "\n",
       "    .dataframe thead th {\n",
       "        text-align: right;\n",
       "    }\n",
       "</style>\n",
       "<table border=\"1\" class=\"dataframe\">\n",
       "  <thead>\n",
       "    <tr style=\"text-align: right;\">\n",
       "      <th></th>\n",
       "      <th>Temperature (C)</th>\n",
       "      <th>Humidity</th>\n",
       "    </tr>\n",
       "  </thead>\n",
       "  <tbody>\n",
       "    <tr>\n",
       "      <th>count</th>\n",
       "      <td>96.000000</td>\n",
       "      <td>96.000000</td>\n",
       "    </tr>\n",
       "    <tr>\n",
       "      <th>mean</th>\n",
       "      <td>10.611227</td>\n",
       "      <td>0.743333</td>\n",
       "    </tr>\n",
       "    <tr>\n",
       "      <th>std</th>\n",
       "      <td>4.189907</td>\n",
       "      <td>0.147973</td>\n",
       "    </tr>\n",
       "    <tr>\n",
       "      <th>min</th>\n",
       "      <td>5.438889</td>\n",
       "      <td>0.360000</td>\n",
       "    </tr>\n",
       "    <tr>\n",
       "      <th>25%</th>\n",
       "      <td>7.333333</td>\n",
       "      <td>0.667500</td>\n",
       "    </tr>\n",
       "    <tr>\n",
       "      <th>50%</th>\n",
       "      <td>9.061111</td>\n",
       "      <td>0.750000</td>\n",
       "    </tr>\n",
       "    <tr>\n",
       "      <th>75%</th>\n",
       "      <td>12.887500</td>\n",
       "      <td>0.840000</td>\n",
       "    </tr>\n",
       "    <tr>\n",
       "      <th>max</th>\n",
       "      <td>21.183333</td>\n",
       "      <td>0.990000</td>\n",
       "    </tr>\n",
       "  </tbody>\n",
       "</table>\n",
       "</div>"
      ],
      "text/plain": [
       "       Temperature (C)   Humidity\n",
       "count        96.000000  96.000000\n",
       "mean         10.611227   0.743333\n",
       "std           4.189907   0.147973\n",
       "min           5.438889   0.360000\n",
       "25%           7.333333   0.667500\n",
       "50%           9.061111   0.750000\n",
       "75%          12.887500   0.840000\n",
       "max          21.183333   0.990000"
      ]
     },
     "execution_count": 40,
     "metadata": {
      "tags": []
     },
     "output_type": "execute_result"
    }
   ],
   "source": [
    "weatherdf.describe()"
   ]
  },
  {
   "cell_type": "code",
   "execution_count": null,
   "metadata": {
    "colab": {
     "base_uri": "https://localhost:8080/",
     "height": 204
    },
    "executionInfo": {
     "elapsed": 36,
     "status": "ok",
     "timestamp": 1625427247270,
     "user": {
      "displayName": "Amr Abdelfattah",
      "photoUrl": "https://lh3.googleusercontent.com/a-/AOh14Gjnrgb9ioOFxjzGiSueHrdiXjLQzTeL08_lc7ty4lg=s64",
      "userId": "06550318102566356250"
     },
     "user_tz": -120
    },
    "id": "OfWdLXWm2GyD",
    "outputId": "fdd49ed9-02ff-4154-83b1-eb059c3a919b"
   },
   "outputs": [
    {
     "data": {
      "text/html": [
       "<div>\n",
       "<style scoped>\n",
       "    .dataframe tbody tr th:only-of-type {\n",
       "        vertical-align: middle;\n",
       "    }\n",
       "\n",
       "    .dataframe tbody tr th {\n",
       "        vertical-align: top;\n",
       "    }\n",
       "\n",
       "    .dataframe thead th {\n",
       "        text-align: right;\n",
       "    }\n",
       "</style>\n",
       "<table border=\"1\" class=\"dataframe\">\n",
       "  <thead>\n",
       "    <tr style=\"text-align: right;\">\n",
       "      <th></th>\n",
       "      <th>Formatted Date</th>\n",
       "      <th>Temperature (C)</th>\n",
       "      <th>Humidity</th>\n",
       "    </tr>\n",
       "  </thead>\n",
       "  <tbody>\n",
       "    <tr>\n",
       "      <th>0</th>\n",
       "      <td>2006-04-10 00:00:00+02:00</td>\n",
       "      <td>10.422222</td>\n",
       "      <td>0.62</td>\n",
       "    </tr>\n",
       "    <tr>\n",
       "      <th>1</th>\n",
       "      <td>2006-04-10 01:00:00+02:00</td>\n",
       "      <td>9.911111</td>\n",
       "      <td>0.66</td>\n",
       "    </tr>\n",
       "    <tr>\n",
       "      <th>2</th>\n",
       "      <td>2006-04-10 02:00:00+02:00</td>\n",
       "      <td>11.183333</td>\n",
       "      <td>0.80</td>\n",
       "    </tr>\n",
       "    <tr>\n",
       "      <th>3</th>\n",
       "      <td>2006-04-10 03:00:00+02:00</td>\n",
       "      <td>7.155556</td>\n",
       "      <td>0.79</td>\n",
       "    </tr>\n",
       "    <tr>\n",
       "      <th>4</th>\n",
       "      <td>2006-04-10 04:00:00+02:00</td>\n",
       "      <td>6.111111</td>\n",
       "      <td>0.82</td>\n",
       "    </tr>\n",
       "  </tbody>\n",
       "</table>\n",
       "</div>"
      ],
      "text/plain": [
       "             Formatted Date  Temperature (C)  Humidity\n",
       "0 2006-04-10 00:00:00+02:00        10.422222      0.62\n",
       "1 2006-04-10 01:00:00+02:00         9.911111      0.66\n",
       "2 2006-04-10 02:00:00+02:00        11.183333      0.80\n",
       "3 2006-04-10 03:00:00+02:00         7.155556      0.79\n",
       "4 2006-04-10 04:00:00+02:00         6.111111      0.82"
      ]
     },
     "execution_count": 41,
     "metadata": {
      "tags": []
     },
     "output_type": "execute_result"
    }
   ],
   "source": [
    "weatherdf.head()"
   ]
  },
  {
   "cell_type": "code",
   "execution_count": null,
   "metadata": {
    "colab": {
     "base_uri": "https://localhost:8080/",
     "height": 235
    },
    "executionInfo": {
     "elapsed": 36,
     "status": "ok",
     "timestamp": 1625427247271,
     "user": {
      "displayName": "Amr Abdelfattah",
      "photoUrl": "https://lh3.googleusercontent.com/a-/AOh14Gjnrgb9ioOFxjzGiSueHrdiXjLQzTeL08_lc7ty4lg=s64",
      "userId": "06550318102566356250"
     },
     "user_tz": -120
    },
    "id": "8BIanB_L2GyL",
    "outputId": "6a618649-b7e3-4125-a98d-f118c833b62f"
   },
   "outputs": [
    {
     "data": {
      "text/html": [
       "<div>\n",
       "<style scoped>\n",
       "    .dataframe tbody tr th:only-of-type {\n",
       "        vertical-align: middle;\n",
       "    }\n",
       "\n",
       "    .dataframe tbody tr th {\n",
       "        vertical-align: top;\n",
       "    }\n",
       "\n",
       "    .dataframe thead th {\n",
       "        text-align: right;\n",
       "    }\n",
       "</style>\n",
       "<table border=\"1\" class=\"dataframe\">\n",
       "  <thead>\n",
       "    <tr style=\"text-align: right;\">\n",
       "      <th></th>\n",
       "      <th>Temperature (C)</th>\n",
       "      <th>Humidity</th>\n",
       "    </tr>\n",
       "    <tr>\n",
       "      <th>Formatted Date</th>\n",
       "      <th></th>\n",
       "      <th></th>\n",
       "    </tr>\n",
       "  </thead>\n",
       "  <tbody>\n",
       "    <tr>\n",
       "      <th>2006-04-10 00:00:00+02:00</th>\n",
       "      <td>10.422222</td>\n",
       "      <td>0.62</td>\n",
       "    </tr>\n",
       "    <tr>\n",
       "      <th>2006-04-10 01:00:00+02:00</th>\n",
       "      <td>9.911111</td>\n",
       "      <td>0.66</td>\n",
       "    </tr>\n",
       "    <tr>\n",
       "      <th>2006-04-10 02:00:00+02:00</th>\n",
       "      <td>11.183333</td>\n",
       "      <td>0.80</td>\n",
       "    </tr>\n",
       "    <tr>\n",
       "      <th>2006-04-10 03:00:00+02:00</th>\n",
       "      <td>7.155556</td>\n",
       "      <td>0.79</td>\n",
       "    </tr>\n",
       "    <tr>\n",
       "      <th>2006-04-10 04:00:00+02:00</th>\n",
       "      <td>6.111111</td>\n",
       "      <td>0.82</td>\n",
       "    </tr>\n",
       "  </tbody>\n",
       "</table>\n",
       "</div>"
      ],
      "text/plain": [
       "                           Temperature (C)  Humidity\n",
       "Formatted Date                                      \n",
       "2006-04-10 00:00:00+02:00        10.422222      0.62\n",
       "2006-04-10 01:00:00+02:00         9.911111      0.66\n",
       "2006-04-10 02:00:00+02:00        11.183333      0.80\n",
       "2006-04-10 03:00:00+02:00         7.155556      0.79\n",
       "2006-04-10 04:00:00+02:00         6.111111      0.82"
      ]
     },
     "execution_count": 42,
     "metadata": {
      "tags": []
     },
     "output_type": "execute_result"
    }
   ],
   "source": [
    "# sometimes we need to make date is the dataframe index\n",
    "weatherdf.set_index('Formatted Date',inplace=True)\n",
    "weatherdf.head()"
   ]
  },
  {
   "cell_type": "code",
   "execution_count": null,
   "metadata": {
    "colab": {
     "base_uri": "https://localhost:8080/",
     "height": 204
    },
    "executionInfo": {
     "elapsed": 37,
     "status": "ok",
     "timestamp": 1625427247273,
     "user": {
      "displayName": "Amr Abdelfattah",
      "photoUrl": "https://lh3.googleusercontent.com/a-/AOh14Gjnrgb9ioOFxjzGiSueHrdiXjLQzTeL08_lc7ty4lg=s64",
      "userId": "06550318102566356250"
     },
     "user_tz": -120
    },
    "id": "pXyPueRZ2GyO",
    "outputId": "93d7109e-474d-4c7b-d24c-98d4580515d1",
    "scrolled": true
   },
   "outputs": [
    {
     "data": {
      "text/html": [
       "<div>\n",
       "<style scoped>\n",
       "    .dataframe tbody tr th:only-of-type {\n",
       "        vertical-align: middle;\n",
       "    }\n",
       "\n",
       "    .dataframe tbody tr th {\n",
       "        vertical-align: top;\n",
       "    }\n",
       "\n",
       "    .dataframe thead th {\n",
       "        text-align: right;\n",
       "    }\n",
       "</style>\n",
       "<table border=\"1\" class=\"dataframe\">\n",
       "  <thead>\n",
       "    <tr style=\"text-align: right;\">\n",
       "      <th></th>\n",
       "      <th>Temperature (C)</th>\n",
       "      <th>Humidity</th>\n",
       "    </tr>\n",
       "    <tr>\n",
       "      <th>Formatted Date</th>\n",
       "      <th></th>\n",
       "      <th></th>\n",
       "    </tr>\n",
       "  </thead>\n",
       "  <tbody>\n",
       "    <tr>\n",
       "      <th>2006-04-10 00:00:00+02:00</th>\n",
       "      <td>14.181481</td>\n",
       "      <td>0.600000</td>\n",
       "    </tr>\n",
       "    <tr>\n",
       "      <th>2006-04-11 00:00:00+02:00</th>\n",
       "      <td>12.374537</td>\n",
       "      <td>0.832083</td>\n",
       "    </tr>\n",
       "    <tr>\n",
       "      <th>2006-04-12 00:00:00+02:00</th>\n",
       "      <td>8.370602</td>\n",
       "      <td>0.805000</td>\n",
       "    </tr>\n",
       "    <tr>\n",
       "      <th>2006-04-13 00:00:00+02:00</th>\n",
       "      <td>7.518287</td>\n",
       "      <td>0.736250</td>\n",
       "    </tr>\n",
       "  </tbody>\n",
       "</table>\n",
       "</div>"
      ],
      "text/plain": [
       "                           Temperature (C)  Humidity\n",
       "Formatted Date                                      \n",
       "2006-04-10 00:00:00+02:00        14.181481  0.600000\n",
       "2006-04-11 00:00:00+02:00        12.374537  0.832083\n",
       "2006-04-12 00:00:00+02:00         8.370602  0.805000\n",
       "2006-04-13 00:00:00+02:00         7.518287  0.736250"
      ]
     },
     "metadata": {
      "tags": []
     },
     "output_type": "display_data"
    }
   ],
   "source": [
    "# making date as index will help us resample data\n",
    "dailydf=weatherdf.resample('D').mean() # get average of every day temperature and humidity\n",
    "display(dailydf)"
   ]
  },
  {
   "cell_type": "code",
   "execution_count": null,
   "metadata": {
    "colab": {
     "base_uri": "https://localhost:8080/",
     "height": 173
    },
    "executionInfo": {
     "elapsed": 36,
     "status": "ok",
     "timestamp": 1625427247274,
     "user": {
      "displayName": "Amr Abdelfattah",
      "photoUrl": "https://lh3.googleusercontent.com/a-/AOh14Gjnrgb9ioOFxjzGiSueHrdiXjLQzTeL08_lc7ty4lg=s64",
      "userId": "06550318102566356250"
     },
     "user_tz": -120
    },
    "id": "C1LlC1Jo2GyR",
    "outputId": "ec89a493-9c91-4a9e-9a25-b85a6f176209"
   },
   "outputs": [
    {
     "data": {
      "text/html": [
       "<div>\n",
       "<style scoped>\n",
       "    .dataframe tbody tr th:only-of-type {\n",
       "        vertical-align: middle;\n",
       "    }\n",
       "\n",
       "    .dataframe tbody tr th {\n",
       "        vertical-align: top;\n",
       "    }\n",
       "\n",
       "    .dataframe thead th {\n",
       "        text-align: right;\n",
       "    }\n",
       "</style>\n",
       "<table border=\"1\" class=\"dataframe\">\n",
       "  <thead>\n",
       "    <tr style=\"text-align: right;\">\n",
       "      <th></th>\n",
       "      <th>Temperature (C)</th>\n",
       "      <th>Humidity</th>\n",
       "    </tr>\n",
       "    <tr>\n",
       "      <th>Formatted Date</th>\n",
       "      <th></th>\n",
       "      <th></th>\n",
       "    </tr>\n",
       "  </thead>\n",
       "  <tbody>\n",
       "    <tr>\n",
       "      <th>2006-04-10 00:00:00+02:00</th>\n",
       "      <td>14.181481</td>\n",
       "      <td>0.600000</td>\n",
       "    </tr>\n",
       "    <tr>\n",
       "      <th>2006-04-11 00:00:00+02:00</th>\n",
       "      <td>12.374537</td>\n",
       "      <td>0.832083</td>\n",
       "    </tr>\n",
       "    <tr>\n",
       "      <th>2006-04-12 00:00:00+02:00</th>\n",
       "      <td>8.370602</td>\n",
       "      <td>0.805000</td>\n",
       "    </tr>\n",
       "  </tbody>\n",
       "</table>\n",
       "</div>"
      ],
      "text/plain": [
       "                           Temperature (C)  Humidity\n",
       "Formatted Date                                      \n",
       "2006-04-10 00:00:00+02:00        14.181481  0.600000\n",
       "2006-04-11 00:00:00+02:00        12.374537  0.832083\n",
       "2006-04-12 00:00:00+02:00         8.370602  0.805000"
      ]
     },
     "execution_count": 44,
     "metadata": {
      "tags": []
     },
     "output_type": "execute_result"
    }
   ],
   "source": [
    "# we can also select data between range\n",
    "dailydf['2006-04-10':'2006-04-12']"
   ]
  },
  {
   "cell_type": "markdown",
   "metadata": {
    "id": "RvAp5UMc6NlF"
   },
   "source": [
    "# Data Exporting "
   ]
  },
  {
   "cell_type": "code",
   "execution_count": null,
   "metadata": {
    "id": "MxeF-RTt6A-u"
   },
   "outputs": [],
   "source": [
    "#title Output data to a CSV file\n",
    "# Typically, I don't want row numbers in my output file, hence index=False.\n",
    "# To avoid character issues, use utf8 encoding for input/output.\n",
    "\n",
    "df.to_csv(\"H:\\output_filename.csv\", index=False, encoding='utf8')\n",
    "\n"
   ]
  },
  {
   "cell_type": "code",
   "execution_count": null,
   "metadata": {
    "colab": {
     "base_uri": "https://localhost:8080/"
    },
    "executionInfo": {
     "elapsed": 19,
     "status": "ok",
     "timestamp": 1625427247557,
     "user": {
      "displayName": "Amr Abdelfattah",
      "photoUrl": "https://lh3.googleusercontent.com/a-/AOh14Gjnrgb9ioOFxjzGiSueHrdiXjLQzTeL08_lc7ty4lg=s64",
      "userId": "06550318102566356250"
     },
     "user_tz": -120
    },
    "id": "FyfavfWWCCFX",
    "outputId": "d35ca9cd-d65b-43b1-d85b-f63241ab817d"
   },
   "outputs": [
    {
     "name": "stdout",
     "output_type": "stream",
     "text": [
      "Variable    Type         Data/Info\n",
      "----------------------------------\n",
      "dailydf     DataFrame                             <...>       7.518287  0.736250\n",
      "df          DataFrame              DEPTH       RHO<...>\\n[9680 rows x 5 columns]\n",
      "df_copied   DataFrame                    RHOB     <...>\\n[9680 rows x 4 columns]\n",
      "df_dropna   DataFrame              DEPTH       RHO<...>\\n[8253 rows x 6 columns]\n",
      "df_dummy    DataFrame          1  2  3  4\\n0     1<...>\\n[9680 rows x 4 columns]\n",
      "df_dummy2   DataFrame          SAND  SHALE\\n0     <...>\\n[9680 rows x 2 columns]\n",
      "df_new      DataFrame              DEPTH       RHO<...>\\n[9680 rows x 9 columns]\n",
      "display     function     <function display at 0x7f9380e5e3b0>\n",
      "drive       module       <module 'google.colab.dri<...>s/google/colab/drive.py'>\n",
      "newdf       DataFrame              DEPTH       RHO<...>\\n[9166 rows x 5 columns]\n",
      "np          module       <module 'numpy' from '/us<...>kages/numpy/__init__.py'>\n",
      "pd          module       <module 'pandas' from '/u<...>ages/pandas/__init__.py'>\n",
      "shale       function     <function shale at 0x7f935d4a2680>\n",
      "weatherdf   DataFrame                             <...>\\n\\n[96 rows x 2 columns]\n"
     ]
    }
   ],
   "source": [
    "%whos"
   ]
  }
 ],
 "metadata": {
  "colab": {
   "collapsed_sections": [],
   "name": "3.0 pandas-tutorial.ipynb",
   "provenance": []
  },
  "kernelspec": {
   "display_name": "Python 3 (ipykernel)",
   "language": "python",
   "name": "python3"
  },
  "language_info": {
   "codemirror_mode": {
    "name": "ipython",
    "version": 3
   },
   "file_extension": ".py",
   "mimetype": "text/x-python",
   "name": "python",
   "nbconvert_exporter": "python",
   "pygments_lexer": "ipython3",
   "version": "3.12.0"
  }
 },
 "nbformat": 4,
 "nbformat_minor": 4
}
